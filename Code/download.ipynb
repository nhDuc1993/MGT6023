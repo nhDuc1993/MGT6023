{
 "cells": [
  {
   "cell_type": "code",
   "execution_count": 39,
   "id": "28caca49-dd50-4cd6-b4c5-e45ce3e9fbab",
   "metadata": {},
   "outputs": [],
   "source": [
    "import pandas as pd\n",
    "import os\n",
    "\n",
    "import importlib\n",
    "import subprocess"
   ]
  },
  {
   "cell_type": "code",
   "execution_count": 38,
   "id": "0fd15169-777b-435c-bd91-4919bab6f358",
   "metadata": {
    "tags": []
   },
   "outputs": [],
   "source": [
    "try:\n",
    "    importlib.import_module('gdown')\n",
    "\n",
    "except ImportError:\n",
    "    subprocess.check_call(['pip', 'install', 'gdown'])\n",
    "\n",
    "import gdown"
   ]
  },
  {
   "cell_type": "code",
   "execution_count": 36,
   "id": "3399bd0b-16a3-4e2e-88f8-363b649af810",
   "metadata": {},
   "outputs": [],
   "source": [
    "def google_drive_download(file_id, file_name):\n",
    "    # Get download link\n",
    "    download_link = \"https://drive.google.com/uc?id=\" + file_id\n",
    "    \n",
    "    # Get file path\n",
    "    current_dir = os.getcwd()\n",
    "    parent_dir = os.path.dirname(current_dir)\n",
    "    file_path = os.path.join(parent_dir, 'Data',file_name)\n",
    "    \n",
    "    # Download\n",
    "    if not os.path.exists(file_path):\n",
    "        gdown.download(download_link, file_path, quiet=False)"
   ]
  },
  {
   "cell_type": "code",
   "execution_count": 37,
   "id": "8df23aa4-5269-4af4-84f5-0ae4e053a921",
   "metadata": {},
   "outputs": [],
   "source": [
    "if __name__ == \"__main__\":\n",
    "    google_drive_download(file_id, file_name)"
   ]
  }
 ],
 "metadata": {
  "kernelspec": {
   "display_name": "Python 3 (ipykernel)",
   "language": "python",
   "name": "python3"
  },
  "language_info": {
   "codemirror_mode": {
    "name": "ipython",
    "version": 3
   },
   "file_extension": ".py",
   "mimetype": "text/x-python",
   "name": "python",
   "nbconvert_exporter": "python",
   "pygments_lexer": "ipython3",
   "version": "3.10.9"
  }
 },
 "nbformat": 4,
 "nbformat_minor": 5
}
