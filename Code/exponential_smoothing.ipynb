{
 "cells": [
  {
   "cell_type": "markdown",
   "id": "569e4f73-be7e-419c-ac37-a569b2264dcd",
   "metadata": {},
   "source": [
    "# Table of Contents\n",
    "\n",
    "- [I. Import libraries](#I)\n",
    "- [II. Import data](#II)\n",
    "  - [1. Download data](#II.1)\n",
    "  - [2. Import data](#II.2)\n",
    "- [III. Clean data](#III)\n",
    "- [IV. Time series model: Exponential Smoothing](#IV)"
   ]
  },
  {
   "cell_type": "markdown",
   "id": "6b5e1776-f90b-4f09-a104-ff09e717392e",
   "metadata": {},
   "source": [
    "# I. Import libraries <a name=\"I\"></a>"
   ]
  },
  {
   "cell_type": "code",
<<<<<<< HEAD
   "execution_count": 8,
=======
   "execution_count": 7,
>>>>>>> a9b3790b70adaffdf2d392e67fd58b641f934927
   "id": "e0536fc6-8658-4a61-817e-3f269c345e99",
   "metadata": {},
   "outputs": [],
   "source": [
    "import pandas as pd\n",
    "import numpy as np\n",
    "import matplotlib.pyplot as plt\n",
    "import seaborn as sns\n",
    "\n",
    "import os \n",
    "import warnings\n",
    "\n",
    "from datetime import datetime, timedelta\n",
    "\n",
    "from sklearn.metrics import mean_squared_error, mean_absolute_error\n",
    "import statsmodels.api as sm\n",
    "from statsmodels.tsa.holtwinters import ExponentialSmoothing\n",
    "from statsmodels.tsa.exponential_smoothing.ets import ETSModel"
   ]
  },
  {
   "cell_type": "code",
   "execution_count": 9,
   "id": "6ad82e92-5e99-4c50-84d8-ab94044033b1",
   "metadata": {},
   "outputs": [],
   "source": [
    "# Turn off warnings\n",
    "warnings.filterwarnings(\"ignore\")\n",
    "\n",
    "# Set printed decimal limit\n",
    "np.set_printoptions(suppress=True)\n",
    "pd.set_option('display.float_format', '{:.2f}'.format)\n",
    "\n",
    "# Set plot theme\n",
    "plt.style.use('seaborn')\n",
    "plt.rcParams['figure.figsize'] = (16, 4)\n",
    "custom_colors = ['#512d6d', '#e6a2b4', '#6b7d96', '#b3cde0']\n",
    "plt.rcParams['axes.prop_cycle'] = plt.cycler(color=custom_colors)"
   ]
  },
  {
   "cell_type": "markdown",
   "id": "258b14ac-95c6-4449-9582-7460c5f57ef0",
   "metadata": {
    "tags": []
   },
   "source": [
    "# II. Import data <a name=\"II\"></a>"
   ]
  },
  {
   "cell_type": "markdown",
   "id": "8ad6d41f-3b2c-4eec-a986-8196cefb15f6",
   "metadata": {},
   "source": [
    "## 1. Download data  <a name=\"II.1\"></a>"
   ]
  },
  {
   "cell_type": "code",
   "execution_count": 10,
   "id": "3eed045c-6dab-4beb-9e07-d8eaafbb8a68",
   "metadata": {},
   "outputs": [],
   "source": [
    "file_id = \"1atOZX3YXmxx-_QebbTfndeC6U_DPTL2e\" # ID of the file on Google Drive\n",
    "file_name = 'Updated_data_2021&2022.csv'\n",
    "\n",
    "%run download.ipynb"
   ]
  },
  {
   "cell_type": "markdown",
   "id": "340ee809-38e9-4382-a2f4-c30098bd8c23",
   "metadata": {},
   "source": [
    "## 2. Import data <a name=\"II.2\"></a>"
   ]
  },
  {
   "cell_type": "code",
   "execution_count": 11,
   "id": "219c4eac-bdd3-4d04-8a20-ebf85a0cfbad",
   "metadata": {
    "tags": []
   },
   "outputs": [
    {
     "data": {
      "text/html": [
       "<div>\n",
       "<style scoped>\n",
       "    .dataframe tbody tr th:only-of-type {\n",
       "        vertical-align: middle;\n",
       "    }\n",
       "\n",
       "    .dataframe tbody tr th {\n",
       "        vertical-align: top;\n",
       "    }\n",
       "\n",
       "    .dataframe thead th {\n",
       "        text-align: right;\n",
       "    }\n",
       "</style>\n",
       "<table border=\"1\" class=\"dataframe\">\n",
       "  <thead>\n",
       "    <tr style=\"text-align: right;\">\n",
       "      <th></th>\n",
       "      <th>DATE_DIM</th>\n",
       "      <th>DAY_OF_WEEK</th>\n",
       "      <th>BET_ACCOUNT_NUM_HASH</th>\n",
       "      <th>AGE</th>\n",
       "      <th>AGE_BAND</th>\n",
       "      <th>GENDER</th>\n",
       "      <th>TENURE_IN_DAYS</th>\n",
       "      <th>RESIDENTIAL_STATE</th>\n",
       "      <th>FOB_RACING_TURNOVER</th>\n",
       "      <th>FOB_SPORT_TURNOVER</th>\n",
       "      <th>PARI_RACING_TURNOVER</th>\n",
       "      <th>PARI_SPORT_TURNOVER</th>\n",
       "      <th>TOTAL_TURNOVER</th>\n",
       "      <th>DIVIDENDS_PAID</th>\n",
       "      <th>GROSS_MARGIN</th>\n",
       "      <th>TICKETS</th>\n",
       "    </tr>\n",
       "  </thead>\n",
       "  <tbody>\n",
       "    <tr>\n",
       "      <th>0</th>\n",
       "      <td>2021-01-01</td>\n",
       "      <td>Fri</td>\n",
       "      <td>13154</td>\n",
       "      <td>67.00</td>\n",
       "      <td>65+</td>\n",
       "      <td>M</td>\n",
       "      <td>11846</td>\n",
       "      <td>WA</td>\n",
       "      <td>37.00</td>\n",
       "      <td>NaN</td>\n",
       "      <td>1081.00</td>\n",
       "      <td>NaN</td>\n",
       "      <td>1118.00</td>\n",
       "      <td>443.55</td>\n",
       "      <td>271.25</td>\n",
       "      <td>288</td>\n",
       "    </tr>\n",
       "    <tr>\n",
       "      <th>1</th>\n",
       "      <td>2021-01-01</td>\n",
       "      <td>Fri</td>\n",
       "      <td>18379</td>\n",
       "      <td>54.00</td>\n",
       "      <td>45-54</td>\n",
       "      <td>M</td>\n",
       "      <td>1884</td>\n",
       "      <td>WA</td>\n",
       "      <td>40.00</td>\n",
       "      <td>NaN</td>\n",
       "      <td>NaN</td>\n",
       "      <td>NaN</td>\n",
       "      <td>40.00</td>\n",
       "      <td>0.00</td>\n",
       "      <td>40.00</td>\n",
       "      <td>1</td>\n",
       "    </tr>\n",
       "    <tr>\n",
       "      <th>2</th>\n",
       "      <td>2021-01-01</td>\n",
       "      <td>Fri</td>\n",
       "      <td>559232</td>\n",
       "      <td>63.00</td>\n",
       "      <td>55-64</td>\n",
       "      <td>M</td>\n",
       "      <td>2866</td>\n",
       "      <td>WA</td>\n",
       "      <td>NaN</td>\n",
       "      <td>NaN</td>\n",
       "      <td>12.00</td>\n",
       "      <td>NaN</td>\n",
       "      <td>12.00</td>\n",
       "      <td>9.50</td>\n",
       "      <td>2.04</td>\n",
       "      <td>5</td>\n",
       "    </tr>\n",
       "    <tr>\n",
       "      <th>3</th>\n",
       "      <td>2021-01-01</td>\n",
       "      <td>Fri</td>\n",
       "      <td>698904</td>\n",
       "      <td>69.00</td>\n",
       "      <td>65+</td>\n",
       "      <td>M</td>\n",
       "      <td>2100</td>\n",
       "      <td>WA</td>\n",
       "      <td>NaN</td>\n",
       "      <td>NaN</td>\n",
       "      <td>1223.50</td>\n",
       "      <td>NaN</td>\n",
       "      <td>1223.50</td>\n",
       "      <td>267.91</td>\n",
       "      <td>245.12</td>\n",
       "      <td>40</td>\n",
       "    </tr>\n",
       "    <tr>\n",
       "      <th>4</th>\n",
       "      <td>2021-01-01</td>\n",
       "      <td>Fri</td>\n",
       "      <td>762921</td>\n",
       "      <td>67.00</td>\n",
       "      <td>65+</td>\n",
       "      <td>M</td>\n",
       "      <td>4766</td>\n",
       "      <td>WA</td>\n",
       "      <td>NaN</td>\n",
       "      <td>NaN</td>\n",
       "      <td>17.50</td>\n",
       "      <td>NaN</td>\n",
       "      <td>17.50</td>\n",
       "      <td>0.00</td>\n",
       "      <td>3.50</td>\n",
       "      <td>5</td>\n",
       "    </tr>\n",
       "  </tbody>\n",
       "</table>\n",
       "</div>"
      ],
      "text/plain": [
       "     DATE_DIM DAY_OF_WEEK  BET_ACCOUNT_NUM_HASH   AGE AGE_BAND GENDER  \\\n",
       "0  2021-01-01         Fri                 13154 67.00      65+      M   \n",
       "1  2021-01-01         Fri                 18379 54.00    45-54      M   \n",
       "2  2021-01-01         Fri                559232 63.00    55-64      M   \n",
       "3  2021-01-01         Fri                698904 69.00      65+      M   \n",
       "4  2021-01-01         Fri                762921 67.00      65+      M   \n",
       "\n",
       "   TENURE_IN_DAYS RESIDENTIAL_STATE  FOB_RACING_TURNOVER  FOB_SPORT_TURNOVER  \\\n",
       "0           11846                WA                37.00                 NaN   \n",
       "1            1884                WA                40.00                 NaN   \n",
       "2            2866                WA                  NaN                 NaN   \n",
       "3            2100                WA                  NaN                 NaN   \n",
       "4            4766                WA                  NaN                 NaN   \n",
       "\n",
       "   PARI_RACING_TURNOVER  PARI_SPORT_TURNOVER  TOTAL_TURNOVER  DIVIDENDS_PAID  \\\n",
       "0               1081.00                  NaN         1118.00          443.55   \n",
       "1                   NaN                  NaN           40.00            0.00   \n",
       "2                 12.00                  NaN           12.00            9.50   \n",
       "3               1223.50                  NaN         1223.50          267.91   \n",
       "4                 17.50                  NaN           17.50            0.00   \n",
       "\n",
       "   GROSS_MARGIN  TICKETS  \n",
       "0        271.25      288  \n",
       "1         40.00        1  \n",
       "2          2.04        5  \n",
       "3        245.12       40  \n",
       "4          3.50        5  "
      ]
     },
     "execution_count": 11,
     "metadata": {},
     "output_type": "execute_result"
    }
   ],
   "source": [
    "# File path\n",
    "current_dir = os.getcwd()\n",
    "parent_dir = os.path.dirname(current_dir)\n",
    "file_path = os.path.join(parent_dir, 'Data',file_name)\n",
    "\n",
    "df = pd.read_csv(file_path)\n",
    "df.head()"
   ]
  },
  {
   "cell_type": "markdown",
   "id": "cfb83b66-124c-4de3-a882-2c5f1372659e",
   "metadata": {},
   "source": [
    "# III. Clean data <a name=\"III\"></a>"
   ]
  },
  {
   "cell_type": "markdown",
   "id": "c74d72f6-c6ab-40de-8420-55a1f444be03",
   "metadata": {},
   "source": [
    "Based on our exploratory data analysis, we apply the similar steps to clean the data."
   ]
  },
  {
   "cell_type": "code",
   "execution_count": 12,
   "id": "12633d41-4222-4ff4-9c56-b23b06c56e5b",
   "metadata": {
    "tags": []
   },
   "outputs": [
    {
     "data": {
      "text/html": [
       "<div>\n",
       "<style scoped>\n",
       "    .dataframe tbody tr th:only-of-type {\n",
       "        vertical-align: middle;\n",
       "    }\n",
       "\n",
       "    .dataframe tbody tr th {\n",
       "        vertical-align: top;\n",
       "    }\n",
       "\n",
       "    .dataframe thead th {\n",
       "        text-align: right;\n",
       "    }\n",
       "</style>\n",
       "<table border=\"1\" class=\"dataframe\">\n",
       "  <thead>\n",
       "    <tr style=\"text-align: right;\">\n",
       "      <th></th>\n",
       "      <th>BET_ACCOUNT_NUM_HASH</th>\n",
<<<<<<< HEAD
       "      <th>TENURE_IN_DAYS</th>\n",
       "      <th>TOTAL_TURNOVER</th>\n",
=======
       "      <th>TOTAL_TURNOVER</th>\n",
       "      <th>TENURE_IN_DAYS</th>\n",
>>>>>>> a9b3790b70adaffdf2d392e67fd58b641f934927
       "    </tr>\n",
       "    <tr>\n",
       "      <th>DATE_DIM</th>\n",
       "      <th></th>\n",
       "      <th></th>\n",
       "      <th></th>\n",
       "    </tr>\n",
       "  </thead>\n",
       "  <tbody>\n",
       "    <tr>\n",
       "      <th>2021-01-01</th>\n",
       "      <td>13154</td>\n",
<<<<<<< HEAD
       "      <td>11846</td>\n",
       "      <td>1118.00</td>\n",
=======
       "      <td>1118.00</td>\n",
       "      <td>11846</td>\n",
>>>>>>> a9b3790b70adaffdf2d392e67fd58b641f934927
       "    </tr>\n",
       "    <tr>\n",
       "      <th>2021-01-01</th>\n",
       "      <td>18379</td>\n",
<<<<<<< HEAD
       "      <td>1884</td>\n",
       "      <td>40.00</td>\n",
=======
       "      <td>40.00</td>\n",
       "      <td>1884</td>\n",
>>>>>>> a9b3790b70adaffdf2d392e67fd58b641f934927
       "    </tr>\n",
       "    <tr>\n",
       "      <th>2021-01-01</th>\n",
       "      <td>559232</td>\n",
<<<<<<< HEAD
       "      <td>2866</td>\n",
       "      <td>12.00</td>\n",
=======
       "      <td>12.00</td>\n",
       "      <td>2866</td>\n",
>>>>>>> a9b3790b70adaffdf2d392e67fd58b641f934927
       "    </tr>\n",
       "    <tr>\n",
       "      <th>2021-01-01</th>\n",
       "      <td>698904</td>\n",
<<<<<<< HEAD
       "      <td>2100</td>\n",
       "      <td>1223.50</td>\n",
=======
       "      <td>1223.50</td>\n",
       "      <td>2100</td>\n",
>>>>>>> a9b3790b70adaffdf2d392e67fd58b641f934927
       "    </tr>\n",
       "    <tr>\n",
       "      <th>2021-01-01</th>\n",
       "      <td>762921</td>\n",
<<<<<<< HEAD
       "      <td>4766</td>\n",
       "      <td>17.50</td>\n",
=======
       "      <td>17.50</td>\n",
       "      <td>4766</td>\n",
>>>>>>> a9b3790b70adaffdf2d392e67fd58b641f934927
       "    </tr>\n",
       "  </tbody>\n",
       "</table>\n",
       "</div>"
      ],
      "text/plain": [
<<<<<<< HEAD
       "           BET_ACCOUNT_NUM_HASH  TENURE_IN_DAYS  TOTAL_TURNOVER\n",
       "DATE_DIM                                                       \n",
       "2021-01-01                13154           11846         1118.00\n",
       "2021-01-01                18379            1884           40.00\n",
       "2021-01-01               559232            2866           12.00\n",
       "2021-01-01               698904            2100         1223.50\n",
       "2021-01-01               762921            4766           17.50"
=======
       "           BET_ACCOUNT_NUM_HASH  TOTAL_TURNOVER  TENURE_IN_DAYS\n",
       "DATE_DIM                                                       \n",
       "2021-01-01                13154         1118.00           11846\n",
       "2021-01-01                18379           40.00            1884\n",
       "2021-01-01               559232           12.00            2866\n",
       "2021-01-01               698904         1223.50            2100\n",
       "2021-01-01               762921           17.50            4766"
>>>>>>> a9b3790b70adaffdf2d392e67fd58b641f934927
      ]
     },
     "execution_count": 12,
     "metadata": {},
     "output_type": "execute_result"
    }
   ],
   "source": [
    "def clean_data(df):\n",
    "    # DATE_DIM: datetime\n",
    "    df['DATE_DIM'] = pd.to_datetime(df['DATE_DIM'], format='%Y-%m-%d')\n",
    "\n",
    "    # BET_ACCOUNT_NUM_HASH: string\n",
    "    df['BET_ACCOUNT_NUM_HASH'] = df['BET_ACCOUNT_NUM_HASH'].astype('O')\n",
    "\n",
    "    # More than zero\n",
    "    df = df[df['TOTAL_TURNOVER'] > 0]\n",
    "    \n",
<<<<<<< HEAD
    "    return df.set_index('DATE_DIM')[['BET_ACCOUNT_NUM_HASH', 'TENURE_IN_DAYS', 'TOTAL_TURNOVER']]\n",
=======
    "    return df.set_index('DATE_DIM')[['BET_ACCOUNT_NUM_HASH', 'TOTAL_TURNOVER', 'TENURE_IN_DAYS']]\n",
>>>>>>> a9b3790b70adaffdf2d392e67fd58b641f934927
    "\n",
    "df = clean_data(df)\n",
    "df.head()"
   ]
  },
  {
   "cell_type": "markdown",
   "id": "4c52c3d1-3fa5-4120-a74b-7be6af6c3150",
   "metadata": {},
   "source": [
    "# IV. Time series model: Exponential Smoothing <a name=\"IV\"></a>"
   ]
  },
  {
   "cell_type": "markdown",
   "id": "107be40e-6e39-4c92-90e7-7860768e3cfe",
   "metadata": {},
   "source": [
    "One of the downside of the predictive models above is that they do not factor in the time effects. Triple Exponential Smoothing, also known as Holt-Winters' Triple Exponential Smoothing, is a time series forecasting method that extends the concept of exponential smoothing to capture both trend and seasonality in the data. It is a popular technique used in various industries to make accurate predictions for time-dependent data.\n",
    "\n",
    "In this particular case, daily trend can be acting at high variance. Therefore, we choose weekly granularity level. We run a triple exponential smoothing model with trend factor on all historical data and predict the next 4 week turnover spending of a customer."
   ]
  },
  {
   "cell_type": "code",
<<<<<<< HEAD
   "execution_count": 13,
=======
   "execution_count": 6,
>>>>>>> a9b3790b70adaffdf2d392e67fd58b641f934927
   "id": "6e07ae01-17ff-43f5-854e-82295b6b34f9",
   "metadata": {},
   "outputs": [],
   "source": [
    "# Define prediction period: Train set from  2021-01-04 (first Monday of the year) to 2021-05-10. Prediction/test set is from 2021-05-10 to from 2021-06-07\n",
    "date = '2021-05-10'\n",
    "future_date = (datetime.strptime(date, '%Y-%m-%d') + timedelta(weeks=4)).strftime('%Y-%m-%d')\n",
    "\n",
    "# Filter train and test set accordingly to the period defined above\n",
    "train_df = df[df.index < date]\n",
    "test_df = df[(df.index >= date) & (df.index < future_date)]\n",
    "\n",
    "# We filter out new customers who have not had at least 28 tenure days\n",
    "cus = train_df.groupby('BET_ACCOUNT_NUM_HASH',as_index=False).TENURE_IN_DAYS.max()\n",
    "legitimate_cus = cus.loc[cus['TENURE_IN_DAYS'] >= 28, 'BET_ACCOUNT_NUM_HASH']\n",
    "\n",
    "# Filter train and test set accordingly to the period defined above\n",
    "train_df = train_df[train_df['BET_ACCOUNT_NUM_HASH'].isin(legitimate_cus)]\n",
    "test_df = test_df[test_df['BET_ACCOUNT_NUM_HASH'].isin(legitimate_cus)]\n",
    "\n",
    "# Get result dataframe \n",
    "res = pd.DataFrame(columns = ['BET_ACCOUNT_NUM_HASH', 'real', 'pred'])\n",
    "X_test = test_df.groupby('BET_ACCOUNT_NUM_HASH').TOTAL_TURNOVER.sum()"
   ]
  },
  {
   "cell_type": "code",
<<<<<<< HEAD
   "execution_count": 16,
=======
   "execution_count": 60,
>>>>>>> a9b3790b70adaffdf2d392e67fd58b641f934927
   "id": "320a5e68-6684-4d1b-ab32-ecbb6714664c",
   "metadata": {
    "tags": []
   },
   "outputs": [],
   "source": [
    "# Run Exponential Smoothing model on all \n",
    "%timeit\n",
    "\n",
    "for i in legitimate_cus: \n",
    "    # Filter customemean_squared_errorta\n",
    "    cus_df = train_df[train_df['BET_ACCOUNT_NUM_HASH'] == i]\n",
    "\n",
    "    # Resample train data into weekly granularity\n",
    "    X_train = cus_df.resample('W').TOTAL_TURNOVER.sum()\n",
    "    X_train = X_train.reindex(pd.date_range(start='2021-01-03',end=date, freq=\"W\")).fillna(0)\n",
    "\n",
    "    # Fit model\n",
    "    exp_smth = ETSModel(X_train, trend = \"add\", freq='W')\n",
    "    result = exp_smth.fit()\n",
    "\n",
    "    # Forecast\n",
    "    start = X_train.index[-1] + pd.DateOffset(weeks= 1)\n",
    "    end = X_train.index[-1] + pd.DateOffset(weeks= 4)\n",
    "    X_forecast = result.predict(start=start, end=end)\n",
    "\n",
    "    try:\n",
    "        real = X_test[i]\n",
    "    except:\n",
    "        real = 0\n",
    "\n",
    "    # Append result\n",
    "    pred = X_forecast.sum()\n",
    "    res = res.append({'BET_ACCOUNT_NUM_HASH' : i, 'real':real, 'pred': pred if pred > 0 else 0}, ignore_index=True)"
   ]
  },
  {
   "cell_type": "code",
   "execution_count": 18,
   "id": "c90fc9ad-b185-4275-9d22-40ddb97c9c70",
   "metadata": {},
   "outputs": [],
   "source": [
    "# Evaluate\n",
    "mse = mean_squared_error(res['real']/28, res['fixed_pred']/28)\n",
    "mae = mean_absolute_error(res['real']/28, res['fixed_pred']/28)"
   ]
  },
  {
   "cell_type": "code",
   "execution_count": 19,
   "id": "ab845a1c-da8e-4c0e-aa78-bc5dc7c4f01c",
   "metadata": {
    "tags": []
   },
   "outputs": [
    {
     "data": {
      "text/html": [
       "<div>\n",
       "<style scoped>\n",
       "    .dataframe tbody tr th:only-of-type {\n",
       "        vertical-align: middle;\n",
       "    }\n",
       "\n",
       "    .dataframe tbody tr th {\n",
       "        vertical-align: top;\n",
       "    }\n",
       "\n",
       "    .dataframe thead th {\n",
       "        text-align: right;\n",
       "    }\n",
       "</style>\n",
       "<table border=\"1\" class=\"dataframe\">\n",
       "  <thead>\n",
       "    <tr style=\"text-align: right;\">\n",
       "      <th></th>\n",
       "      <th>MSE</th>\n",
       "      <th>MAE</th>\n",
       "    </tr>\n",
       "  </thead>\n",
       "  <tbody>\n",
       "    <tr>\n",
       "      <th>0</th>\n",
       "      <td>29623.28</td>\n",
       "      <td>30.15</td>\n",
       "    </tr>\n",
       "  </tbody>\n",
       "</table>\n",
       "</div>"
      ],
      "text/plain": [
       "       MSE   MAE\n",
       "0 29623.28 30.15"
      ]
     },
     "execution_count": 19,
     "metadata": {},
     "output_type": "execute_result"
    }
   ],
   "source": [
    "eva_df = pd.DataFrame({\"MSE\":mse, \"MAE\":mae }, index=[0])\n",
    "eva_df"
   ]
  },
  {
   "cell_type": "code",
   "execution_count": 15,
   "id": "c8b1faaa-f171-4bb3-adbb-9435e416e9e5",
   "metadata": {},
   "outputs": [
    {
     "data": {
      "text/plain": [
       "<matplotlib.collections.PathCollection at 0x2325a203580>"
      ]
     },
     "execution_count": 15,
     "metadata": {},
     "output_type": "execute_result"
    },
    {
     "data": {
      "image/png": "iVBORw0KGgoAAAANSUhEUgAABRwAAAFfCAYAAAAs4QCgAAAAOXRFWHRTb2Z0d2FyZQBNYXRwbG90bGliIHZlcnNpb24zLjcuMCwgaHR0cHM6Ly9tYXRwbG90bGliLm9yZy88F64QAAAACXBIWXMAAA9hAAAPYQGoP6dpAABeiElEQVR4nO3dfXxU5Z3///dkEsjkZpIZSZC2UFeT2BawRmwQYmkVotuyUEkCbpeljb8W+w10u7YgrQVXKwVRy3ct25Jt8WuzIrutEKNS2YJQqjTcBDUFoYUQd4XscpOQZMhkkkAyM78/MCND7ibhTGYm83o+Hn3QnHOdM9c4+QR4c53rY/J6vV4BAAAAAAAAgAFiQj0BAAAAAAAAAMMHgSMAAAAAAAAAwxA4AgAAAAAAADAMgSMAAAAAAAAAwxA4AgAAAAAAADAMgSMAAAAAAAAAwxA4AgAAAAAAADAMgSMAAAAAAAAAwxA4AgAAAAAAADDMoAPHxsZG5eXl6cCBA75jx44d09e//nVlZ2dr6tSpevLJJ9XZ2ek7X15erry8PN16663Kz89XVVWV75zb7dZTTz2lqVOnKjs7W8XFxaqrq/Odb2ho0KJFi3T77bdr8uTJWrVqld+9AQAAAAAAAIRe7GAueuedd/SDH/xAp06d8h1rbGxUUVGRHnjgAT333HM6d+6cvvGNbyg9PV3f+MY3dODAAa1cuVIbNmzQLbfcok2bNqm4uFi7d++WxWJRSUmJKioqVFZWpuTkZD366KNasWKFfvnLX0qSHnroIY0ePVp79uzR+fPnVVxcrNLSUn3zm98MaM719c7BvNWIERNjkt2eqMZGlzweb6inA2CIUPtA9KHugehE7QPRidpHuElLSw5o3IBXOJaXl2vp0qX67ne/63f8lVde0Q033KBvfetbiouL0yc+8Qk9//zz+tKXviRJ2rx5s2bOnKlJkyYpLi5ORUVFstls2rZtm+/8woULNWbMGCUlJWn58uV66623VFtbq5MnT6qyslIPP/ywLBaLxo4dq0WLFmnTpk0Dnf6wFRNjkslkUkyMKdRTATCEqH0g+lD3QHSi9oHoRO0jUg14heOdd96pWbNmKTY21i90PHz4sLKysvRP//RP2rVrlywWiwoKCvStb31LklRTU6OCggK/e2VkZOjYsWNyOp06e/assrKyfOdGjRqllJQUHT9+XJKUmpqq0aNH+87fdNNNOn36tJqbm2W1Wvudd0zM8C5QsznG71cA0YHaB6IPdQ9EJ2ofiE7UPiLVgAPHtLS0Ho9fuHBBO3fu1OOPP65HH31U77//vv7P//k/GjFihL7xjW/I5XLJYrH4XRMfH6/W1la5XC5JUkJCQrfzXeeuvrbr69bW1oACR7s9USbT8A0cu1itlv4HARh2qH0g+lD3QHSi9oHoRO0j0gxqD8eejBgxQhMnTlRhYaEk6VOf+pT+/u//Xv/5n/+pb3zjG7JYLGpvb/e7pr29XTabzRcetrW1dTufmJgor9fb7VzX14mJiQHNr7HRNexXOFqtFjU3t8nt9oR6OgCGCLUPRB/qHohO1D4Qnah9hBubLbAczrDA8aabbvLrWC1JHo9HXu/lTU0zMzN14sQJv/M1NTWaNm2aUlJSNHr0aNXU1Pgeq66vr5fD4VBWVpY8Ho8cDofOnz+vUaNGSZLef/99XX/99UpODmyzSo/HGxUbrLrdHnV28kMIiDbUPhB9qHsgOlH7QHSi9hFpDNsEoKCgQNXV1dqwYYPcbreOHz+uF198UV/5ylckSYWFhdq6dav279+vjo4OlZaWqqGhQXl5eZKk/Px8lZSUqLa2Vi0tLVq9erVycnI0btw43XDDDZo0aZJWr16tlpYW1dbWav369b7VlAAAAAAAAADCg6ErHF988UU9/fTT+uUvf6n4+Hh99atf1YIFCyRJU6ZM0WOPPabHH39c586dU0ZGhjZs2KDU1FRJ0uLFi9XZ2an58+fL5XJp8uTJevbZZ333X7dunZ544glNnz5dMTExuu+++7Ro0SKjpg8AAAAAAADAACZv1zPPw1x9vTPUUwiq2NgY2WyJampyscwaiCLUPhB9qHsgOlH7QHSi9hFu0tIC29rQsBWOAMJDY51DO8sq1NrcrgRrvGYU5MqenhrqaQEAAAAAgChB4AgME263WxvXlutIZbWcTS7f8cpdhzQhJ0sLlsyR2WwO4QwBAAAAAEA0IHAEhomNa8u1b0eVdNUmCc4m1+XjMqloWUFI5gYAAAAAAKKHYV2qAYROY51DRw5UdwsbfbzS0cpqNdY5hnJaAAAAAAAgChE4AsPAzrIKOR2uPsc0N7VoV9neIZoRAAAAAACIVgSOwDDQ2twe0DiXsy3IMwEAAAAAANGOwBEYBhKs8QGNS0y2BHkmAAAAAAAg2hE4AsPAjIJcJdsS+xxjtSVpesHUIZoRAAAAAACIVgSOwDBgT0/VhJwsydTLAJM0PidT9vTUoZwWAAAAAACIQrGhngAAYyxYMkeSSUcrq9Xc1OI7brUlaXxO5ofnAQAAAAAAgovAERgmzGazipYVqLHOoZ1lFWp1tisx2aLphbmyp6WEenoAAAAAACBKEDgCw4w9PVXzimeGehoAAAAAACBKsYcjAAAAAAAAAMMQOAIAAAAAAAAwDIEjAAAAAAAAAMMQOAIAAAAAAAAwDIEjAAAAAAAAAMPQpRoAABiisc6hnWUVam1uV4I1XjMKcmVPTw31tAAAAAAMMQJHAABwTdxutzauLdeRymo5m1y+45W7DmlCTpYWLJkjs9kcwhkCAAAAGEoEjgAA4JpsXFuufTuqJK//cWeT6/JxmVS0rCAkcwMAAAAw9NjDEQAADFpjnUNHDlR3Cxt9vNLRymo11jmGcloAAAAAQojAEQAADNrOsgo5Ha4+xzQ3tWhX2d4hmhEAAACAUCNwBAAAg9ba3B7QOJezLcgzAQAAABAuCBwBAMCgJVjjAxqXmGwJ8kwAAAAAhAsCRwAAMGgzCnKVbEvsc4zVlqTpBVOHaEYAAAAAQo3AEQAADJo9PVUTcrIkUy8DTNL4nEzZ01OHcloAAAAAQmjQgWNjY6Py8vJ04MCBbufq6uo0depUvfzyy37Hy8vLlZeXp1tvvVX5+fmqqqrynXO73Xrqqac0depUZWdnq7i4WHV1db7zDQ0NWrRokW6//XZNnjxZq1atUmdn52CnDwAADLJgyRxNuec2WW1JfsettiRNuSdbC5bMCdHMAAAAAITCoALHd955R/fff79OnTrV7ZzH49HSpUvV1NTkd/zAgQNauXKl1qxZo4MHD2r27NkqLi5WW9vlTeRLSkpUUVGhsrIy7dmzR/Hx8VqxYoXv+oceekgJCQnas2ePtmzZon379qm0tHQw0wcAAAYym80qWlagR9YXa3rhVE259zbNKMzVIyWLVLSsUGazOdRTBAAAADCEBhw4lpeXa+nSpfrud7/b4/mf//znuv766zVmzBi/45s3b9bMmTM1adIkxcXFqaioSDabTdu2bfOdX7hwocaMGaOkpCQtX75cb731lmpra3Xy5ElVVlbq4YcflsVi0dixY7Vo0SJt2rRpEG8ZAAAEgz09VfOKZ6poWYHmFn9Z9rSUUE8JAAAAQAgMOHC888479cYbb+jLX/5yt3P79+/X66+/rscee6zbuZqaGmVlZfkdy8jI0LFjx+R0OnX27Fm/86NGjVJKSoqOHz+uEydOKDU1VaNHj/adv+mmm3T69Gk1NzcP9C0AAAAAAAAACJLYgV6QlpbW4/GGhgb98Ic/1Lp165SY2L1bpcvlksVi8TsWHx+v1tZWuVwuSVJCQkK3813nrr626+vW1lZZrdZ+5x0TY1JMTG872kc+sznG71cA0YHaB6IPdQ9EJ2ofiE7UPiLVgAPHnni9Xi1btkwLFizQhAkTehxjsVjU3t7ud6y9vV02m80XHnbt53jl+cTERHm93m7nur7uKdzsid2eKJNp+AaOXaxWS/+DAAw71D4Qfah7IDpR+0B0ovYRaQwJHM+cOaPKykodOnRIP//5zyVJLS0t+tGPfqTt27frF7/4hTIzM3XixAm/62pqajRt2jSlpKRo9OjRfo9d19fXy+FwKCsrSx6PRw6HQ+fPn9eoUaMkSe+//76uv/56JScnBzTHxkbXsF/haLVa1NzcJrfbE+rpABgi1D4Qfah7IDpR+0B0ovYRbmy2wBb+GRI4fuxjH9N7773nd+zuu+/Wt7/9beXn50uSCgsLtXjxYn3pS1/SpEmTtGnTJjU0NCgvL0+SlJ+fr5KSEk2cOFE2m02rV69WTk6Oxo0bJ0maNGmSVq9erSeeeEJNTU1av369CgsLA56jx+OVx+M14u2GNbfbo85OfggB0YbaB6IPdQ9EJ2ofiE7UPiKNIYFjIKZMmaLHHntMjz/+uM6dO6eMjAxt2LBBqampkqTFixers7NT8+fPl8vl0uTJk/Xss8/6rl+3bp2eeOIJTZ8+XTExMbrvvvu0aNGioZo+AAAAAAAAgACYvF7v8F/2J6m+3hnqKQRVbGyMbLZENTW5+FcPIIpQ+0D0oe6B6ETtA9GJ2ke4SUsLbGtD2hwBAAAAAAAAMAyBIwAAAAAAAADDEDgCAAAAAAAAMAyBIwAAAAAAAADDDFmXagAAAKAvjXUO7SyrUGtzuxKs8ZpRkCt7emqopwUAAIABInAEAABASLndbm1cW64jldVyNrl8xyt3HdKEnCwtWDJHZrM5hDMEAADAQBA4AgAAIKQ2ri3Xvh1Vktf/uLPJdfm4TCpaVhCSuQEAAGDg2MMRAAAAIdNY59CRA9XdwkYfr3S0slqNdY6hnBYAAACuAYEjAAAAQmZnWYWcDlefY5qbWrSrbO8QzQgAAADXisARAAAAIdPa3B7QOJezLcgzAQAAgFEIHAEAABAyCdb4gMYlJluCPBMAAAAYhcARAAAAITOjIFfJtsQ+x1htSZpeMHWIZgQAAIBrReAIAACAkLGnp2pCTpZk6mWASRqfkyl7eupQTgsAAADXIDbUEwAAAEB0W7BkjiSTjlZWq7mpxXfcakvS+JzMD88DAAAgUhA4AgAAIKTMZrOKlhWosc6hnWUVanW2KzHZoumFubKnpYR6egAAABggAkcAAACEBXt6quYVzwz1NAAAAHCN2MMRAAAAAAAAgGEIHAEAAAAAAAAYhsARAAAAAAAAgGEIHAEAAAAAAAAYhsARAAAAAAAAgGEIHAEAAAAAAAAYhsARAAAAAAAAgGEIHAEAAAAAAAAYhsARAAAAAAAAgGEIHAEAAAAAAAAYhsARAAAAAAAAgGEGHTg2NjYqLy9PBw4c8B3bvn27vvKVr+i2227T3XffrZ/97GfyeDy+8+Xl5crLy9Ott96q/Px8VVVV+c653W499dRTmjp1qrKzs1VcXKy6ujrf+YaGBi1atEi33367Jk+erFWrVqmzs3Ow0wcAAAAAAAAQBIMKHN955x3df//9OnXqlO/YkSNHtGzZMj300EN6++23tWHDBr388ssqLS2VJB04cEArV67UmjVrdPDgQc2ePVvFxcVqa2uTJJWUlKiiokJlZWXas2eP4uPjtWLFCt/9H3roISUkJGjPnj3asmWL9u3b57s3AAAAAAAAgPAw4MCxvLxcS5cu1Xe/+12/4//7v/+rv/3bv9Vdd92lmJgY3XTTTcrLy9PBgwclSZs3b9bMmTM1adIkxcXFqaioSDabTdu2bfOdX7hwocaMGaOkpCQtX75cb731lmpra3Xy5ElVVlbq4YcflsVi0dixY7Vo0SJt2rTJgP8EAAAAAAAAAIwSO9AL7rzzTs2aNUuxsbF+oeO9996re++91/d1e3u7/vCHP2jWrFmSpJqaGhUUFPjdKyMjQ8eOHZPT6dTZs2eVlZXlOzdq1CilpKTo+PHjkqTU1FSNHj3ad/6mm27S6dOn1dzcLKvV2u+8Y2JMiokxDfTtRgyzOcbvVwDRgdoHog91D0Qnah+ITtQ+ItWAA8e0tLR+x7S0tOgf//EfFR8fr6KiIkmSy+WSxWLxGxcfH6/W1la5XC5JUkJCQrfzXeeuvrbr69bW1oACR7s9USbT8A0cu1itlv4HARh2qH0g+lD3QHSi9oHoRO0j0gw4cOzPf/3Xf+k73/mOrrvuOr3wwgtKSkqSdDkgbG9v9xvb3t4um83mCw+79nO88nxiYqK8Xm+3c11fJyYmBjSvxkbXsF/haLVa1NzcJrfb0/8FAIYFah+IPtQ9EJ2ofSA6UfsINzZbYDmcoYHjm2++qe9973uaN2+elixZotjYj26fmZmpEydO+I2vqanRtGnTlJKSotGjR6umpsb3WHV9fb0cDoeysrLk8XjkcDh0/vx5jRo1SpL0/vvv6/rrr1dycnJAc/N4vPJ4vAa90/DldnvU2ckPISDaUPtA9KHugehE7QPRidpHpDFsE4A//elPWrx4sR555BF9//vf9wsbJamwsFBbt27V/v371dHRodLSUjU0NCgvL0+SlJ+fr5KSEtXW1qqlpUWrV69WTk6Oxo0bpxtuuEGTJk3S6tWr1dLSotraWq1fv16FhYVGTR8AAAAAAACAAQxb4fiv//qv6uzs1KpVq7Rq1Srf8UmTJum5557TlClT9Nhjj+nxxx/XuXPnlJGRoQ0bNig1NVWStHjxYnV2dmr+/PlyuVyaPHmynn32Wd991q1bpyeeeELTp09XTEyM7rvvPi1atMio6QMAAAAAAAAwgMnr9Q7/54wl1dc7Qz2FoIqNjZHNlqimJhfLrIEoQu0D0Ye6B6ITtQ9EJ2of4SYtLbCtDemrDgAAAAAAAMAwBI4AAAAAAAAADEPgCAAAAAAAAMAwBI4AAAAAAAAADEPgCAAAAAAAAMAwBI4AAAAAAAAADEPgCAAAAAAAAMAwBI4AAAAAAAAADEPgCAAAAAAAAMAwBI4AAAAAAAAADEPgCAAAAAAAAMAwBI4AAAAAAAAADEPgCAAAAAAAAMAwBI4AAAAAAAAADBMb6gkgcjTWObSzrEKtze1KsMZrRkGu7OmpoZ4WAAAAAAAAwgiBI/rldru1cW25jlRWy9nk8h2v3HVIE3KytGDJHJnN5hDOEAAAAAAAAOGCwBH92ri2XPt2VEle/+POJtfl4zKpaFlBSOYGAAAAAACA8MIejuhTY51DRw5UdwsbfbzS0cpqNdY5hnJaAAAAAAAACFMEjujTzrIKOR2uPsc0N7VoV9neIZoRAAAAAAAAwhmBI/rU2twe0DiXsy3IMwEAAAAAAEAkIHBEnxKs8QGNS0y2BHkmAAAAAAAAiAQEjujTjIJcJdsS+xxjtSVpesHUIZoRAAAAAAAAwhmBI/pkT0/VhJwsydTLAJM0PidT9vTUoZwWAAAAAAAAwlRsqCeA8LdgyRxJJh2trFZzU4vvuNWWpPE5mR+eBwAAAAAAAAgcEQCz2ayiZQVqrHNoZ1mFWp3tSky2aHphruxpKaGeHgAAAAAAAMIIgSMCZk9P1bzimaGeBgAAAAAAAMLYoPdwbGxsVF5eng4cOOA7dujQIc2dO1fZ2dm6++67tXnzZr9rysvLlZeXp1tvvVX5+fmqqqrynXO73Xrqqac0depUZWdnq7i4WHV1db7zDQ0NWrRokW6//XZNnjxZq1atUmdn52CnDwAAAAAAACAIBhU4vvPOO7r//vt16tQp37ELFy7owQcf1H333aeDBw9q1apVevLJJ3X48GFJ0oEDB7Ry5UqtWbNGBw8e1OzZs1VcXKy2tjZJUklJiSoqKlRWVqY9e/YoPj5eK1as8N3/oYceUkJCgvbs2aMtW7Zo3759Ki0tvYa3DgAAAAAAAMBoAw4cy8vLtXTpUn33u9/1O75jxw6lpqZq/vz5io2N1ZQpUzRr1ixt2rRJkrR582bNnDlTkyZNUlxcnIqKimSz2bRt2zbf+YULF2rMmDFKSkrS8uXL9dZbb6m2tlYnT55UZWWlHn74YVksFo0dO1aLFi3y3RsAAAAAAABAeBjwHo533nmnZs2apdjYWL/Q8cSJE8rKyvIbm5GRoS1btkiSampqVFBQ0O38sWPH5HQ6dfbsWb/rR40apZSUFB0/flySlJqaqtGjR/vO33TTTTp9+rSam5tltVr7nXdMjEkxMaaBvt2IYTbH+P0KIDpQ+0D0oe6B6ETtA9GJ2kekGnDgmJaW1uNxl8sli8Xidyw+Pl6tra39nne5XJKkhISEbue7zl19bdfXra2tAQWOdnuiTKbhGzh2sVot/Q8aRs6fbdLWjbvV0tyqJGuCZi24S6Out4V6WsCQi7baB0DdA9GK2geiE7WPSGNYl2qLxSKn0+l3rL29XYmJib7z7e3t3c7bbDZfeNi1n+PV13u93m7nur7uun9/Ghtdw36Fo9VqUXNzm9xuT6inE3TuTrf+7ZmX9d6B42pucvmOv/nbg5o4+WZ9/eF8mWPNIZwhMDSirfYBUPdAtKL2gehE7SPc2GyB5XCGBY5ZWVmqqKjwO1ZTU6PMzExJUmZmpk6cONHt/LRp05SSkqLRo0erpqbG91h1fX29HA6HsrKy5PF45HA4dP78eY0aNUqS9P777+v6669XcnJyQPPzeLzyeLzX+jbDntvtUWfn8P8hVPp0mfbtqJKu+kibm1yq2P6uPF6paFlBzxcDw1C01D6Aj1D3QHSi9oHoRO0j0hi2CUBeXp7Onz+v0tJSdXR0aP/+/dq6datv38bCwkJt3bpV+/fvV0dHh0pLS9XQ0KC8vDxJUn5+vkpKSlRbW6uWlhatXr1aOTk5GjdunG644QZNmjRJq1evVktLi2pra7V+/XoVFhYaNX1EkMY6h44cqO4WNvp4paOV1WqscwzltAAAAAAAACADA0ebzabnn39ev/vd7zR58mStWLFCK1as0B133CFJmjJlih577DE9/vjjysnJ0euvv64NGzYoNTVVkrR48WJ94Qtf0Pz58/WFL3xBFy9e1LPPPuu7/7p169TZ2anp06dr3rx5+vznP69FixYZNX1EkJ1lFXI6XH2OaW5q0a6yvUM0IwAAAAAAAHQxeb3e4f+csaT6emf/gyJYbGyMbLZENTW5hv0y69KnyrRvx7v9jpty7208Vo1hL5pqH8Bl1D0Qnah9IDpR+wg3aWmBbW1IX3VEnARrfEDjEpPp4gUAAAAAADDUCBwRcWYU5Cq5n65IVluSphdMHaIZAQAAAAAAoAuBIyKOPT1VE3KyJFMvA0zS+JxM2dNTh3JaAAAAAAAAkBQb6gkAg7FgyRxJJh2trFZzU4vvuNWWpPE5mR+eBwAAAAAAwFAjcEREMpvNKlpWoMY6h3aWVajV2a7EZIumF+bKnpYS6ukBAAAAAABELQJHRDR7eqrmFc8M9TQAAAAAAADwIfZwBAAAAAAAAGAYAkcAAAAAAAAAhiFwBAAAAAAAAGAYAkcAAAAAAAAAhiFwBAAAAAAAAGAYAkcAAAAAAAAAhiFwBAAAAAAAAGAYAkcAAAAAAAAAhiFwBAAAAAAAAGAYAkcAAAAAAAAAhiFwBAAAAAAAAGAYAkcAAAAAAAAAhiFwBAAAAAAAAGCY2FBPAMNXY51DO8sq1NrcrgRrvGYU5MqenhrqaQEAAAAAACCICBxhOLfbrY1ry3WkslrOJpfveOWuQ5qQk6UFS+bIbDaHcIYAAAAAAAAIFgJHGG7j2nLt21Elef2PO5tcl4/LpKJlBSGZGwAAAAAAAIKLPRxhqMY6h44cqO4WNvp4paOV1WqscwzltAAAAAAAADBEWOEIQ+0sq5DT4epzTHNTi3aV7dXc4i8P0ayA4GPPUgAAAAAALiNwhKFam9sDGudytgV5JsDQYM9SAAAAAAD8ETjCUAnW+IDGJSZbgjwTYGiwZykAAAAAAP7YwxGGmlGQq2RbYp9jrLYkTS+YOkQzAoKHPUsBAAAAAOjO0MDx6NGjmj9/vm6//Xbdeeed+vGPf6xLly5Jkg4dOqS5c+cqOztbd999tzZv3ux3bXl5ufLy8nTrrbcqPz9fVVVVvnNut1tPPfWUpk6dquzsbBUXF6uurs7IqcMg9vRUTcjJkky9DDBJ43My2dsOw8JA9iwFAAAAACBaGBY4ejwefetb39K9996ryspKbdmyRX/84x+1YcMGXbhwQQ8++KDuu+8+HTx4UKtWrdKTTz6pw4cPS5IOHDiglStXas2aNTp48KBmz56t4uJitbVd3uevpKREFRUVKisr0549exQfH68VK1YYNXUYbMGSOZpyz22y2pL8jlttSZpyT7YWLJkTopkBxmLPUgAAAAAAujNsD8cLFy6ovr5eHo9HXu/l5wtjYmJksVi0Y8cOpaamav78+ZKkKVOmaNasWdq0aZNuueUWbd68WTNnztSkSZMkSUVFRfrNb36jbdu2qaCgQJs3b9bSpUs1ZswYSdLy5ct15513qra2VmPHjjXqLcAgZrNZRcsKPura62xXYrJF0wtzZU9LCfX0AMOwZykAAAAAAN0ZFjjabDYVFRXpqaee0tNPPy23263p06erqKhIa9asUVZWlt/4jIwMbdmyRZJUU1OjgoKCbuePHTsmp9Ops2fP+l0/atQopaSk6Pjx4wEHjjExJsXE9Pacb+Qzm2P8fg0H6R+z6+/+YVaopwGDNJxz6I3NFXI5W5WYnKC8ubm6bnRqqKcVUvfO+7wO7jqk5qbeH6u22pJ0z7w7FRsbnNoMx9oHEFzUPRCdqH0gOlH7iFSGBY4ej0fx8fF69NFHVVhYqJMnT+rb3/621q1bJ5fLJYvFf4VPfHy8WltbJanP8y7X5b/IJyQkdDvfdS4QdnuiTKbhGzh2sVpZSQVjuTvdWv+j/9C7f/yLLjQ4fccrf39It935aS167Ksyx5pDOMPQsdkSNWnaeP3htUp5e2gcYzJJk6Z9Rhmf+njQ50LtA9GHugeiE7UPRCdqH5HGsMDxjTfe0Pbt2/W73/1OkpSZmanFixdr1apVmjVrlpxOp9/49vZ2JSZe7mZssVjU3t7e7bzNZvMFkV37OfZ0fSAaG13DfoWj1WpRc3Ob3G5PqKeDMGHEqsTnn9ysiu3vduvEfKHBqd2vVerSJbf+vx8UGjfpCPPV78zWpUtuvbf/uJqbWnzHrbYkTZycpa9+Z7aa+lgBea2ofSD6UPdAdKL2gehE7SPc2GyBZXGGBY5nzpzxdaT23Tw2VnFxccrKylJFRYXfuZqaGmVmZkq6HE6eOHGi2/lp06YpJSVFo0ePVk1Nje+x6vr6ejkcjm6PaffF4/HK4+lhCdIw43Z71NnJD6Fo53a7tXFtuY5UVst5Rdi1f2eVJuRkacGSOTKb+1+V2Fjn0OH9x7uFjT5e6b39x1V3ujGKO4+b9LWl+b3uWeqVhqQmqX0g+lD3QHSi9oHoRO0j0hi2CcCdd96p+vp6/eu//qvcbrdqa2tVUlKiWbNmKS8vT+fPn1dpaak6Ojq0f/9+bd261bdvY2FhobZu3ar9+/ero6NDpaWlamhoUF5eniQpPz9fJSUlqq2tVUtLi1avXq2cnByNGzfOqOkDw8rGteXat6PKL2yUJGeTS/t2VGnj2lcCus/Osgo5HX2vzmtuatGusr2DneqwYU9P1bzimSpaVqC5xV+mQRIAAAAAIGoZtsIxIyNDv/jFL/Tss8/queeeU3JysmbPnq3FixdrxIgRev7557Vq1SqtW7dOdrtdK1as0B133CHpctfqxx57TI8//rjOnTunjIwMbdiwQampqZKkxYsXq7OzU/Pnz5fL5dLkyZP17LPPGjV1BJlv5VdzuxKs8ZpRkBvFq+GCr7HOoSMHqvtclXi0slqNdY5+P4fW5vY+z3dxOdv6HwQAAAAAAKKCyevtqdXB8FNf7+x/UASLjY2RzZaopiZX2Cyz7u2x3mRb4oAe68XAvFTyunZt6X/F4YzCXM0t/vKQ3QvBEY61DyC4qHsgOlH7QHSi9hFu0tKSAxpHX3UEjVGP9WJgjFyVOKMgV8n9bAhrtSVpesHUgF4TAAAAAAAMfwSOCIqBPNYLYyVY4wMal5hs6XeMPT1VE3KypN4avJuk8TmZPCIPAAAAAAB8CBwRFDQbCR2jVyUuWDJHU+65TVZbUrd7TLknWwuWzBn0XAEAAAAAwPBjWNMY4Eo0GwmdrlWJ+3ZU9bzCdICrEs1ms4qWFXzU/MfZrsRki6YX5tKJGQAAAAAAdEPgiKAw8rFeDNzlVYcmHa2sVnNTi++41Zak8TmZg1qVaE9P1bzimQbOEgAAAAAADEcEjgiKGQW5qtx1qFvDmCvRbCR4WJUIAAAAAABChcARQWH0Y70YHFYlAgAAAACAoUbgiKAJxmO9AAAAAAAACG8EjggaHusFAAAAAACIPgSOCDoe6wUAAAAAAIgeMaGeAAAAAAAAAIDhg8ARAAAAAAAAgGEIHAEAAAAAAAAYhsARAAAAAAAAgGEIHAEAAAAAAAAYhsARAAAAAAAAgGEIHAEAAAAAAAAYhsARAAAAAAAAgGEIHAEAAAAAAAAYhsARAAAAAAAAgGEIHAEAAAAAAAAYhsARAAAAAAAAgGEIHAEAAAAAAAAYhsARAAAAAAAAgGEIHAEAAAAAAAAYJjbUE0DkaKxzaGdZhVqb25VgjdeMglzZ01NDPS0AAAAAAACEEUMDR4fDodWrV+vNN9+Ux+PR5z73OT3++ONKT0/XoUOH9OMf/1g1NTWy2WwqLi7W3LlzfdeWl5dr/fr1qq+v14033qhHH31U2dnZkiS3262f/OQnevXVV9XW1qY77rhDP/rRj5Senm7k9NELt9utjWvLdaSyWs4ml+945a5DmpCTpQVL5shsNodwhgAAAAAAAAgXhj5S/Q//8A9qbW3VG2+8od27d8tsNuvRRx/VhQsX9OCDD+q+++7TwYMHtWrVKj355JM6fPiwJOnAgQNauXKl1qxZo4MHD2r27NkqLi5WW1ubJKmkpEQVFRUqKyvTnj17FB8frxUrVhg5dfRh49py7dtR5Rc2SpKzyaV9O6q0ce0roZkYAAAAAAAAwo5hgeORI0d06NAhrVmzRlarVUlJSVq5cqWWLl2qHTt2KDU1VfPnz1dsbKymTJmiWbNmadOmTZKkzZs3a+bMmZo0aZLi4uJUVFQkm82mbdu2+c4vXLhQY8aMUVJSkpYvX6633npLtbW1Rk0fvWisc+jIgWrJ28sAr3S0slqNdY6hnBYAAAAAAADClGGPVB8+fFgZGRl66aWX9B//8R9qa2vT5z//eX3/+9/XiRMnlJWV5Tc+IyNDW7ZskSTV1NSooKCg2/ljx47J6XTq7NmzftePGjVKKSkpOn78uMaOHRvQ/GJiTIqJMV3juwxfZnOM369G+f3L++R0uPoc09zUot0v79P9355p6GsD6F+wah9A+KLugehE7QPRidpHpDIscLxw4YKOHz+uCRMmqLy8XO3t7Vq2bJm+//3va9SoUbJYLH7j4+Pj1draKklyuVy9nne5LoddCQkJ3c53nQuE3Z4ok2n4Bo5drFZL/4MGoPPSpYDGdVzqkM2WaOhrAwic0bUPIPxR90B0ovaB6ETtI9IYFjiOGDFCkrR8+XKNHDlSSUlJeuihhzRv3jzl5+ervb3db3x7e7sSEy8HVBaLpcfzNpvNF0R27efY0/WBaGx0DfsVjlarRc3NbXK7PYbdN/bDz7U/cSPi1NQUeAAMwBjBqn0A4Yu6B6ITtQ9EJ2of4SbQxWaGBY4ZGRnyeDzq6OjQyJEjJUkez+Vi+PSnP61///d/9xtfU1OjzMxMSVJmZqZOnDjR7fy0adOUkpKi0aNHq6amxvdYdX19vRwOR7fHtPvi8Xjl8fS2EeHw4XZ71Nlp3A+hu/OnaP/O7g1jrmS1Jemu/CmGvi7CX2OdQzvLKtTa3K4Ea7xmFOTKnp4a6mlFLaNrH0D4o+6B6ETtA9GJ2kekMWwTgKlTp2rs2LH64Q9/KJfLpcbGRv3zP/+zZsyYob/5m7/R+fPnVVpaqo6ODu3fv19bt2717dtYWFiorVu3av/+/ero6FBpaakaGhqUl5cnScrPz1dJSYlqa2vV0tKi1atXKycnR+PGjTNq+uiFPT1VE3KypN4Wh5qk8TmZBE1RxO12q/TpLVq9aL12bdmrfTve1a4te7V60XqVPr1Fbrc71FMEAAAAAAAhZPJ6vYYt+zt37pzWrFmjgwcP6uLFi7r77ru1fPlyWa1Wvffee1q1apWqq6tlt9u1aNEi5efn+6599dVXVVJSonPnzikjI0MrVqzQZz/7WUlSR0eHfvrTn+q1116Ty+XS5MmTtXLlSl133XUBz62+3mnU2wxLsbExstkS1dTkMvxfPdxutzaufUVHK6vV3NTiO261JWl8TqYWLJkjs9ls6GsifJU+vUX7dlT13LncJE255zYVLSvo4SSCIZi1DyA8UfdAdKL2gehE7SPcpKUlBzTO0MAxnBE4XjvfI7TOdiUmWzS9MFf2tJSgvBbCU2OdQ6uL1/fZudxqS9Ij64tZ9TpE+AMIEH2oeyA6UftAdKL2EW4CDRwN28MRw589PVXzimeGehoIoZ1lFX2GjZLU3NSiXWV7Nbf4y0M0KwAAAAAAEE4M28MRwPDX2tze/yBJLmdb/4MAAAAAAMCwROAIIGAJ1viAxiUmW4I8EwAAAAAAEK4IHAEEbEZBrpJtiX2OsdqSNL1g6hDNCAAAAAAAhBsCRwABs6enakJOlmTqZYBJGp+TScMYAAAAAACiGE1jAAzIgiVzJJl0tLJazU0tvuNWW5LG52R+eB4AAAAAAEQrAkcAA2I2m1W0rECNdQ7tLKtQq7NdickWTS/MlT0tJdTTAwAAAAAAIUbgOIz5AqHmdiVY4zWjIJdHXWEYe3qq5hXPDPU0AAAAAABAmCFwHIbcbrc2ri3XkcpqOZtcvuOVuw5pQk6WFiyZI7PZHMIZAgAAAAAAYLgicByGNq4t174dVZLX/7izyaV926tU895J3TL1U6x4BAAAAAAAgOEIHIeZhnMOHTlQ3S1svFL96Ubt2rKXFY8AAAAAAAAwXEyoJwBjvbG5Qk6Hq/+B+nDF444qbVz7SnAnBQAAAAAAgKhB4DjMuJytA7vAKx2trFZjnSMo8wEAAAAAAEB0IXAcZhKTEwZ8TXNTi3aV7Q3CbAAAAAAAABBtCByHmby5uUq2JQ74OpezLQizAQAAAAAAQLQhcBxmrhudqgk5WZJpYNclJluCMyEAAAAAAABEFbpUD0MLlsyRZNLRymo1N7X0O95qS9L0gqnBnxgAAAAAAACGPQLHYchsNqtoWYEa6xzaWVahw3uPqf50Y8+DTdL4nEzZ01OHdI4AAAAAAAAYnggchzF7eqrmFc9UwYN/rY1rX+m24tFqS9L4nMwPV0QaqyvsbG1uV4I1XjMKcgk1AQAAAAAAogCBYxS4esVjq7NdickWTS/MlT0txdDXcrvd2ri2XEcqq+VscvmOV+46pAk5WVqwZI7MZrOhrwkAAAAAAIDwQeAYRbpWPAbTxrXl2rejSvL6H3c2ubRve5Vq3jupW6Z+ihWPAAAAAAAAwxSBIwzTWOfQkQPV3cLGK9WfbtSuLXtZ8QgAAAAAADBMxYR6Ahg+dpZVyOlw9T9QH6543FGljWtfCe6kAAAAAAAAMKQIHGGY1ub2gV3glY5WVquxzhGU+QAAAAAAAGDoETjCMAnW+AFf09zUol1le4MwGwAAAAAAAIQCezjCMDMKclW565Bfd+pAHD1YLVdzmxKs8UPWTMbXsbu5fUhfFwAAAAAAYLgLSuDodrtVVFSkj3/841qzZo0k6dChQ/rxj3+smpoa2Ww2FRcXa+7cub5rysvLtX79etXX1+vGG2/Uo48+quzsbN/9fvKTn+jVV19VW1ub7rjjDv3oRz9Senp6MKaPQbKnp2pCTlaPXar7cuZkvc6crJekoDeTcbvd2ri2XEcqq/2C0YG+LoElAAAAAABAz4ISOP7sZz/T22+/rY9//OOSpAsXLujBBx/Ud77zHd1///06ePCgFi9erJtvvlm33HKLDhw4oJUrV2rDhg265ZZbtGnTJhUXF2v37t2yWCwqKSlRRUWFysrKlJycrEcffVQrVqzQL3/5y2BMH9dgwZI5kkw6Wlmt5qaWAV/f1UxGMqloWYHh89u4trzHQDTQ1zUqsEToEBaHLz4bAAAAABgeDA8c9+3bpx07duiee+7xHduxY4dSU1M1f/58SdKUKVM0a9Ysbdq0Sbfccos2b96smTNnatKkSZKkoqIi/eY3v9G2bdtUUFCgzZs3a+nSpRozZowkafny5brzzjtVW1ursWPHGv0WcA3MZrOKlhX4goPDe4+p/nTjwG5yRTMZI8OGxjqHjhyo7n31ZQCve62BJUKHsDh88dkAAAAAwPBiaNOYhoYGLV++XGvXrpXFYvEdP3HihLKysvzGZmRk6NixY5KkmpqaXs87nU6dPXvW7/yoUaOUkpKi48ePGzl9GMienqp5xTP1o9KHNOXe22S1JQ3o+mA0k9lZViGno+/9Jft63YEElgg/XWHx1XuMdoXFG9e+0uf1jXUOvVTyukqfKtNLJa/zORvoWj8bAAAAAEB4MWyFo8fj0cMPP6wHHnhAn/rUp/zOuVwuvwBSkuLj49Xa2trveZfr8l9AExISup3vOheImBiTYmJMAY+PNGZzjN+v4SI2Nkbf/OFcNZxz6I3NFWptadN//6VWpz+o6/faNle7YmONez9tLe2BjevldX//8r6AAsvdL+/T/d+eOag5Ijgazjl0tLL/sPhCQ7OuG53qd8rd6da/PfOy3jtwXM1XBGIHdx3SxMk36+sP58scG7rVd+Fa+4G6ls8GiFaRXvcABofaB6ITtY9IZVjg+Itf/EIjRozQggULup2zWCxyOp1+x9rb25WYmOg7397e3u28zWbzBZFtbW29Xh8Iuz1RJtPwDRy7WK2WbsfOn23S1o271dLcqiRrgmYtuEujrrcNyXyufu25C2dr68bdAQWO9lFW2WyBf8b9uS7NGtC43l6389KlgK7vuNRh6Lxx7V55brtfWNiT5qYW7dlaqQcenuN3/F8efVF7t78rr/fq8S7t3f6uRoyM0z+snG/0lAesp9qPBNfy2QDRLlLrHsC1ofaB6ETtI9IYFji++uqrqqur0+233y5JvgBx586dWrZsmSoqKvzG19TUKDMzU5KUmZmpEydOdDs/bdo0paSkaPTo0X6PXdfX18vhcHR7DLsvjY2uYb/C0Wq1qLm5TW63R1LvK7Pe/O3BoK/M6uu1sz77V0pOTZDT0drr9VZbkj4/K0dN/QQRA/H5WZP15m8P9hlu9PW6sSNGBPQ6cSPiDJ03rl1DfXNA4xrPN/t9dg3nHHrnraPdwsYuXq/0zltHVXPsf0O2+q6n2o8kg/1sgGgW6XUPYHCofSA6UfsIN4EusDIscPzd737n9/UPfvADSdKaNWvU1NSkZ555RqWlpZo/f77eeecdbd26VevXr5ckFRYWavHixfrSl76kSZMmadOmTWpoaFBeXp4kKT8/XyUlJZo4caJsNptWr16tnJwcjRs3LuD5eTxeeTy9PbM3fLjdHnV2Xv4hVPp0mfZtr+o2prnJpYrt78rjVdAanJQ+XdZjc5XmJpfefvOI0sbY5bzQ2vNjlCZpfE6mUq6z+t6LEVKus2p8TlaP8+oy0jJC21/a02N33Lvzp2j/zu77zF3JakvSXflTDJ03rp0lKT6wcYnxfp/d9pf2BLT6bsdLf9Tc4i9f0xyv1ZW1H0kG+9kAiNy6B3BtqH0gOlH7iDSGd6nuic1m0/PPP69Vq1Zp3bp1stvtWrFihe644w5Jl7tWP/bYY3r88cd17tw5ZWRkaMOGDUpNTZUkLV68WJ2dnZo/f75cLpcmT56sZ599diimHrHqzzTo4O8P9z4gSJ2gpcCaq7S3XlT258fr/fdOqrmpxXfKakvS+JxMLVgSnEcnL9/XpKOV1X6vK9PledWfbtSuLXt77I5rT0/VhL4Cyw+DUqP/e+LazSjIVeWuQ/2GxdMLpvoda20ObN9Pl7Ot/0Eh0NUtvrW5XQnW+B6D9FAb7GcDAAAAAAhfQQsc16xZ4/f1xIkT9etf/7rX8V/5ylf0la98pcdzcXFxWrp0qZYuXWroHIezny/fqM4Od59jmptatP6fXtQn/mqMoWFEIN2gnQ6XrktP1bz1X74ciDjblZhs0fTCXNnTUvq89lpCFLPZrKJlBb57HN57TPWnG7sFiF3dcSWT3yrQ3gLLYAeluDaDDYsTrIGtvktMDq/9VNxutzauLdeRymq/IK+nID3UCPIBAAAAYPgZkhWOCK7GOod+//I+dV66pNgRI3TbtPGqP90U0LW1J86o9sQZScaFEYGuCjt6sFrTC6ZqXnFgHZ2NDFHs6amXV1btPNT7oB5WgV4dWA4kKDVCuKxYG4p5GP0agwmLI3X13ca15T0GeL0F6aFGkA8AAAAg0oXL39fDhcnr7a0dwvBSX+/sf1CE6S2AixsZq46LnYO7qUmacs9t1xRGvFTyunZt2RvQ2GRbol9Y2FeBlj69pc9VUAOdd6DznFGYGwb78/X8WceOiFXaGJsWr1qgtDHXhWweV3+O4fwaAw2L+/++y1bRssJBz+daxcbGyGZLVFOTS52dHjXWObS6eH2fq4yttiQ9sr447H7zC1WQD0Saq+seQHSg9oHoRO2Hv6H4e3I4SUtLDmgcKxwjWG+rmAYdNkrdVvUNJqEPZFVYl64VV16vZDKp19WLMxfc1e++kAPdkzKS9ufr7bPuvNSpMyfr9fgD6/S5uycG/QfZUKycC/Zr2NNTA15VK0Xe6rtAtjRobmrRrrK9IQ/SrzbQzwYAAAAAQi3SnjAbKgSOEarfxizXoLmpRTu3/FGtLe2Deny53z3ZruaV3vnDe+q41D0o7SrQD479zzWHKFeHp6YAc7lQ788XyGfd2dH5YUfy4P0gC6QZ0LU2IhqK1xioUD9GP1CRFKQDAAAAQCQLx7/DhgsCxwgVyCqma3F433HVnwm8mcrVeu0G3YuewkYfr3T+TGB7UvYUovS2vDkxJUGxI8zqvNR7c51w2J9vIJ91MH+QDcXKuXBenRcpq+8itdENAAAAAESacP47bKjFhHoCGJxAVzENlqOhOaCEvieNdQ6V/fJ3kleacEeW0j5uv+b59BlIXqGnEKVrefPVj3i7LrT2GTaGS3fcgXzWXT/IQjmPa1k5x+q8azejIFfJtsQ+x4RDkA4AAAAAkY6/w/aOFY4RKtBVTIMRNzJOHRc7+hzTU0LfVxMbI8TGxaqzo/fgsacQJZDHkeNGxGpEfJxczR/9AAin/fkG+lkH6wfZUKycY3Xetet3S4MwCdIBAAAAINLxd9jeEThGqBkFufr9y/vk9Ri8iaNJSr0uWfWnG/sdenWwFZQmNldI+5hdZ07VDShECWR5c8elTk2ecatGJowIy/35BtKER5LM5hi9VPJ6QI1+BtIUKJB5XOvKuaF4jWgQaY1uAAAAACAS8XfY3hE4RijH+eaAwsYR8XG61N73asUuXWFEfGK8dr+8r9/xVyb019rEJpC9FBevWqDXN+4eUIgS6PJmt9szpPvzDSTo861Y217V733jRsTq3T8e8XvfPTX66W01al9NgYZi5Ryr84wRaY1uAAAAACAS8XfY3hE4Rqh/X/daQOM6Lnbq+k+m6ZMZH9epmtNyOlrUcqHVdz5uZJxSr0vWxDs+pbx5d8qelqLGOofe3n14QAl9oI1NYswmedwfVWFXWOj1eLV/55/6LNC0MfYBhyjhtrx5MEGf9NGKtYO7D6uzj/0sOy51dtvvsqdGP72tRu2vKdBQrJxjdZ5xIqXRDQAAAABEKv4O2zMCxwjV3nIxoHFer1dnT9brhps/ocef/8eAwrp+E3p1T+gDXUl4ZdgYNzJWGRPH+YrPFBMTUIHa01M1oyBXO8sq5Gpu084tf9SMglxJ6rZqcCiWNw9kteJgg76uFWszF9ylny9/QefPNPkFi0kpCWpvvajOjl5WiV7V6KfP1aje3rtdD8XKOVbnAQAAAAAiBX+H7ZnJ6/UavAlgeKqvd4Z6Cob60Td+qtMf1AU8Pm5ErJ74t+/Knp7qF5CZY03yeL3yuuUXlrndbr3wTLnefvO9bivqYuPMuv2LE/W1h/N9q/FeKnldu7YMojuySZpyz22+kK2/Au1thWDsCLPklV/glmxL1IScrH5XT065J1tFywoHPPXe5tL1ulevVmysc2h18fo+V4JabUl6ZH1xv8utr/7v1Nbapopt7/Y75xmFufLKG9BnNaMw168pEMJTbGyMbLZENTW51NnpCfV0AAwB6h6ITtQ+EJ2ofYSbtLTkgMaxwjFCXX9D2oACx45Lndr6wi55Pd5uAdmVrny01xSjHh/f7exwa//OP8kUE+MLCgfa2MTnqtV0/T0C2tsKwZ72f+xaNXhHXram3HObIcubrwxrPzheqzMn63t93atXKwby2HlP3b97cvV/p9KnygKav8vZFvA+m8Hqdg0AAAAAAIY3AscINXLEyAFfU/XWUbW1XuwzcOoKy9rbLqnm8Ae9D+whKAy0scnVAg3ZBtWYxiv9+eAJPbK+WLOLpve4ejKQR6J7W83Y1+u+vfuwTDHSrK9Nlz09NeDHzgcT9A1kr0pvgP8Bh2pfSwAAAAAAMLwQOEaoQAOmK7W3XgosrPNe3uOv42Lf3a2vDArrzzTqv//yPzKZTBrMU/qBhGyBNqbpa55Xrgp0u90qfXpLQA1celtZ2ZeOS53a+5/vqnLXYaWNsemTn/5EQNcFGvRdGZSazFJiSoJcVzQEutqVe1UGe19LDMxA9gEFAAAAACDcEThGqME8wjyQILC/sLFLS3OrSp/e8mH35F4algQgJsbU75hAVwj25OjBak0vmOoX4gTawGVQKyuv0HmpU2dO1qv+dKNiR5j7/O8USNDX5z6WvTH5N/rpsymQqXtToGgylOHfYLuWAwAAAAAQzggcI1QgnaSvZIoxyesxvj/Qnyr+rHZXYB2z+7zP3r/I8/SWPgOWwazq7HLmZL1+/H9+rlvuuFkLlszRhQZnwJ2aB7uy8mq9dpDuEmDQ198+lnEjYv06WPe0V+Xl/28yZF/L4SIU4d9gu5YDAAAAABDOCBwj2N89NFs1751U/ZnGfkPH9E9cp3Onzg/o/nEj4/pd6WhE2ChJrgut/QYsg25Mc+VrbK+S1yslWi0BN3C5lpWVPYkbEasR8XFyNX/0GHmgQV9jnUOH9v6lz897RHycJs/4rNxub4+dviXJbDb7Vm/21RU8mgx1+Nfvytmr9kkFAAAAACBSEDhGsH9/9rV+w0ZznFn2tBT91c2f0PkzTXL3t8ruQ1ZbkjJu+aTefevooB8lHrCrApaeHm0dyKrO3rzzh/c0YfLNAY11OduuaWVlTzoudWryjFs1MmHEgII+t9utn/6gVK3OvgNQV3Ob4hPi+23CI3Xvdh2tQhH+Gdm1HAAAAACAcELgGKEC3VfQ3eFW/elG1Z9uDPzmHz7au2DJHG2Mf6XbY7fB1NzUop1b/qjWlvYeH20df3um7piRrT+/fcJvTnEjLn8rX/kocW86LnXqXG19QPNJTLZoesHUa1pZ2RO32zPgoG/j2nKdPRnYvAfT6TqahSL8C2bXcgAAAAAAQonAMUIZta/g1a58tPfKx27X/9OLqj1xxvDX68nhfcd7XLnpbHJp/84/aco9t+mR9cXdHgWW16uVD/5LvysAJamjw61kW2JAnZoD2S8z/eN2NdY3qzOAwFMKvBN1F1/AHKCB3j/ahSL8C3TlLJ8lAAAAACDSEDhGKKP3FZSkcZljVLxyQbdHe+3pqfrEX40ZssDR0dDc76Ots4um97hCMMWWHFDgGBtrvhwibq/qdcxIywilXJcsKbAmKxvXlvd5vyuv6a8T9dUGEjDHjYgd8P2jXSjCv0D2JB3M9woAAAAAAKEWE+oJYHCM3ldQkj5+45ge9xF0u9367+O1hr9eT2LMJnVc7HuVYNejrT35q/FjA3qdGz8zVguWzFHax+y9jqk/06iNa1+R9FGTlUfWF2t64VRNufc2zSjM1SMli1S0rFBms1kLlszRlHtvU2xc352MP3N7xoD3ARxIwDxUW24OJzMKcpVsS+xzjNHhX9fKWZl6GRBg13IAAAAAAMINKxwj1IyCXL356gF1BtgEJhAfHPsfud1umc3+gdlA9g68Vh53YHFZb4+2zvradFXuOqTOS73/d4kdEau/+drdutDgVHtrH122e2gU0leTla5Qsr2tXVVv/bnX235w/H9U+lSZrxHO1YFST81yBhIwd17qpNHIAPX72Pwgw7+ePssr7xHIylkAAAAAACINgWMEc3d6DL3fmZN1+t6cVbr9CxM0c8Hdvk7RA9k7cKj09mirPT1Vt39hova/8ader739CxNkT0/VSyWvG94opLHOoZrDJ/scc/bUeZ09dV7S5UY4E3KyfMHSxrXlPTbLyZj4yX73nLxSQ50joHH4iJHhn9vt7vWz7Pq8zWaz3z6pV+9J2l/XcgAAAAAAwhWBY4R6fePv5fUa//Bsu+ui/rjtHe1/40+6/YsTlZBsCUpzmmthtSVp0hcm6KWS13tcOTb/e1/R+0dP9diZO+1jds3/3lckBadRyOsbfz+g/17OJtflVXUySfL2uMLO2eRS1Z4/K22MPeDA8ciBapU+vcUXbKF/RoZ/G9eW9/pZdn3eRcsKfMf7WjkLAAAAAECkIXCMUDVHTwX1/p0dbu1/40+yJI4M6usMxkjLCP1sxUa5LrT6ju3bXiWrPUk3ZH5CJ0/8T49ho3R5X8Z/f3aripYVGNoopGtF28Hd7wX2Jq7kld7bf0wej6fPZjntrRc1cfLNeq/yeL8bNXZc7Ogx2EL/rjX8860K7qfx0ZWP6gMAAAAAMJwY2jTm2LFjeuCBB5STk6Pc3FwtW7ZMjY2Xg59Dhw5p7ty5ys7O1t13363Nmzf7XVteXq68vDzdeuutys/PV1XVR91+3W63nnrqKU2dOlXZ2dkqLi5WXV2dkVOPOKYh6gzS5upjj8MhZrUlKe1jNtWfbvQLGyWp1dmmsyfrtX9nlc70td/kFWGPkY1Cula0dV7qu+FNb1outPbbXdvpcGn02FHK/vxnArvpFe8VQyeQjuJ9NT4CAAAAACDSGRY4tre365vf/Kays7P1xz/+Ub/97W/lcDj0wx/+UBcuXNCDDz6o++67TwcPHtSqVav05JNP6vDhw5KkAwcOaOXKlVqzZo0OHjyo2bNnq7i4WG1tlx9lLSkpUUVFhcrKyrRnzx7Fx8drxYoVRk09Io25MT2gcSPi4xQbF/kLWWNjYzQyIU6Ndc3XfK+usMeoLsH9rmgzkMvZpoUr/lZT7r1NcSPj+h1PsDX0gvGoPgAAAAAAkcSwwPH06dP61Kc+pcWLF2vEiBGy2Wy6//77dfDgQe3YsUOpqamaP3++YmNjNWXKFM2aNUubNm2SJG3evFkzZ87UpEmTFBcXp6KiItlsNm3bts13fuHChRozZoySkpK0fPlyvfXWW6qtrTVq+hEnISGwx4EvtXeos2Nwq+7CSWenR/X/2yR3pzFdubvCngVL5mjKPbfJakvyO2+1JWnKPdkBNQoJZEWbURKTLb69BidOzgroGoKtoWXko/oAAAAAAEQiw5a+3XjjjXruuef8jm3fvl3jx4/XiRMnlJXlH45kZGRoy5YtkqSamhoVFBR0O3/s2DE5nU6dPXvW7/pRo0YpJSVFx48f19ixYwOaX0yMSTExvS1lizwezxA9Uz1MJVsTFBsbo9jYGH3zh3PVcM6hNzZXqLWlTYnJFuXNzQ14f722lsBWtPUlKSVRXq9brj5Wx1ltSbpn3p2Kjb387wTXjbYFdO+u94qhce+8z+vgrkNq7qPBz9Wf5bUwm2P8fgUw/FH3QHSi9oHoRO0jUgXlWVuv16tnn31Wu3fv1osvvqgXXnhBFov/ap74+Hi1tl7eh8/lcvV63uW6/Jf2hISEbue7zgXCbk+UyTR8Asfr0qyhnkLEGhkfJ6ejRa88t12zFtwlSdqz9YA6L12SfVSyZi24S6Ou7znMO3+2SVs37lZLc6uSrAmateCua/4sTCbpc18cL0n6w2uV6qn5uMkkTZr2GWV86uO+Y3MX5qny94d0ocHZ671Tr0tW4cI82XrZq7Kn99Pbe0dgbLZETZo2fkCfpRGsVlZMAtGGugeiE7UPRCdqH5HG8MCxpaVFjzzyiI4ePaoXX3xRN998sywWi5xO/1Ckvb1diYmXQxCLxaL29vZu5202my+I7NrPsafrA9HY6BpWKxw/P2uydm+tVIujtf/B8HOxvUP73viTJOl3v/mjvPKq89JHj2q/+duDmjj5Zn394XyZY82SJHenW//2zMt678Bxv5Vrb/72oLI++1dKTk2QcxCfhclk0vXjRunev50me3qqLl1y6739x9Xc1OIbY7UlaeLkLH31O7PVdMVrm0eO0ITPZapi+7s97x9pksZ/LlPmkSP8ruvv/Vz93iX5VoC6nK1KTE5Q3txcXTc6dcDvN1p89TuzB/RZXguzOUZWq0XNzW1yuz2G3BNAeKPugehE7QPRidpHuOltQdPVDA0cT506pYULF+pjH/uYtmzZIrvdLknKyspSRUWF39iamhplZmZKkjIzM3XixIlu56dNm6aUlBSNHj1aNTU1vseq6+vr5XA4uj2m3RePxzusHkNOuc7ab1dj9K+jh67SzU0uVWx/Vx6vVLTs8qP+pU+Xad/2qh7Hvv3mEaWNsct5oXXAjWO8Xq/OnKzXiq89q1Efs+nbq76mv/na3dpZVqFWZ7sSky2aXpgre1qKvLq8l+WV5n/vPnk+7EZ9dbA1PidT8793X7drGuscWveD0h67eV/93t1utzauLdeRymo5rwjI9u+s0oScLC1YMkdms7nbfWDS15bmq7HOEfBnea3cbo/h9wQQ3qh7IDpR+0B0ovYRaQwLHC9cuKCvf/3ruuOOO7Rq1SrFxHy0v0BeXp6eeeYZlZaWav78+XrnnXe0detWrV+/XpJUWFioxYsX60tf+pImTZqkTZs2qaGhQXl5eZKk/Px8lZSUaOLEibLZbFq9erVycnI0btw4o6Yfcf70x6Py8K8bwfNhiNdY51BDXZP2f7gisrex7a0Xlf358ar+03/J1TzwJi2dHZ06e7Jej/9/z+pzd90ScJDX1UCmt2DrSl3h4eH9x+W60MdqzCve+2ulO7VvR1W3INXZ5NK+7VX64Nj/6IabxyrBGq8ZBYHvexkt7Ompmlc8M9TTAAAAAABgSJm83p52GRu4X/3qV1qzZo0sFku3vRKrqqr03nvvadWqVaqurpbdbteiRYuUn5/vG/Pqq6+qpKRE586dU0ZGhlasWKHPfvazkqSOjg799Kc/1WuvvSaXy6XJkydr5cqVuu666wKeX3197/vcRaLvzlmp1j4ajISTGz79cbk7PWpuatGF85H1OYz5ZLrOnqpXIGUy5pNpana4+g7zAjTl3tt8qyuNUvr0lh7Dw97kfmmSDu87FnAH7mRbIqseQyA2NkY2W6Kamlz8iycQJah7IDpR+0B0ovYRbtLSkgMaZ1jgGO6GW+BYfM+jEbXCMcYcE1HzDTWrLUmPrC82bMVgY51Dq4vXBxweSpcD1J4eu+6TSZpyj/FhKXrHH0CA6EPdA9GJ2geiE7WPcBNo4Ehf9QgVaQ1wCBsHprmpRbvK9hp2v51lFQMKGwftisexAQAAAABAdCJwjFCfnnRTqKeAIHM5B74XZG8G+vi91Zakm8YPbo9Uo8NSAAAAAAAQWQgcI9Tf/eNXQj0FBFlissWweyVY4wMfbJLG52Rq5oK7lRxgu/urGRmW4to01jn0UsnrKn2qTC+VvM7qUwAAAABA0BnWpRpDy56eqrj4WHW0d4Z6KsOSOTZGboP3xxiXOUZtrouqP93Y79i4EbH64n2TfV/7ulA3tw+qI/SMglxV7jokZ1Pfj1UnWi26ZcqnfI1fJuRkDajRjO8+BoalGJyuruRHKqv9PvfKXYdo7gMAAAAACCoCxwjVWOcgbAwid6dHMinwoK2fsVZbkoqf+HulXJesjWtf0du7D6vjUu+fX8elTr2+8Q9asOQ+Q0Ije3pqv+GhJTFet975af3Ngum+ey5YMkeSSUcrq9Xc1NLv63S91+kFUwMai+DZuLa8x8/b2eS6fFwmmvsAAAAAAIKCwDFCbX1hV6inMPwNZFVfX2M/fES5a0Vi0bIC5X55ktY+9Jz6ahJ/tLJaz636jd5966ghoVGv4eGHYWmbq10V297V4X3H/cLMomUFH62wdLbrg+O1OvNBL92rr3qvCI3GOoeOHKju/fvyiuY+fFYAAAAAAKMROEao/z5aG+op4CppH7PrYtslvzDPakvS+JzMD8O+j1TtOdpn2Chdbr7y3n7jQqOrw8PDe49dfrw7gDDTnp6qecUzJXU9qvtKt+Cyt/eKoRdIV/Ku5j5zi788RLMCAAAAAEQLAscI1dHJ49Th5rNTP63pBVN9KwETky2aXpgre1pKt7GBdo3uuNjR5/nBhEb29NTLezruPNT7oD7CzJ5WPfb1XjH0Av3+orkPAAAAACAYCBwj1IgRcaGeQlSJjYtVZ0fvIW/XvoVXrgTsy4C6RvdjMKGRESvgAn2vwXKtjXSGs0C/v2juAwAAAAAIBgLHCGUfnarTH9SFehpRI+1jdp05Vdfz482D2LcwkK7RcSPj+l3hKA08NGqsc+jPlScCGhuOK+Dovty/QL6/aO4DAAAAAAiWmFBPAINzodEZ6ilEDastSYtXLdCUe26T1ZbU7dyUe7IHvG9hV9domXoZYJImTM5Usi2x37kFGhq53W6VPr1Fqxet15lTvTR9uUo4roDr6r58dZjWtffkxrWvhGZiYSSQ7y+a+wAAAAAAgoUVjhEqxkxWPCQ+DGbSxthVtKxA//XnU/r3da+p3XVRlsSR+uo/fkU3fnpsr5f39dhvb12jr2y+0hWuGbGyss979SAcV8DRfTlwgXx/AQAAAAAQDASOEaq25kyopzDsxY2I1e13TdSCJXNUf6ZRP1v+gs6fbvLby3H9oxt7fIw30Md++2u+YlRo1G9Qd7UwXQFH9+XA0dwHAAAAABAqBI4RytPpCfUUhr2RlhGaueAubVxbroO7D6vzkrvbGGeTS/u2V+lSe4dS06y+lYxN9Rf07ltHuwV8XY/9SiYVLSuQ1HfzFaNCo0CCui7hvAKO7ssDF+rmPgAAAACA6EPgCPSi5UKrfvytn6vddbHfse+8ecT/gEkDeuy3v47L1xoaBRrUjflkmr7z1ANhuwKO7ssAAAAAAIQ/AkegD4GEjT3q59Hlrsd+8x+8d0g6Lgca1I3/XFa3sLG/MDSYrn7t278wke7LuCah/H4GAAAAgGhB4AiEiMvZ1msjl54evb4WMwpyBxzUBboP5WD0F/r09drxlpGXHw83oJEOokcwv58BAAAAAP4IHIEQMZtjdGjvX4ak47I9PVUTcrIG1PE6GGFooKFPX6/tbHIp7WN2XWy7RPdlBGyown1EJla+AgAAAMYicARCwGpLksfrGdKOywPpeN1vV+tBhqGBhD6zi6b321G7taVNn5mUodr/OiuTpBs/M05/8/XpYbv3JEIrWN/PiHysfAUAAACCg8ARGGofrib0dm963SOjOi4PpON1IF2tBxqGBhr6mGLU72u7mtt0cPd7vq9bmlvl8XgIB9CjYHw/Y3hg5SsAAAAQHASOQBCZTJL3ir/IXrmasOyXvwvoHkZ3XA6k43WgXa0HEoYGGvr895//J+B7diEcQF+C8f2MyMfKVwAAACB4CByBYDFJt37+M7Knp/a4mnAwjVyGSqBdrQcShgYa+vTb4ruPywgH0JNgfD8j8rHyFQAAAAgeAkcgCK5cydjbI76DaeQyVIIRhgYa+tw0/pNqaW7t87V7QziAnoRzuI/QYeUrAAAAEDwEjoABJkzO0uixo/rcF7EnA2nkMpSCEYYGGvrMXHCX3G5376/dD8IBXC2cw32EDitfAQAAgOAhcASukclkUpI1QQUP/nWPqxl9TVqa25VgjdeMglxfsNFTIxdzbIy8Xo88nVLZL3/nN34oGR2GDiT06e21A0E4gJ6Ea7iP0GHlKwAAABA8BI7ANfJ6vdq/808yxcT4NSxxu916btVv9N7+anVc7PAdr9x1SBNysjRzwd3a/co+XxB513136PWNu3Vo71/8/gLcNX6oOzAPpKt1oAINfXp67ZgYk/609y9yXWjt9f6EA+hNML6fEdlY+QoAAAAEj8nr9Q6yQ8PQa2ho0KOPPqrKykqZzWbNnj1b3//+9xUb239uWl/vHIIZDp1vTV8e6ingKlZbkh5ZXyx7eqrcbrceK3pW9acbex0fO8Kszkvuj76OM6uzw93zYJM05Z7bhk0H5sGGPqVPb+kzHJhyT7aKlhUaP+EwFhsbI5stUU1NLnV2ekI9HSCiuN1ubVz7Sp//CDKU/9ATKOoeiE7UPhCdqH2Em7S05IDGRdQKx4ceekijR4/Wnj17dP78eRUXF6u0tFTf/OY3Qz01wK9hyYYf/7rPsFGSX9goqfewURp2HZjt6amaVzxzwNfxWCwAI7HyFQAAAAiOiAkcT548qcrKSr311luyWCwaO3asFi1apGeeeYbAEWHD5WxTY51DRw5UG35vOjATDgAIjsH+IwgAAACAnkVM4HjixAmlpqZq9OjRvmM33XSTTp8+rebmZlmt1j6vj4kxKSbGFOxpYhiKGxnntwdjX5KtCfr9y/vUcbEzKHNpc7UrNjYmKPeOJOkfs+vv/mFWqKcRFszmGL9fAQx/1D0Qnah9IDpR+4hUERM4ulwuWSz+3We7vm5tbe03cLTbE2UyETgicNePHaWcuyaq/kyT9r3xp37Hx42MVeHCPP3Hz18P2pzso6yy2RKDdn9ELquV7txAtKHugehE7QPRidpHpImYwDEhIUFtbW1+x7q+TkzsP4BpbHSxwjEKJVgtSrUnK2PiJ9XmuqiDvz8c0HVT78lW0fcLZI4169c/CyxATBtjl3nkCMWOGHEtU+6V1Zakz8/KUdMVHawBszlGVqtFzc1tcrvZRBqIBtQ9EJ2ofSA6UfsIN4EugoqYwDEzM1MOh0Pnz5/XqFGjJEnvv/++rr/+eiUn998hx+PxyuOJmIbcMMCVXaOly52Rj1W9L2cfgZ0pxqSl/7xQGRM+Ka+kzk6P7s6fov07q/q8LnZErBb9eEHA4wfMJI3PyVTKdVY6k6FHbreH7w0gylD3QHSi9oHoRO0j0kTMJgA33HCDJk2apNWrV6ulpUW1tbVav369CgsLQz21kPjFrlWhnkJ4+zCgu7Kjsz09VRNysqQ+FrrekXerMiZ80u9YINd97q6JShtj9x8/SLEj/P8dwGpL0pR7sunADAAAAAAAIkLErHCUpHXr1umJJ57Q9OnTFRMTo/vuu0+LFi0K9bQQaiZJVyxetdqSND4ns8eA7vIxk45WVqu5qSWgawZzXW/j40bGacLnMjUyYaT+fPBEj/eaueBu7X5lHx2YAQAAAABARDJ5vd6oeM64vt4Z6ikEzbemLw/1FHqVmmaVNTVJtTVndOW3Wow5Rh6PRzExJsWNiFPqKKvGZoxR3Ig4JSZbNOmLE/T2H97TmVP1OlX9v4qNjdWl9kvq7OyUyRSj2DizbvzMOI3+xCjf2IEEdI11Du0sqxhwqDfQ6/oaP9g5AFeKjY2RzZaopiYXj1gAUYK6B6ITtQ9EJ2of4SYtrf9tDSUCx2GDH0JAdKL2gehD3QPRidoHohO1j3ATaOAYMXs4AgAAAAAAAAh/BI4AAAAAAAAADEPgCAAAAAAAAMAwBI4AAAAAAAAADEPgCAAAAAAAAMAwBI4AAAAAAAAADEPgCAAAAAAAAMAwJq/X6w31JAAAAAAAAAAMD6xwBAAAAAAAAGAYAkcAAAAAAAAAhiFwBAAAAAAAAGAYAkcAAAAAAAAAhiFwBAAAAAAAAGAYAkcAAAAAAAAAhiFwBAAAAAAAAGAYAkcAAAAAAAAAhiFwBAAAAAAAAGAYAsdhoKGhQYsWLdLtt9+uyZMna9WqVers7Az1tAAM0LZt2/SZz3xG2dnZvv89/PDDkqRDhw5p7ty5ys7O1t13363Nmzf7XVteXq68vDzdeuutys/PV1VVle+c2+3WU089palTpyo7O1vFxcWqq6sb0vcGoLvGxkbl5eXpwIEDvmPBrHX+vACEXk91/9hjj2nChAl+v///5je/8Z2n7oHIdezYMT3wwAPKyclRbm6uli1bpsbGRkn8no8o4EXE+/u//3vvkiVLvK2trd5Tp055Z86c6d2wYUOopwVggNasWeP9wQ9+0O24w+Hw5uTkeF988UVvR0eHd+/evd7s7GzvoUOHvF6v17t//35vdna29+233/ZeunTJ+6tf/co7efJkb2trq9fr9Xr/5V/+xTtr1izv6dOnvU6n0/vQQw95Fy5cOKTvDYC/t99+2ztjxgxvVlaWd//+/V6vN/i1zp8XgNDqqe69Xq93zpw53pdffrnHa6h7IHK1tbV5c3NzvT/96U+9Fy9e9DY2NnoXLlzo/da3vsXv+YgKBI4R7oMPPvBmZWV5z5496zv2+uuve7/4xS+GcFYABmP+/PneF198sdvxl156yXvPPff4Hfunf/on77Jly7xer9e7ZMkS74oVK/zO//Vf/7V3y5YtXq/X6502bZr3tdde852rr6/33nzzzd5Tp04Z/RYABODll1/2fvGLX/S+/vrrfsFDMGudPy8AodVb3V+8eNE7fvx4b3V1dY/XUfdA5Hr//fe93/jGN7ydnZ2+Yzt37vTedttt/J6PqMAj1RHuxIkTSk1N1ejRo33HbrrpJp0+fVrNzc0hnBmAgfB4PDp69Kj+8Ic/6K677tK0adP06KOP6sKFCzpx4oSysrL8xmdkZOjYsWOSpJqaml7PO51OnT171u/8qFGjlJKSouPHjwf/jQHo5s4779Qbb7yhL3/5y37Hg1nr/HkBCK3e6v7YsWPq7OzUunXrNHXqVN1777365S9/KY/HI4m6ByLZjTfeqOeee05ms9l3bPv27Ro/fjy/5yMqEDhGOJfLJYvF4nes6+vW1tZQTAnAIDQ2Nuozn/mM7r33Xm3btk2//vWv9cEHH+jhhx/usc7j4+N9Nd7XeZfLJUlKSEjodr7rHIChlZaWptjY2G7Hg1nr/HkBCK3e6t7pdConJ0cLFizQm2++qWeeeUYbN27U888/L4m6B4YLr9erf/7nf9bu3bu1fPlyfs9HVOj+ux4iSkJCgtra2vyOdX2dmJgYiikBGIRRo0Zp06ZNvq8tFosefvhhzZs3T/n5+Wpvb/cb397e7qtxi8XS43mbzeb7w8XVPyeuvB5AeLBYLHI6nX7HjKp1r9fLnxeAMJSbm6vc3Fzf17fccou+/vWva9u2bfrmN79J3QPDQEtLix555BEdPXpUL774om6++WZ+z0dUYIVjhMvMzJTD4dD58+d9x95//31df/31Sk5ODuHMAAzEsWPH9JOf/ERer9d37NKlS4qJidEtt9yiEydO+I2vqalRZmampMs/B3o7n5KSotGjR6umpsZ3rr6+Xg6Ho9tjGgBCKysrK2i1zp8XgPC0c+dO/frXv/Y7dunSJcXHx0ui7oFId+rUKRUUFKilpUVbtmzRzTffLInf8xEdCBwj3A033KBJkyZp9erVamlpUW1trdavX6/CwsJQTw3AAKSmpmrTpk167rnn1NnZqdOnT+uZZ57RnDlzdO+99+r8+fMqLS1VR0eH9u/fr61bt6qgoECSVFhYqK1bt2r//v3q6OhQaWmpGhoalJeXJ0nKz89XSUmJamtr1dLSotWrVysnJ0fjxo0L5VsGcJW8vLyg1Tp/XgDCk9fr1ZNPPql9+/bJ6/WqqqpKL7zwgu6//35J1D0QyS5cuKCvf/3ruu222/T//t//k91u953j93xEA5P3yuU0iEjnz5/XE088oQMHDigmJkb33Xefli5d6rc5LYDwV1lZqf/7f/+vqqurNXLkSM2cOVMPP/ywRo4cqffee0+rVq1SdXW17Ha7Fi1apPz8fN+1r776qkpKSnTu3DllZGRoxYoV+uxnPytJ6ujo0E9/+lO99tprcrlcmjx5slauXKnrrrsuVG8VwIduvvlmvfDCC5o8ebIkBbXW+fMCEB6urvtf//rX+tWvfqVz585p1KhReuCBBzR//nzfeOoeiEy/+tWvtGbNGlksFplMJr9zVVVV/J6PYY/AEQAAAAAAAIBheKQaAAAAAAAAgGEIHAEAAAAAAAAYhsARAAAAAAAAgGEIHAEAAAAAAAAYhsARAAAAAAAAgGEIHAEAAAAAAAAYhsARAAAAAAAAgGEIHAEAAAAAAAAYhsARAAAAAAAAgGEIHAEAAAAAAAAYhsARAAAAAAAAgGEIHAEAAAAAAAAY5v8HeOrVkpMzfH0AAAAASUVORK5CYII=\n",
      "text/plain": [
       "<Figure size 1600x400 with 1 Axes>"
      ]
     },
     "metadata": {},
     "output_type": "display_data"
    }
   ],
   "source": [
    "plt.scatter(res['real']/28, res['fixed_pred']/28)"
   ]
  },
  {
   "cell_type": "code",
   "execution_count": 21,
   "id": "507d930c-af2d-4881-a8c6-38c5205252fe",
   "metadata": {},
   "outputs": [],
   "source": [
    "res.to_csv(\"result.csv\", index=False)"
   ]
  },
  {
   "cell_type": "code",
   "execution_count": null,
   "id": "ca9219ad-694c-4495-8eaf-b80a7c954bac",
   "metadata": {},
   "outputs": [],
   "source": []
  }
 ],
 "metadata": {
  "kernelspec": {
   "display_name": "Python 3 (ipykernel)",
   "language": "python",
   "name": "python3"
  },
  "language_info": {
   "codemirror_mode": {
    "name": "ipython",
    "version": 3
   },
   "file_extension": ".py",
   "mimetype": "text/x-python",
   "name": "python",
   "nbconvert_exporter": "python",
   "pygments_lexer": "ipython3",
   "version": "3.9.12"
  }
 },
 "nbformat": 4,
 "nbformat_minor": 5
}
