{
 "cells": [
  {
   "cell_type": "markdown",
   "id": "569e4f73-be7e-419c-ac37-a569b2264dcd",
   "metadata": {},
   "source": [
    "# Table of Contents\n",
    "\n",
    "- [I. Import libraries](#I)\n",
    "- [II. Import data](#II)\n",
    "  - [1. Download data](#II.1)\n",
    "  - [2. Import data](#II.2)\n",
    "- [III. Clean data](#III)\n",
    "- [IV. Time series model: Exponential Smoothing](#IV)"
   ]
  },
  {
   "cell_type": "markdown",
   "id": "6b5e1776-f90b-4f09-a104-ff09e717392e",
   "metadata": {},
   "source": [
    "# I. Import libraries <a name=\"I\"></a>"
   ]
  },
  {
   "cell_type": "code",
   "execution_count": 1,
   "id": "e0536fc6-8658-4a61-817e-3f269c345e99",
   "metadata": {},
   "outputs": [],
   "source": [
    "import pandas as pd\n",
    "import numpy as np\n",
    "import matplotlib.pyplot as plt\n",
    "import seaborn as sns\n",
    "\n",
    "import os \n",
    "import warnings\n",
    "\n",
    "from datetime import datetime, timedelta\n",
    "\n",
    "from sklearn.metrics import mean_squared_error, mean_absolute_error\n",
    "import statsmodels.api as sm\n",
    "from statsmodels.tsa.holtwinters import ExponentialSmoothing\n",
    "from statsmodels.tsa.exponential_smoothing.ets import ETSModel"
   ]
  },
  {
   "cell_type": "code",
   "execution_count": 2,
   "id": "6ad82e92-5e99-4c50-84d8-ab94044033b1",
   "metadata": {},
   "outputs": [],
   "source": [
    "# Turn off warnings\n",
    "warnings.filterwarnings(\"ignore\")\n",
    "\n",
    "# Set printed decimal limit\n",
    "np.set_printoptions(suppress=True)\n",
    "pd.set_option('display.float_format', '{:.2f}'.format)\n",
    "\n",
    "# Set plot theme\n",
    "plt.style.use('seaborn')\n",
    "plt.rcParams['figure.figsize'] = (16, 4)\n",
    "custom_colors = ['#512d6d', '#e6a2b4', '#6b7d96', '#b3cde0']\n",
    "plt.rcParams['axes.prop_cycle'] = plt.cycler(color=custom_colors)"
   ]
  },
  {
   "cell_type": "markdown",
   "id": "258b14ac-95c6-4449-9582-7460c5f57ef0",
   "metadata": {
    "tags": []
   },
   "source": [
    "# II. Import data <a name=\"II\"></a>"
   ]
  },
  {
   "cell_type": "markdown",
   "id": "8ad6d41f-3b2c-4eec-a986-8196cefb15f6",
   "metadata": {},
   "source": [
    "## 1. Download data  <a name=\"II.1\"></a>"
   ]
  },
  {
   "cell_type": "code",
   "execution_count": 3,
   "id": "3eed045c-6dab-4beb-9e07-d8eaafbb8a68",
   "metadata": {},
   "outputs": [],
   "source": [
    "file_id = \"1atOZX3YXmxx-_QebbTfndeC6U_DPTL2e\" # ID of the file on Google Drive\n",
    "file_name = 'Updated_data_2021&2022.csv'\n",
    "\n",
    "%run download.ipynb"
   ]
  },
  {
   "cell_type": "markdown",
   "id": "340ee809-38e9-4382-a2f4-c30098bd8c23",
   "metadata": {},
   "source": [
    "## 2. Import data <a name=\"II.2\"></a>"
   ]
  },
  {
   "cell_type": "code",
   "execution_count": 4,
   "id": "219c4eac-bdd3-4d04-8a20-ebf85a0cfbad",
   "metadata": {
    "tags": []
   },
   "outputs": [
    {
     "data": {
      "text/html": [
       "<div>\n",
       "<style scoped>\n",
       "    .dataframe tbody tr th:only-of-type {\n",
       "        vertical-align: middle;\n",
       "    }\n",
       "\n",
       "    .dataframe tbody tr th {\n",
       "        vertical-align: top;\n",
       "    }\n",
       "\n",
       "    .dataframe thead th {\n",
       "        text-align: right;\n",
       "    }\n",
       "</style>\n",
       "<table border=\"1\" class=\"dataframe\">\n",
       "  <thead>\n",
       "    <tr style=\"text-align: right;\">\n",
       "      <th></th>\n",
       "      <th>DATE_DIM</th>\n",
       "      <th>DAY_OF_WEEK</th>\n",
       "      <th>BET_ACCOUNT_NUM_HASH</th>\n",
       "      <th>AGE</th>\n",
       "      <th>AGE_BAND</th>\n",
       "      <th>GENDER</th>\n",
       "      <th>TENURE_IN_DAYS</th>\n",
       "      <th>RESIDENTIAL_STATE</th>\n",
       "      <th>FOB_RACING_TURNOVER</th>\n",
       "      <th>FOB_SPORT_TURNOVER</th>\n",
       "      <th>PARI_RACING_TURNOVER</th>\n",
       "      <th>PARI_SPORT_TURNOVER</th>\n",
       "      <th>TOTAL_TURNOVER</th>\n",
       "      <th>DIVIDENDS_PAID</th>\n",
       "      <th>GROSS_MARGIN</th>\n",
       "      <th>TICKETS</th>\n",
       "    </tr>\n",
       "  </thead>\n",
       "  <tbody>\n",
       "    <tr>\n",
       "      <th>0</th>\n",
       "      <td>2021-01-01</td>\n",
       "      <td>Fri</td>\n",
       "      <td>13154</td>\n",
       "      <td>67.00</td>\n",
       "      <td>65+</td>\n",
       "      <td>M</td>\n",
       "      <td>11846</td>\n",
       "      <td>WA</td>\n",
       "      <td>37.00</td>\n",
       "      <td>NaN</td>\n",
       "      <td>1081.00</td>\n",
       "      <td>NaN</td>\n",
       "      <td>1118.00</td>\n",
       "      <td>443.55</td>\n",
       "      <td>271.25</td>\n",
       "      <td>288</td>\n",
       "    </tr>\n",
       "    <tr>\n",
       "      <th>1</th>\n",
       "      <td>2021-01-01</td>\n",
       "      <td>Fri</td>\n",
       "      <td>18379</td>\n",
       "      <td>54.00</td>\n",
       "      <td>45-54</td>\n",
       "      <td>M</td>\n",
       "      <td>1884</td>\n",
       "      <td>WA</td>\n",
       "      <td>40.00</td>\n",
       "      <td>NaN</td>\n",
       "      <td>NaN</td>\n",
       "      <td>NaN</td>\n",
       "      <td>40.00</td>\n",
       "      <td>0.00</td>\n",
       "      <td>40.00</td>\n",
       "      <td>1</td>\n",
       "    </tr>\n",
       "    <tr>\n",
       "      <th>2</th>\n",
       "      <td>2021-01-01</td>\n",
       "      <td>Fri</td>\n",
       "      <td>559232</td>\n",
       "      <td>63.00</td>\n",
       "      <td>55-64</td>\n",
       "      <td>M</td>\n",
       "      <td>2866</td>\n",
       "      <td>WA</td>\n",
       "      <td>NaN</td>\n",
       "      <td>NaN</td>\n",
       "      <td>12.00</td>\n",
       "      <td>NaN</td>\n",
       "      <td>12.00</td>\n",
       "      <td>9.50</td>\n",
       "      <td>2.04</td>\n",
       "      <td>5</td>\n",
       "    </tr>\n",
       "    <tr>\n",
       "      <th>3</th>\n",
       "      <td>2021-01-01</td>\n",
       "      <td>Fri</td>\n",
       "      <td>698904</td>\n",
       "      <td>69.00</td>\n",
       "      <td>65+</td>\n",
       "      <td>M</td>\n",
       "      <td>2100</td>\n",
       "      <td>WA</td>\n",
       "      <td>NaN</td>\n",
       "      <td>NaN</td>\n",
       "      <td>1223.50</td>\n",
       "      <td>NaN</td>\n",
       "      <td>1223.50</td>\n",
       "      <td>267.91</td>\n",
       "      <td>245.12</td>\n",
       "      <td>40</td>\n",
       "    </tr>\n",
       "    <tr>\n",
       "      <th>4</th>\n",
       "      <td>2021-01-01</td>\n",
       "      <td>Fri</td>\n",
       "      <td>762921</td>\n",
       "      <td>67.00</td>\n",
       "      <td>65+</td>\n",
       "      <td>M</td>\n",
       "      <td>4766</td>\n",
       "      <td>WA</td>\n",
       "      <td>NaN</td>\n",
       "      <td>NaN</td>\n",
       "      <td>17.50</td>\n",
       "      <td>NaN</td>\n",
       "      <td>17.50</td>\n",
       "      <td>0.00</td>\n",
       "      <td>3.50</td>\n",
       "      <td>5</td>\n",
       "    </tr>\n",
       "  </tbody>\n",
       "</table>\n",
       "</div>"
      ],
      "text/plain": [
       "     DATE_DIM DAY_OF_WEEK  BET_ACCOUNT_NUM_HASH   AGE AGE_BAND GENDER  \\\n",
       "0  2021-01-01         Fri                 13154 67.00      65+      M   \n",
       "1  2021-01-01         Fri                 18379 54.00    45-54      M   \n",
       "2  2021-01-01         Fri                559232 63.00    55-64      M   \n",
       "3  2021-01-01         Fri                698904 69.00      65+      M   \n",
       "4  2021-01-01         Fri                762921 67.00      65+      M   \n",
       "\n",
       "   TENURE_IN_DAYS RESIDENTIAL_STATE  FOB_RACING_TURNOVER  FOB_SPORT_TURNOVER  \\\n",
       "0           11846                WA                37.00                 NaN   \n",
       "1            1884                WA                40.00                 NaN   \n",
       "2            2866                WA                  NaN                 NaN   \n",
       "3            2100                WA                  NaN                 NaN   \n",
       "4            4766                WA                  NaN                 NaN   \n",
       "\n",
       "   PARI_RACING_TURNOVER  PARI_SPORT_TURNOVER  TOTAL_TURNOVER  DIVIDENDS_PAID  \\\n",
       "0               1081.00                  NaN         1118.00          443.55   \n",
       "1                   NaN                  NaN           40.00            0.00   \n",
       "2                 12.00                  NaN           12.00            9.50   \n",
       "3               1223.50                  NaN         1223.50          267.91   \n",
       "4                 17.50                  NaN           17.50            0.00   \n",
       "\n",
       "   GROSS_MARGIN  TICKETS  \n",
       "0        271.25      288  \n",
       "1         40.00        1  \n",
       "2          2.04        5  \n",
       "3        245.12       40  \n",
       "4          3.50        5  "
      ]
     },
     "execution_count": 4,
     "metadata": {},
     "output_type": "execute_result"
    }
   ],
   "source": [
    "# File path\n",
    "current_dir = os.getcwd()\n",
    "parent_dir = os.path.dirname(current_dir)\n",
    "file_path = os.path.join(parent_dir, 'Data',file_name)\n",
    "\n",
    "df = pd.read_csv(file_path)\n",
    "df.head()"
   ]
  },
  {
   "cell_type": "markdown",
   "id": "cfb83b66-124c-4de3-a882-2c5f1372659e",
   "metadata": {},
   "source": [
    "# III. Clean data <a name=\"III\"></a>"
   ]
  },
  {
   "cell_type": "markdown",
   "id": "c74d72f6-c6ab-40de-8420-55a1f444be03",
   "metadata": {},
   "source": [
    "Based on our exploratory data analysis, we apply the similar steps to clean the data."
   ]
  },
  {
   "cell_type": "code",
   "execution_count": 5,
   "id": "12633d41-4222-4ff4-9c56-b23b06c56e5b",
   "metadata": {
    "tags": []
   },
   "outputs": [
    {
     "data": {
      "text/html": [
       "<div>\n",
       "<style scoped>\n",
       "    .dataframe tbody tr th:only-of-type {\n",
       "        vertical-align: middle;\n",
       "    }\n",
       "\n",
       "    .dataframe tbody tr th {\n",
       "        vertical-align: top;\n",
       "    }\n",
       "\n",
       "    .dataframe thead th {\n",
       "        text-align: right;\n",
       "    }\n",
       "</style>\n",
       "<table border=\"1\" class=\"dataframe\">\n",
       "  <thead>\n",
       "    <tr style=\"text-align: right;\">\n",
       "      <th></th>\n",
       "      <th>BET_ACCOUNT_NUM_HASH</th>\n",
       "      <th>TOTAL_TURNOVER</th>\n",
       "      <th>TENURE_IN_DAYS</th>\n",
       "    </tr>\n",
       "    <tr>\n",
       "      <th>DATE_DIM</th>\n",
       "      <th></th>\n",
       "      <th></th>\n",
       "      <th></th>\n",
       "    </tr>\n",
       "  </thead>\n",
       "  <tbody>\n",
       "    <tr>\n",
       "      <th>2021-01-01</th>\n",
       "      <td>13154</td>\n",
       "      <td>1118.00</td>\n",
       "      <td>11846</td>\n",
       "    </tr>\n",
       "    <tr>\n",
       "      <th>2021-01-01</th>\n",
       "      <td>18379</td>\n",
       "      <td>40.00</td>\n",
       "      <td>1884</td>\n",
       "    </tr>\n",
       "    <tr>\n",
       "      <th>2021-01-01</th>\n",
       "      <td>559232</td>\n",
       "      <td>12.00</td>\n",
       "      <td>2866</td>\n",
       "    </tr>\n",
       "    <tr>\n",
       "      <th>2021-01-01</th>\n",
       "      <td>698904</td>\n",
       "      <td>1223.50</td>\n",
       "      <td>2100</td>\n",
       "    </tr>\n",
       "    <tr>\n",
       "      <th>2021-01-01</th>\n",
       "      <td>762921</td>\n",
       "      <td>17.50</td>\n",
       "      <td>4766</td>\n",
       "    </tr>\n",
       "  </tbody>\n",
       "</table>\n",
       "</div>"
      ],
      "text/plain": [
       "           BET_ACCOUNT_NUM_HASH  TOTAL_TURNOVER  TENURE_IN_DAYS\n",
       "DATE_DIM                                                       \n",
       "2021-01-01                13154         1118.00           11846\n",
       "2021-01-01                18379           40.00            1884\n",
       "2021-01-01               559232           12.00            2866\n",
       "2021-01-01               698904         1223.50            2100\n",
       "2021-01-01               762921           17.50            4766"
      ]
     },
     "execution_count": 5,
     "metadata": {},
     "output_type": "execute_result"
    }
   ],
   "source": [
    "def clean_data(df):\n",
    "    # DATE_DIM: datetime\n",
    "    df['DATE_DIM'] = pd.to_datetime(df['DATE_DIM'], format='%Y-%m-%d')\n",
    "\n",
    "    # BET_ACCOUNT_NUM_HASH: string\n",
    "    df['BET_ACCOUNT_NUM_HASH'] = df['BET_ACCOUNT_NUM_HASH'].astype('O')\n",
    "\n",
    "    # More than zero\n",
    "    df = df[df['TOTAL_TURNOVER'] > 0]\n",
    "    \n",
    "    return df.set_index('DATE_DIM')[['BET_ACCOUNT_NUM_HASH', 'TOTAL_TURNOVER', 'TENURE_IN_DAYS']]\n",
    "\n",
    "df = clean_data(df)\n",
    "df.head()"
   ]
  },
  {
   "cell_type": "markdown",
   "id": "4c52c3d1-3fa5-4120-a74b-7be6af6c3150",
   "metadata": {},
   "source": [
    "# IV. Time series model: Exponential Smoothing <a name=\"IV\"></a>"
   ]
  },
  {
   "cell_type": "markdown",
   "id": "107be40e-6e39-4c92-90e7-7860768e3cfe",
   "metadata": {},
   "source": [
    "One of the downside of the predictive models above is that they do not factor in the time effects. Triple Exponential Smoothing, also known as Holt-Winters' Triple Exponential Smoothing, is a time series forecasting method that extends the concept of exponential smoothing to capture both trend and seasonality in the data. It is a popular technique used in various industries to make accurate predictions for time-dependent data.\n",
    "\n",
    "In this particular case, daily trend can be acting at high variance. Therefore, we choose weekly granularity level. We run a triple exponential smoothing model with trend factor on all historical data and predict the next 4 week turnover spending of a customer."
   ]
  },
  {
   "cell_type": "code",
   "execution_count": 6,
   "id": "6e07ae01-17ff-43f5-854e-82295b6b34f9",
   "metadata": {},
   "outputs": [],
   "source": [
    "# Define prediction period: Train set from  2021-01-04 (first Monday of the year) to 2021-05-10. Prediction/test set is from 2021-05-10 to from 2021-06-07\n",
    "date = '2021-05-10'\n",
    "future_date = (datetime.strptime(date, '%Y-%m-%d') + timedelta(weeks=4)).strftime('%Y-%m-%d')\n",
    "\n",
    "# Filter train and test set accordingly to the period defined above\n",
    "train_df = df[df.index < date]\n",
    "test_df = df[(df.index >= date) & (df.index < future_date)]\n",
    "\n",
    "# We filter out new customers who have not had at least 28 tenure days\n",
    "cus = train_df.groupby('BET_ACCOUNT_NUM_HASH',as_index=False).TENURE_IN_DAYS.max()\n",
    "legitimate_cus = cus.loc[cus['TENURE_IN_DAYS'] >= 28, 'BET_ACCOUNT_NUM_HASH']\n",
    "\n",
    "# Filter train and test set accordingly to the period defined above\n",
    "train_df = train_df[train_df['BET_ACCOUNT_NUM_HASH'].isin(legitimate_cus)]\n",
    "test_df = test_df[test_df['BET_ACCOUNT_NUM_HASH'].isin(legitimate_cus)]\n",
    "\n",
    "# Get result dataframe \n",
    "res = pd.DataFrame(columns = ['BET_ACCOUNT_NUM_HASH', 'real', 'pred'])\n",
    "X_test = test_df.groupby('BET_ACCOUNT_NUM_HASH').TOTAL_TURNOVER.sum()"
   ]
  },
  {
   "cell_type": "code",
   "execution_count": 7,
   "id": "320a5e68-6684-4d1b-ab32-ecbb6714664c",
   "metadata": {
    "tags": []
   },
   "outputs": [],
   "source": [
    "# Run Exponential Smoothing model on all \n",
    "\n",
    "for i in legitimate_cus: \n",
    "    # Filter customemean_squared_errorta\n",
    "    cus_df = train_df[train_df['BET_ACCOUNT_NUM_HASH'] == i]\n",
    "\n",
    "    # Resample train data into weekly granularity\n",
    "    X_train = cus_df.resample('W').TOTAL_TURNOVER.sum()\n",
    "    X_train = X_train.reindex(pd.date_range(start='2021-01-03',end=date, freq=\"W\")).fillna(0)\n",
    "\n",
    "    # Fit model\n",
    "    exp_smth = ETSModel(X_train, trend = \"add\", freq='W')\n",
    "    result = exp_smth.fit()\n",
    "\n",
    "    # Forecast\n",
    "    start = X_train.index[-1] + pd.DateOffset(weeks= 1)\n",
    "    end = X_train.index[-1] + pd.DateOffset(weeks= 4)\n",
    "    X_forecast = result.predict(start=start, end=end)\n",
    "\n",
    "    try:\n",
    "        real = X_test[i]\n",
    "    except:\n",
    "        real = 0\n",
    "\n",
    "    # Append result\n",
    "    pred = X_forecast.sum()\n",
    "    res = res.append({'BET_ACCOUNT_NUM_HASH' : i, 'real':real, 'pred': pred if pred > 0 else 0}, ignore_index=True)"
   ]
  },
  {
   "cell_type": "code",
   "execution_count": 8,
   "id": "ab845a1c-da8e-4c0e-aa78-bc5dc7c4f01c",
   "metadata": {
    "tags": []
   },
   "outputs": [
    {
     "data": {
      "text/html": [
       "<div>\n",
       "<style scoped>\n",
       "    .dataframe tbody tr th:only-of-type {\n",
       "        vertical-align: middle;\n",
       "    }\n",
       "\n",
       "    .dataframe tbody tr th {\n",
       "        vertical-align: top;\n",
       "    }\n",
       "\n",
       "    .dataframe thead th {\n",
       "        text-align: right;\n",
       "    }\n",
       "</style>\n",
       "<table border=\"1\" class=\"dataframe\">\n",
       "  <thead>\n",
       "    <tr style=\"text-align: right;\">\n",
       "      <th></th>\n",
       "      <th>MSE</th>\n",
       "      <th>MAE</th>\n",
       "    </tr>\n",
       "  </thead>\n",
       "  <tbody>\n",
       "    <tr>\n",
       "      <th>0</th>\n",
       "      <td>29623.28</td>\n",
       "      <td>30.15</td>\n",
       "    </tr>\n",
       "  </tbody>\n",
       "</table>\n",
       "</div>"
      ],
      "text/plain": [
       "       MSE   MAE\n",
       "0 29623.28 30.15"
      ]
     },
     "execution_count": 8,
     "metadata": {},
     "output_type": "execute_result"
    }
   ],
   "source": [
    "mse = mean_squared_error(res['real']/28,res['pred']/28)\n",
    "mae = mean_absolute_error(res['real']/28,res['pred']/28)\n",
    "\n",
    "eva_df = pd.DataFrame({\"MSE\":mse, \"MAE\":mae }, index=[0])\n",
    "eva_df"
   ]
  },
  {
   "cell_type": "code",
   "execution_count": 12,
   "id": "c8b1faaa-f171-4bb3-adbb-9435e416e9e5",
   "metadata": {},
   "outputs": [
    {
     "data": {
      "text/plain": [
       "Text(0.5, 1.0, 'Scatter plot: real vs pred')"
      ]
     },
     "execution_count": 12,
     "metadata": {},
     "output_type": "execute_result"
    },
    {
     "data": {
      "image/png": "[encoded data removed]",
      "text/plain": [
       "<Figure size 576x576 with 1 Axes>"
      ]
     },
     "metadata": {
      "needs_background": "light"
     },
     "output_type": "display_data"
    }
   ],
   "source": [
    "plt.figure(figsize = (8,8))\n",
    "plt.scatter(res['real']/28, res['pred']/28)\n",
    "plt.xlabel('real')\n",
    "plt.ylabel('pred')\n",
    "plt.title('Scatter plot: real vs pred')"
   ]
  }
 ],
 "metadata": {
  "kernelspec": {
   "display_name": "Python 3 (ipykernel)",
   "language": "python",
   "name": "python3"
  },
  "language_info": {
   "codemirror_mode": {
    "name": "ipython",
    "version": 3
   },
   "file_extension": ".py",
   "mimetype": "text/x-python",
   "name": "python",
   "nbconvert_exporter": "python",
   "pygments_lexer": "ipython3",
   "version": "3.9.12"
  }
 },
 "nbformat": 4,
 "nbformat_minor": 5
}
