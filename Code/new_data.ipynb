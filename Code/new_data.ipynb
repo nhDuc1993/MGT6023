{
 "cells": [
  {
   "cell_type": "code",
   "execution_count": null,
   "id": "314a8e10-0db5-4f1f-896b-bf4f62dd1096",
   "metadata": {
    "collapsed": true,
    "jupyter": {
     "outputs_hidden": true
    },
    "tags": []
   },
   "outputs": [
    {
     "name": "stderr",
     "output_type": "stream",
     "text": [
      "Downloading...\n",
      "From (uriginal): https://drive.google.com/uc?id=1atOZX3YXmxx-_QebbTfndeC6U_DPTL2e\n",
      "From (redirected): https://drive.google.com/uc?id=1atOZX3YXmxx-_QebbTfndeC6U_DPTL2e&confirm=t&uuid=4354bf27-d6d1-48d7-9c25-b653fe3720cf\n",
      "To: C:\\Users\\duc.nguyen\\Desktop\\GaTech\\MicroMasters\\6203 - Data Analytics in Business\\Team4\\Team-4\\Data\\Updated_data_2021&2022.csv\n",
      "  7%|█████▋                                                                       | 79.7M/1.08G [00:17<04:22, 3.81MB/s]"
     ]
    }
   ],
   "source": [
    "file_id = \"1atOZX3YXmxx-_QebbTfndeC6U_DPTL2e\" # ID of the file on Google Drive\n",
    "file_name = \"Updated_data_2021&2022.csv\"\n",
    "\n",
    "%run download.ipynb"
   ]
  },
  {
   "cell_type": "code",
   "execution_count": null,
   "id": "9e998d97-2d8a-4be5-af2f-a74f50f31978",
   "metadata": {},
   "outputs": [],
   "source": []
  }
 ],
 "metadata": {
  "kernelspec": {
   "display_name": "Python 3 (ipykernel)",
   "language": "python",
   "name": "python3"
  },
  "language_info": {
   "codemirror_mode": {
    "name": "ipython",
    "version": 3
   },
   "file_extension": ".py",
   "mimetype": "text/x-python",
   "name": "python",
   "nbconvert_exporter": "python",
   "pygments_lexer": "ipython3",
   "version": "3.10.9"
  }
 },
 "nbformat": 4,
 "nbformat_minor": 5
}
