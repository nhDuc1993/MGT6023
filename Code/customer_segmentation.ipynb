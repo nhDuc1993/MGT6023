{
 "cells": [
  {
   "cell_type": "markdown",
   "id": "b6f93812-0ad8-4235-aed7-ee005a73bb14",
   "metadata": {},
   "source": [
    "# Import libraries"
   ]
  },
  {
   "cell_type": "code",
   "execution_count": null,
   "id": "d9a79a69-334f-4fb3-89c8-f10ac87f2a2d",
   "metadata": {},
   "outputs": [],
   "source": [
    "import numpy as np\n",
    "import pandas as pd\n",
    "import matplotlib.pyplot as plt\n",
    "from mpl_toolkits.mplot3d import Axes3D\n",
    "import plotly.graph_objects as go\n",
    "\n",
    "import os\n",
    "import warnings\n",
    "\n",
    "from sklearn.base import BaseEstimator, TransformerMixin\n",
    "from sklearn.impute import SimpleImputer\n",
    "from sklearn.decomposition import PCA\n",
    "from sklearn.preprocessing import StandardScaler, FunctionTransformer\n",
    "from sklearn.compose import ColumnTransformer\n",
    "from sklearn.pipeline import Pipeline, FeatureUnion\n",
    "\n",
    "from statsmodels.tsa.holtwinters import ExponentialSmoothing\n",
    "\n",
    "warnings.filterwarnings(\"ignore\")\n",
    "pd.set_option('display.float_format', '{:.2f}'.format)"
   ]
  },
  {
   "cell_type": "markdown",
   "id": "25344e90-7488-4bba-8b36-75d2a07f64bc",
   "metadata": {},
   "source": [
    "# Download file"
   ]
  },
  {
   "cell_type": "code",
   "execution_count": null,
   "id": "9bd29736-b093-4572-a03a-a83594c23c5e",
   "metadata": {},
   "outputs": [],
   "source": [
    "file_id = \"1DopC7bm_EWX_ocqbOIkME9usE5rG3pZE\" # ID of the file on Google Drive\n",
    "file_name = 'Customer_data_2021&2022.csv'\n",
    "\n",
    "%run download.ipynb"
   ]
  },
  {
   "cell_type": "markdown",
   "id": "792d6aa2-2579-4c72-b6dd-c0479bfd6635",
   "metadata": {},
   "source": [
    "# Import Data"
   ]
  },
  {
   "cell_type": "code",
   "execution_count": null,
   "id": "48b2c795-f403-4628-9afa-b60abf820eb8",
   "metadata": {},
   "outputs": [],
   "source": [
    "# File path\n",
    "current_dir = os.getcwd()\n",
    "parent_dir = os.path.dirname(current_dir)\n",
    "file_path = os.path.join(parent_dir, 'Data',file_name)\n",
    "\n",
    "df = pd.read_csv(file_path)\n",
    "df.head()"
   ]
  },
  {
   "cell_type": "markdown",
   "id": "b181d7e5-1662-4784-bb21-9b3365afb308",
   "metadata": {},
   "source": [
    "# Aggregate"
   ]
  },
  {
   "cell_type": "code",
   "execution_count": null,
   "id": "9cd3d749-c6c1-412a-9a67-2e92cb8ee228",
   "metadata": {
    "tags": []
   },
   "outputs": [],
   "source": [
    "cus_df = df.groupby('BET_ACCOUNT_NUM_HASH', as_index=False) \\\n",
    "            .agg({'AGE': 'max', \n",
    "                  'DATE_DIM': 'count',\n",
    "                  'RACING_TURNOVER' : 'sum', \n",
    "                  'FOB_TURNOVER' : 'sum', \n",
    "                  'TURNOVER' : 'sum', \n",
    "                  'DIVIDENDS_PAID' : 'sum',\n",
    "                  'GROSS_MARGIN' : 'sum', \n",
    "                  'TICKETS' : 'sum'})\n",
    "\n",
    "# Create ratio columns\n",
    "cus_df['RACING_TURNOVER_PER'] = cus_df['RACING_TURNOVER'] / cus_df['TURNOVER'] * 100\n",
    "cus_df['FOB_TURNOVER_PER'] = cus_df['FOB_TURNOVER'] / cus_df['TURNOVER'] * 100\n",
    "cus_df['DIVIDENDS_PAID_PER'] = cus_df['DIVIDENDS_PAID'] / cus_df['TURNOVER'] * 100\n",
    "cus_df['GROSS_MARGIN_PER'] = cus_df['GROSS_MARGIN'] / cus_df['TURNOVER'] * 100\n",
    "\n",
    "# Drop columns\n",
    "cus_df.drop(['RACING_TURNOVER', 'FOB_TURNOVER', 'DIVIDENDS_PAID', 'GROSS_MARGIN' ], axis=1, inplace=True)\n",
    "\n",
    "# Impute age\n",
    "cus_df.fillna(44, inplace=True)\n",
    "\n",
    "# Define X\n",
    "X = cus_df.iloc[:, 1:]\n",
    "\n",
    "# Preview\n",
    "cus_df.head()"
   ]
  },
  {
   "cell_type": "markdown",
   "id": "01a836c4-e54d-4c66-b305-e9b0c20b781e",
   "metadata": {},
   "source": [
    "# Clustering without scaling"
   ]
  },
  {
   "cell_type": "code",
   "execution_count": null,
   "id": "e7755e40-d4e6-42be-9155-1962abfdc49a",
   "metadata": {},
   "outputs": [],
   "source": [
    "X = cus_df.iloc[:, 1:]\n",
    "inertias = []\n",
    "K = range(1, 16)\n",
    "\n",
    "for k in K:\n",
    "    kmeans_model = KMeans(n_clusters=k)\n",
    "    kmeans_model.fit(X)\n",
    "    inertias.append(kmeans_model.inertia_)\n",
    "\n",
    "plt.figure(figsize=(8,6))\n",
    "\n",
    "plt.plot(K, inertias, 'bx-')\n",
    "plt.xlabel('Values of K')\n",
    "plt.ylabel('Inertia')\n",
    "plt.title('The Elbow Method using Inertia')\n",
    "plt.show()"
   ]
  },
  {
   "cell_type": "markdown",
   "id": "a91e8e1a-69c9-43d1-8e65-cb3629915a4e",
   "metadata": {},
   "source": [
    "# Clustering wtih scaling"
   ]
  },
  {
   "cell_type": "code",
   "execution_count": null,
   "id": "aa247c2e-b8c0-48e7-819e-8e81474c8c1b",
   "metadata": {},
   "outputs": [],
   "source": [
    "X = cus_df.iloc[:, 1:]\n",
    "inertias = []\n",
    "silhouettes = []\n",
    "K = range(1, 16)\n",
    "\n",
    "for k in K:\n",
    "    pipeline = Pipeline([\n",
    "    (\"std_scaler\", StandardScaler()) ,\n",
    "    (\"kmeans\", KMeans(n_clusters=k)),\n",
    "    ])\n",
    "    \n",
    "    pipeline.fit(X)\n",
    "    inertias.append(pipeline.named_steps[\"kmeans\"].inertia_)\n",
    "\n",
    "plt.figure(figsize=(8,6))\n",
    "\n",
    "plt.plot(K, inertias, 'bx-')\n",
    "plt.xlabel('Values of K')\n",
    "plt.ylabel('Inertia')\n",
    "plt.title('The Elbow Method using Inertia')\n",
    "plt.show()"
   ]
  },
  {
   "cell_type": "markdown",
   "id": "ddd8ba94-6a4c-4c5e-a357-53a78a6f11c9",
   "metadata": {},
   "source": [
    "Choose n_cluster = 7"
   ]
  },
  {
   "cell_type": "markdown",
   "id": "29ef9923-59a1-432a-8852-603de6594604",
   "metadata": {},
   "source": [
    "# PCA to visualize clusters"
   ]
  },
  {
   "cell_type": "code",
   "execution_count": null,
   "id": "33101077-b88d-4951-a05b-5097ca950bfc",
   "metadata": {},
   "outputs": [],
   "source": [
    "kmeans_pipeline = Pipeline([\n",
    "    (\"std_scaler\", StandardScaler()) ,\n",
    "    (\"kmeans\", KMeans(n_clusters=7, random_state=42)),\n",
    "])\n",
    "\n",
    "kmeans_pipeline.fit(X)\n",
    "inertias.append(kmeans_pipeline.named_steps[\"kmeans\"].inertia_)\n",
    "\n",
    "labels = kmeans_pipeline.predict(X)\n",
    "labels"
   ]
  },
  {
   "cell_type": "markdown",
   "id": "b2487107-9ad0-4139-a691-c7c1c71465b3",
   "metadata": {},
   "source": [
    "### 2D"
   ]
  },
  {
   "cell_type": "code",
   "execution_count": null,
   "id": "e7766f35-6e85-4b26-a606-ff41ca18d916",
   "metadata": {},
   "outputs": [],
   "source": [
    "pca_pipeline = Pipeline([\n",
    "    (\"std_scaler\", StandardScaler()) ,\n",
    "    (\"PCA\", PCA(n_components=2, random_state=42)),\n",
    "]) \n",
    "\n",
    "pca_pipeline.fit(X)\n",
    "X_PCA = pca_pipeline.transform(X)\n",
    "\n",
    "explained_variance_ratio = pca_pipeline.named_steps['PCA'].explained_variance_ratio_\n",
    "explained_variance_ratio"
   ]
  },
  {
   "cell_type": "code",
   "execution_count": null,
   "id": "6f848bd5-e2e3-4084-9ac7-c334612e400f",
   "metadata": {
    "tags": []
   },
   "outputs": [],
   "source": [
    "plt.figure(figsize=(16,10))\n",
    "plt.scatter(X_PCA[:,0], X_PCA[:,1], c= labels, s=1)\n",
    "plt.xlim(-3,10)\n",
    "plt.ylim(-3,20)"
   ]
  },
  {
   "cell_type": "code",
   "execution_count": null,
   "id": "b396f114-abe5-48e7-bded-c77d0dc1aaf4",
   "metadata": {},
   "outputs": [],
   "source": [
    "pca_pipeline = Pipeline([\n",
    "    (\"std_scaler\", StandardScaler()) ,\n",
    "    (\"PCA\", PCA(n_components=3, random_state=42)),\n",
    "]) \n",
    "\n",
    "pca_pipeline.fit(X)\n",
    "X_PCA = pca_pipeline.transform(X)\n",
    "\n",
    "explained_variance_ratio = pca_pipeline.named_steps['PCA'].explained_variance_ratio_\n",
    "explained_variance_ratio"
   ]
  },
  {
   "cell_type": "code",
   "execution_count": null,
   "id": "92322bfb-3a5c-4cc0-8b64-1da8604c0931",
   "metadata": {},
   "outputs": [],
   "source": [
    "fig = go.Figure(data=go.Scatter3d(\n",
    "    x=X_PCA[:, 0],\n",
    "    y=X_PCA[:, 1],\n",
    "    z=X_PCA[:, 2],\n",
    "    mode='markers',\n",
    "    marker=dict(\n",
    "        size=2,\n",
    "        color=labels,  # Assign color based on z-axis values\n",
    "        colorscale='Viridis',  # Choose a color scale\n",
    "        opacity=0.8\n",
    "    )\n",
    "))\n",
    "\n",
    "# Set layout options\n",
    "fig.update_layout(\n",
    "    scene=dict(\n",
    "        xaxis_title='PCA1',\n",
    "        yaxis_title='PCA2',\n",
    "        zaxis_title='PCA3'\n",
    "    ),\n",
    "    width=1000,\n",
    "    height=800\n",
    ")\n",
    "\n",
    "# Display the plot\n",
    "fig.show()"
   ]
  },
  {
   "cell_type": "markdown",
   "id": "da69b588-eea0-471a-92a2-bc5b5031b71f",
   "metadata": {},
   "source": [
    "# With log transformation"
   ]
  },
  {
   "cell_type": "code",
   "execution_count": null,
   "id": "9c31f24d-c81c-433e-bd0d-b352f0e2b68f",
   "metadata": {},
   "outputs": [],
   "source": [
    "X = cus_df.drop(['BET_ACCOUNT_NUM_HASH','TICKETS'], axis=1)\n",
    "X"
   ]
  },
  {
   "cell_type": "code",
   "execution_count": null,
   "id": "fc6cf320-b069-42d0-8d30-0a899dffeb57",
   "metadata": {},
   "outputs": [],
   "source": [
    "log_transform = FunctionTransformer(np.log1p)\n",
    "\n",
    "log_cols = ['TURNOVER']\n",
    "passthrough_cols = [c if c != \"TURNOVER\" else c for c in X.columns ]\n",
    "\n",
    "log_pipeline = ColumnTransformer([\n",
    "    (\"log\", log_transform, log_cols),\n",
    "    (\"passthrough\", \"passthrough\", passthrough_cols),\n",
    "])"
   ]
  },
  {
   "cell_type": "code",
   "execution_count": null,
   "id": "6c289ced-ad4c-4555-ad64-6574c5b607a4",
   "metadata": {
    "tags": []
   },
   "outputs": [],
   "source": [
    "inertias = []\n",
    "silhouettes = []\n",
    "K = range(1, 16)\n",
    "\n",
    "for k in K:\n",
    "    pipeline = Pipeline([\n",
    "        (\"log_trans\", log_pipeline),\n",
    "        (\"std_scaler\", StandardScaler()) ,\n",
    "        (\"kmeans\", KMeans(n_clusters=k)),\n",
    "    ])\n",
    "    \n",
    "    pipeline.fit(X)\n",
    "    inertias.append(pipeline.named_steps[\"kmeans\"].inertia_)\n",
    "\n",
    "plt.figure(figsize=(8,6))\n",
    "\n",
    "plt.plot(K, inertias, 'bx-')\n",
    "plt.xlabel('Values of K')\n",
    "plt.ylabel('Inertia')\n",
    "plt.title('The Elbow Method using Inertia')\n",
    "plt.show()"
   ]
  },
  {
   "cell_type": "markdown",
   "id": "345dbee3-f387-4c9e-8f7b-031f0e0417a8",
   "metadata": {},
   "source": [
    "Choose k=9"
   ]
  },
  {
   "cell_type": "code",
   "execution_count": null,
   "id": "be86c16d-c9b7-4f34-a422-0c7e28cc3836",
   "metadata": {},
   "outputs": [],
   "source": [
    "kmeans_pipeline = Pipeline([\n",
    "    (\"log_trans\", log_pipeline),\n",
    "    (\"std_scaler\", StandardScaler()) ,\n",
    "    (\"kmeans\", KMeans(n_clusters=7, random_state=42)),\n",
    "])\n",
    "\n",
    "kmeans_pipeline.fit(X)\n",
    "inertias.append(kmeans_pipeline.named_steps[\"kmeans\"].inertia_)\n",
    "\n",
    "labels = kmeans_pipeline.predict(X)\n",
    "labels"
   ]
  },
  {
   "cell_type": "code",
   "execution_count": null,
   "id": "7a02a854-7aa6-4643-97e6-00a9d578b8bb",
   "metadata": {},
   "outputs": [],
   "source": [
    "plt.figure(figsize=(16,10))\n",
    "plt.scatter(X_PCA[:,0], X_PCA[:,1], c= labels, s=1)\n",
    "plt.xlim(-3,10)\n",
    "plt.ylim(-3,20)"
   ]
  },
  {
   "cell_type": "code",
   "execution_count": null,
   "id": "9a9441b8-ce13-4503-a9c6-24a70ed2606d",
   "metadata": {},
   "outputs": [],
   "source": [
    "pca_pipeline = Pipeline([\n",
    "    (\"std_scaler\", StandardScaler()) ,\n",
    "    (\"PCA\", PCA(n_components=3, random_state=42)),\n",
    "]) \n",
    "\n",
    "pca_pipeline.fit(X)\n",
    "X_PCA = pca_pipeline.transform(X)\n",
    "\n",
    "explained_variance_ratio = pca_pipeline.named_steps['PCA'].explained_variance_ratio_\n",
    "explained_variance_ratio"
   ]
  },
  {
   "cell_type": "code",
   "execution_count": null,
   "id": "eea371cc-dfd3-487c-b56d-8382460e11c5",
   "metadata": {},
   "outputs": [],
   "source": [
    "fig = go.Figure(data=go.Scatter3d(\n",
    "    x=X_PCA[:, 0],\n",
    "    y=X_PCA[:, 1],\n",
    "    z=X_PCA[:, 2],\n",
    "    mode='markers',\n",
    "    marker=dict(\n",
    "        size=2,\n",
    "        color=labels,  # Assign color based on z-axis values\n",
    "        colorscale='Viridis',  # Choose a color scale\n",
    "        opacity=0.8\n",
    "    )\n",
    "))\n",
    "\n",
    "# Set layout options\n",
    "fig.update_layout(\n",
    "    scene=dict(\n",
    "        xaxis_title='PCA1',\n",
    "        yaxis_title='PCA2',\n",
    "        zaxis_title='PCA3'\n",
    "    ),\n",
    "    width=1000,\n",
    "    height=800\n",
    ")\n",
    "\n",
    "# Display the plot\n",
    "fig.show()"
   ]
  },
  {
   "cell_type": "code",
   "execution_count": null,
   "id": "bc091351-0611-430a-87f2-d8ba886c828b",
   "metadata": {},
   "outputs": [],
   "source": [
    "X"
   ]
  }
 ],
 "metadata": {
  "kernelspec": {
   "display_name": "Python 3 (ipykernel)",
   "language": "python",
   "name": "python3"
  },
  "language_info": {
   "codemirror_mode": {
    "name": "ipython",
    "version": 3
   },
   "file_extension": ".py",
   "mimetype": "text/x-python",
   "name": "python",
   "nbconvert_exporter": "python",
   "pygments_lexer": "ipython3",
   "version": "3.10.9"
  }
 },
 "nbformat": 4,
 "nbformat_minor": 5
}
