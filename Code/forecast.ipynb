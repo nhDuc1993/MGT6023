{
 "cells": [
  {
   "cell_type": "markdown",
   "id": "6b757600-8031-4243-a93a-0bc4613940e6",
   "metadata": {},
   "source": [
    "# Import Libraries"
   ]
  },
  {
   "cell_type": "code",
   "execution_count": 1,
   "id": "4d642c3c-9930-4c07-b37d-36d8df29208a",
   "metadata": {},
   "outputs": [],
   "source": [
    "import numpy as np\n",
    "import pandas as pd\n",
    "import matplotlib.pyplot as plt\n",
    "\n",
    "from statsmodels.tsa.holtwinters import ExponentialSmoothing\n",
    "from statsmodels.tsa.exponential_smoothing.ets import ETSModel\n",
    "\n",
    "from sklearn.metrics import mean_squared_error\n",
    "\n",
    "import os\n",
    "import warnings\n",
    "\n",
    "warnings.filterwarnings(\"ignore\")\n",
    "pd.set_option('display.float_format', '{:.2f}'.format)"
   ]
  },
  {
   "cell_type": "code",
   "execution_count": 2,
   "id": "b1a35fbf-b4a0-4efa-a1e2-1c78fc4bfee9",
   "metadata": {},
   "outputs": [],
   "source": [
    "plt.style.use('default')\n",
    "\n",
    "plt.rcParams['figure.figsize'] = (16, 4)\n",
    "\n",
    "custom_colors = ['#512d6d', '#e6a2b4', '#6b7d96', '#b3cde0']\n",
    "plt.rcParams['axes.prop_cycle'] = plt.cycler(color=custom_colors)"
   ]
  },
  {
   "cell_type": "markdown",
   "id": "eb6d2e8e-a081-41ff-9451-4baf48f0966e",
   "metadata": {},
   "source": [
    "# Download dataset"
   ]
  },
  {
   "cell_type": "code",
   "execution_count": 3,
   "id": "24d84f4e-139f-464d-b1fe-3d7b52e52bdb",
   "metadata": {},
   "outputs": [],
   "source": [
    "file_id = \"1atOZX3YXmxx-_QebbTfndeC6U_DPTL2e\" # ID of the file on Google Drive\n",
    "file_name = 'Updated_data_2021&2022.csv'\n",
    "\n",
    "%run download.ipynb"
   ]
  },
  {
   "cell_type": "markdown",
   "id": "f300bf16-34e9-4bc6-8c40-b785f90fb835",
   "metadata": {},
   "source": [
    "# Import dataset"
   ]
  },
  {
   "cell_type": "code",
   "execution_count": null,
   "id": "ebbb860c-bb5f-4384-8e5d-e89e5cb829e6",
   "metadata": {},
   "outputs": [],
   "source": [
    "# File path\n",
    "current_dir = os.getcwd()\n",
    "parent_dir = os.path.dirname(current_dir)\n",
    "file_path = os.path.join(parent_dir, 'Data',file_name)\n",
    "\n",
    "df = pd.read_csv(file_path)\n",
    "df.head()"
   ]
  },
  {
   "cell_type": "code",
   "execution_count": null,
   "id": "f17e2ccd-9f26-437c-89b9-2290f10a5279",
   "metadata": {},
   "outputs": [],
   "source": [
    "df['RACING_TURNOVER'] = df[['FOB_RACING_TURNOVER','PARI_RACING_TURNOVER']].sum(axis=1)\n",
    "df['SPORT_TURNOVER'] = df[['FOB_SPORT_TURNOVER','PARI_SPORT_TURNOVER']].sum(axis=1)\n",
    "\n",
    "cols = ['DATE_DIM', 'BET_ACCOUNT_NUM_HASH', 'TENURE_IN_DAYS', 'RACING_TURNOVER', 'SPORT_TURNOVER', 'TOTAL_TURNOVER']"
   ]
  },
  {
   "cell_type": "code",
   "execution_count": null,
   "id": "09f420e4-3710-4d52-b06c-0d7afed64bdc",
   "metadata": {},
   "outputs": [],
   "source": [
    "df = df[cols]\n",
    "df = df[df['DATE_DIM'] >= '2021-01-04']"
   ]
  },
  {
   "cell_type": "code",
   "execution_count": null,
   "id": "e6614326-ea5b-4c18-b91b-f3d9bafc32dc",
   "metadata": {},
   "outputs": [],
   "source": [
    "df['DATE_DIM'] = pd.to_datetime(df['DATE_DIM'], format='%Y-%m-%d')"
   ]
  },
  {
   "cell_type": "markdown",
   "id": "99bcb464-8215-49a2-9a97-9a24df89084e",
   "metadata": {},
   "source": [
    "# Aggregate"
   ]
  },
  {
   "cell_type": "code",
   "execution_count": null,
   "id": "2e335049-052e-4239-b55c-2ea081b2a1c3",
   "metadata": {
    "tags": []
   },
   "outputs": [],
   "source": [
    "df['DATE_DIM'] = pd.to_datetime(df['DATE_DIM'], format='%Y-%m-%d')\n",
    "\n",
    "df_agg = df.set_index('DATE_DIM').resample('d')[['RACING_TURNOVER', 'SPORT_TURNOVER', 'FOB_TURNOVER', 'PARI_TURNOVER', 'TOTAL_TURNOVER', 'DIVIDENDS_PAID', 'GROSS_MARGIN', 'TICKETS']].sum()\n",
    "\n",
    "df_agg_2021 =  df_agg[df_agg.index.year == 2021]\n",
    "df_agg_2022 =  df_agg[df_agg.index.year == 2022]\n",
    "\n",
    "df_agg_2021.head()"
   ]
  },
  {
   "cell_type": "code",
   "execution_count": null,
   "id": "81c59f4a-535b-4452-9982-20e853ce144d",
   "metadata": {
    "tags": []
   },
   "outputs": [],
   "source": [
    "fig, ax = plt.subplots(1, figsize=(16,4))\n",
    "\n",
    "ax.plot(df_agg_2021['RACING_TURNOVER'])\n",
    "ax.set_title('2021 TURNOVER')"
   ]
  },
  {
   "cell_type": "markdown",
   "id": "38c466b8-2968-4aab-af67-0ebe1c56ba82",
   "metadata": {},
   "source": [
    "# RACING vs SPORT"
   ]
  },
  {
   "cell_type": "code",
   "execution_count": null,
   "id": "fe395103-0e3b-4c9e-82dc-ddc7d3fa6cb4",
   "metadata": {},
   "outputs": [],
   "source": [
    "X_racing = df_agg_2021['RACING_TURNOVER']\n",
    "X_sport = df_agg_2021['SPORT_TURNOVER']"
   ]
  },
  {
   "cell_type": "code",
   "execution_count": null,
   "id": "5ff776f3-9f91-4909-874e-f22bd86a9564",
   "metadata": {},
   "outputs": [],
   "source": [
    "\n",
    "fig, ax = plt.subplots(2, figsize=(16,8))\n",
    "\n",
    "ax[0].plot(df_agg_2021['RACING_TURNOVER'])\n",
    "ax[0].set_title('2021 RACING_TURNOVER')\n",
    "\n",
    "ax[1].plot(df_agg_2021['SPORT_TURNOVER'])\n",
    "ax[1].set_title('2021 SPORT_TURNOVER')\n",
    "\n",
    "plt.show()"
   ]
  },
  {
   "cell_type": "code",
   "execution_count": null,
   "id": "07d8d0ee-206b-41fe-80df-4b9574f79538",
   "metadata": {},
   "outputs": [],
   "source": [
    "X_racing = df_agg_2021['RACING_TURNOVER']\n",
    "X_sport = df_agg_2021['SPORT_TURNOVER']"
   ]
  },
  {
   "cell_type": "markdown",
   "id": "03885737-2c55-44ae-9c0f-b823e64e9d67",
   "metadata": {},
   "source": [
    "# Racing"
   ]
  },
  {
   "cell_type": "code",
   "execution_count": null,
   "id": "65630326-b788-4eea-aeab-9418190e57a6",
   "metadata": {
    "tags": []
   },
   "outputs": [],
   "source": [
    "offset=30\n",
    "MSE_list = []\n",
    "\n",
    "for index in range(30,336):\n",
    "    X_train = X_racing[:index]\n",
    "    X_test = X_racing[index:index+offset]\n",
    "    \n",
    "    exp_smth = ETSModel(X_train, seasonal_periods=7, trend = \"add\", seasonal = \"mul\")\n",
    "    result = exp_smth.fit()\n",
    "\n",
    "    start = X_train.index[-1] + pd.DateOffset(1)\n",
    "    end = X_train.index[-1] + pd.DateOffset(offset)\n",
    "\n",
    "    X_forecast = result.predict(start=start, end=end)\n",
    "    \n",
    "    diff = X_test - X_forecast\n",
    "    MSE = np.linalg.norm(diff)/offset\n",
    "    \n",
    "    MSE_list.append(MSE)\n",
    "    \n",
    "MSE_list"
   ]
  },
  {
   "cell_type": "code",
   "execution_count": null,
   "id": "842e9200-99bb-4ee3-bab8-43df259b9e53",
   "metadata": {},
   "outputs": [],
   "source": [
    "plt.plot(MSE_list)"
   ]
  },
  {
   "cell_type": "code",
   "execution_count": null,
   "id": "29489e6d-4e6f-4830-a409-9b6e6a8fbf11",
   "metadata": {},
   "outputs": [],
   "source": [
    "offset=30\n",
    "index=120\n",
    "\n",
    "X_train = X_racing[:index]\n",
    "X_test = X_racing[index:index+offset]\n",
    "\n",
    "exp_smth = ETSModel(X_train, seasonal_periods=7, trend = \"add\", seasonal = \"mul\")\n",
    "result = exp_smth.fit()\n",
    "\n",
    "start = X_train.index[-1] + pd.DateOffset(1)\n",
    "end = X_train.index[-1] + pd.DateOffset(offset)\n",
    "\n",
    "X_forecast = result.predict(start=start, end=end)"
   ]
  },
  {
   "cell_type": "code",
   "execution_count": null,
   "id": "47a2cec8-d431-4fb5-beaa-71bb82312064",
   "metadata": {},
   "outputs": [],
   "source": [
    "plt.figure(figsize=(16,4))\n",
    "\n",
    "plt.plot(X_train)\n",
    "plt.plot(X_forecast, c='orange')\n",
    "plt.plot(X_test, c='green')\n",
    "plt.ylabel(\"TURNOVER\")\n",
    "plt.title(\"Daily Turnover\")\n",
    "plt.legend(['train', 'predicted', 'real'], loc = 'upper left')\n",
    "\n",
    "plt.show()"
   ]
  },
  {
   "cell_type": "code",
   "execution_count": null,
   "id": "a003964c-7c67-4b05-af48-e73aa7d24857",
   "metadata": {},
   "outputs": [],
   "source": [
    "plt.figure(figsize=(16,4))\n",
    "\n",
    "plt.plot(X_forecast, c='orange')\n",
    "plt.plot(X_test, c='green', label='real')\n",
    "plt.legend(['predicted', 'real'], loc = 'upper left')\n",
    "\n",
    "plt.show()"
   ]
  },
  {
   "cell_type": "code",
   "execution_count": null,
   "id": "9cbebe38-c321-4f82-bcc4-907f5c16984e",
   "metadata": {},
   "outputs": [],
   "source": []
  },
  {
   "cell_type": "code",
   "execution_count": null,
   "id": "db96069d-aa50-484d-b73a-64f175f7d109",
   "metadata": {},
   "outputs": [],
   "source": []
  },
  {
   "cell_type": "code",
   "execution_count": null,
   "id": "43bb6009-e5a6-4562-b298-774732a39124",
   "metadata": {},
   "outputs": [],
   "source": []
  },
  {
   "cell_type": "code",
   "execution_count": null,
   "id": "15576f89-c69e-483e-8ef3-390436ec3dd6",
   "metadata": {},
   "outputs": [],
   "source": []
  },
  {
   "cell_type": "code",
   "execution_count": null,
   "id": "d4622fa8-7174-4f73-ab68-9ff43ca6b8c8",
   "metadata": {},
   "outputs": [],
   "source": []
  },
  {
   "cell_type": "code",
   "execution_count": null,
   "id": "38312b78-dbbe-4c12-84b4-b342eeb0ada2",
   "metadata": {},
   "outputs": [],
   "source": []
  },
  {
   "cell_type": "code",
   "execution_count": null,
   "id": "3b0406af-ae3e-4caf-98f5-db53bb1f692a",
   "metadata": {},
   "outputs": [],
   "source": []
  },
  {
   "cell_type": "code",
   "execution_count": null,
   "id": "7b2249fd-9912-48cb-974b-120dd475a359",
   "metadata": {},
   "outputs": [],
   "source": []
  },
  {
   "cell_type": "code",
   "execution_count": null,
   "id": "9354124a-2b4f-4f82-9777-8b7eafd04348",
   "metadata": {},
   "outputs": [],
   "source": []
  },
  {
   "cell_type": "markdown",
   "id": "d3af40f7-a37b-48bf-8b89-57c8d7543f7f",
   "metadata": {},
   "source": [
    "# Individual"
   ]
  },
  {
   "cell_type": "code",
   "execution_count": null,
   "id": "b941b278-c21b-49df-98d1-7dac06b235ad",
   "metadata": {
    "tags": []
   },
   "outputs": [],
   "source": [
    "df_3636408132 = df.loc[df['BET_ACCOUNT_NUM_HASH'] == 3636408132, ['DATE_DIM','TOTAL_TURNOVER']]\n",
    "\n",
    "offset=87+28*11\n",
    "\n",
    "X_train = df_3636408132[:offset].set_index('DATE_DIM').resample('W').TOTAL_TURNOVER.sum().squeeze()\n",
    "X_test = df_3636408132[offset:offset+28].set_index('DATE_DIM').resample('W').TOTAL_TURNOVER.sum().squeeze()\n",
    "\n",
    "exp_smth = ETSModel(X_train, trend = \"add\", freq='W')\n",
    "\n",
    "result = exp_smth.fit()\n",
    "\n",
    "start = X_train.index[-1] + pd.DateOffset(7)\n",
    "end = X_train.index[-1] + pd.DateOffset(28)\n",
    "X_forecast = result.predict(start=start, end=end)\n",
    "\n",
    "print(sum(X_test))\n",
    "print(sum(X_forecast))\n",
    "\n",
    "\n",
    "plt.figure(figsize=(16,4))\n",
    "\n",
    "plt.plot(X_train)\n",
    "plt.plot(X_forecast, c='orange')\n",
    "plt.plot(X_test, c='green')\n",
    "plt.ylabel(\"TURNOVER\")\n",
    "plt.title(\"Daily Turnover\")\n",
    "plt.legend(['train', 'predicted', 'real'], loc = 'upper left')\n",
    "\n",
    "plt.show()"
   ]
  },
  {
   "cell_type": "code",
   "execution_count": null,
   "id": "cfbbaddd-d3b5-409e-af72-61d8eecc090e",
   "metadata": {},
   "outputs": [],
   "source": [
    "start_date = '2021-01-04'\n",
    "end_date = '2021-12-22'\n",
    "\n",
    "date_range = pd.date_range(start=start_date, end=end_date)\n",
    "last_days = date_range.to_frame().resample('W').first().index\n",
    "\n",
    "week_offset=8\n",
    "\n",
    "last_day = last_days[week_offset]\n",
    "\n",
    "train_df = df[df['DATE_DIM'] <= last_days[week_offset]]\n",
    "test_df = df[(df['DATE_DIM'] > last_days[week_offset]) & (df['DATE_DIM'] <= last_days[week_offset+4])]\n",
    "\n",
    "cus = train_df.groupby('BET_ACCOUNT_NUM_HASH',as_index=False).TENURE_IN_DAYS.max()\n",
    "cus = cus.loc[cus['TENURE_IN_DAYS'] > 28, 'BET_ACCOUNT_NUM_HASH']\n",
    "\n",
    "train_df = train_df[train_df['BET_ACCOUNT_NUM_HASH'].isin(cus)]\n",
    "test_df = test_df[test_df['BET_ACCOUNT_NUM_HASH'].isin(cus)]"
   ]
  },
  {
   "cell_type": "code",
   "execution_count": null,
   "id": "c61ee094-06b7-40a7-a85e-9f2395d9968d",
   "metadata": {
    "tags": []
   },
   "outputs": [],
   "source": [
    "start = last_days[week_offset] + pd.DateOffset(7)\n",
    "end = last_days[week_offset] + pd.DateOffset(28)\n",
    "\n",
    "res = pd.DataFrame(columns = ['BET_ACCOUNT_NUM_HASH', 'real', 'pred'])\n",
    "X_test = test_df.groupby('BET_ACCOUNT_NUM_HASH').TOTAL_TURNOVER.sum()\n",
    "\n",
    "for i in cus:\n",
    "    cus_df = train_df[train_df['BET_ACCOUNT_NUM_HASH'] == i]\n",
    "    \n",
    "    X_train = cus_df.set_index('DATE_DIM').resample('W').TOTAL_TURNOVER.sum()\n",
    "    X_train = X_train.reindex(last_days[:week_offset+4]).fillna(0)\n",
    "    \n",
    "    exp_smth = ETSModel(X_train, trend = \"add\", freq='W')\n",
    "    \n",
    "    result = exp_smth.fit()\n",
    "\n",
    "    X_forecast = result.predict(start=start, end=end)\n",
    "    \n",
    "    try:\n",
    "        real = X_test[i]\n",
    "    except:\n",
    "        real = 0\n",
    "    \n",
    "    pred = X_forecast.sum()\n",
    "    \n",
    "    res = res.append({'BET_ACCOUNT_NUM_HASH' : i, 'real':real, 'pred' pred}, ignore_index=True)"
   ]
  },
  {
   "cell_type": "code",
   "execution_count": null,
   "id": "1cf2b783-15ea-40a5-bac0-da366386ac5d",
   "metadata": {
    "tags": []
   },
   "outputs": [],
   "source": [
    "res['fixed_pred'] = res['pred'].apply(lambda x: 0 if x < 0 else x)"
   ]
  },
  {
   "cell_type": "code",
   "execution_count": null,
   "id": "2836354d-6d10-4c79-9de4-9650f25488e3",
   "metadata": {},
   "outputs": [],
   "source": [
    "res"
   ]
  },
  {
   "cell_type": "code",
   "execution_count": null,
   "id": "2a15bfb2-662d-4c32-b9cd-d43ee52f0fb4",
   "metadata": {},
   "outputs": [],
   "source": [
    "plt.figure(figsize=(8,8))\n",
    "plt.scatter(res['real'], res['fixed_pred'], alpha=0.5)\n",
    "plt.ylim((-5000,100000))\n",
    "plt.xlim((-5000,100000))"
   ]
  },
  {
   "cell_type": "code",
   "execution_count": null,
   "id": "7be3481a-52f2-4e5d-85b4-2ad3de001ef4",
   "metadata": {},
   "outputs": [],
   "source": [
    "mean_squared_error(res['real']/28 , res['fixed_pred']/28)"
   ]
  },
  {
   "cell_type": "code",
   "execution_count": null,
   "id": "ce7b5082-9067-4cd5-9897-efc90b3a8e82",
   "metadata": {},
   "outputs": [],
   "source": [
    "res[res['pred'] >= 80000]"
   ]
  },
  {
   "cell_type": "code",
   "execution_count": null,
   "id": "0d11ce22-d8f2-4948-9054-0a3e877b6a5d",
   "metadata": {},
   "outputs": [],
   "source": []
  },
  {
   "cell_type": "code",
   "execution_count": null,
   "id": "9368713d-e06d-423d-b88c-fecb047d0961",
   "metadata": {},
   "outputs": [],
   "source": []
  },
  {
   "cell_type": "code",
   "execution_count": null,
   "id": "5a78b54e-aa5c-4525-8e25-cbd157b37d1f",
   "metadata": {},
   "outputs": [],
   "source": []
  },
  {
   "cell_type": "code",
   "execution_count": null,
   "id": "f3ab4d8c-09f3-4f9b-84ec-9066670914f2",
   "metadata": {},
   "outputs": [],
   "source": []
  },
  {
   "cell_type": "code",
   "execution_count": null,
   "id": "aa010915-6feb-41aa-b4ab-df6b1f17069e",
   "metadata": {},
   "outputs": [],
   "source": []
  },
  {
   "cell_type": "code",
   "execution_count": null,
   "id": "83dea3f4-a403-49b0-8f1d-a4b44fc1deb0",
   "metadata": {},
   "outputs": [],
   "source": []
  },
  {
   "cell_type": "code",
   "execution_count": null,
   "id": "251684b0-653b-4b62-810b-6add020aec5e",
   "metadata": {},
   "outputs": [],
   "source": []
  },
  {
   "cell_type": "code",
   "execution_count": null,
   "id": "5dea70ad-8e35-49b2-9be9-e0bfbe132676",
   "metadata": {},
   "outputs": [],
   "source": []
  },
  {
   "cell_type": "code",
   "execution_count": null,
   "id": "67193d6d-1a1f-4538-86f2-57f6cb8c5fe6",
   "metadata": {},
   "outputs": [],
   "source": []
  },
  {
   "cell_type": "code",
   "execution_count": null,
   "id": "ac59af29-1cd4-41d8-8d40-f0ef7d409ad4",
   "metadata": {},
   "outputs": [],
   "source": []
  },
  {
   "cell_type": "code",
   "execution_count": null,
   "id": "3cc05504-8904-4a26-9c9c-e9b696f108ee",
   "metadata": {},
   "outputs": [],
   "source": []
  },
  {
   "cell_type": "code",
   "execution_count": null,
   "id": "46d0df14-8a1b-45c1-b047-f38c88db6266",
   "metadata": {},
   "outputs": [],
   "source": []
  },
  {
   "cell_type": "code",
   "execution_count": null,
   "id": "33dad8a9-199b-40eb-8f71-6bdb9616720d",
   "metadata": {},
   "outputs": [],
   "source": []
  },
  {
   "cell_type": "code",
   "execution_count": null,
   "id": "f3eb4db6-f7f6-401b-9e5a-5767069e36f7",
   "metadata": {},
   "outputs": [],
   "source": []
  },
  {
   "cell_type": "code",
   "execution_count": null,
   "id": "23b0fce4-ebb3-4bbb-a16d-6cd2c34cf9f9",
   "metadata": {},
   "outputs": [],
   "source": []
  },
  {
   "cell_type": "code",
   "execution_count": null,
   "id": "6e41af87-63d3-454f-9ef8-999055a32eb2",
   "metadata": {},
   "outputs": [],
   "source": []
  },
  {
   "cell_type": "code",
   "execution_count": null,
   "id": "af8e3d60-6170-40f2-b391-ddf886742064",
   "metadata": {},
   "outputs": [],
   "source": []
  },
  {
   "cell_type": "code",
   "execution_count": null,
   "id": "e337acd8-4f66-4207-8ca3-585f6af1c29f",
   "metadata": {},
   "outputs": [],
   "source": []
  },
  {
   "cell_type": "code",
   "execution_count": null,
   "id": "5b96f0f0-cfcd-4a70-a873-2307b3de401e",
   "metadata": {},
   "outputs": [],
   "source": []
  }
 ],
 "metadata": {
  "kernelspec": {
   "display_name": "Python 3 (ipykernel)",
   "language": "python",
   "name": "python3"
  },
  "language_info": {
   "codemirror_mode": {
    "name": "ipython",
    "version": 3
   },
   "file_extension": ".py",
   "mimetype": "text/x-python",
   "name": "python",
   "nbconvert_exporter": "python",
   "pygments_lexer": "ipython3",
   "version": "3.10.9"
  }
 },
 "nbformat": 4,
 "nbformat_minor": 5
}
