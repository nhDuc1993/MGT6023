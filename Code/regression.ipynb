{
 "cells": [
  {
   "cell_type": "code",
   "execution_count": 6,
   "id": "4868621b-3075-456a-bf50-5eb0365b442d",
   "metadata": {},
   "outputs": [],
   "source": [
    "import pandas as pd\n",
    "import numpy as np\n",
    "import matplotlib.pyplot as plt\n",
    "\n",
    "import os \n",
    "import warnings\n",
    "\n",
    "from sklearn.linear_model import LinearRegression\n",
    "from sklearn.tree import DecisionTreeRegressor\n",
    "from sklearn.model_selection import train_test_split, KFold, cross_val_score\n",
    "from sklearn.metrics import r2_score, mean_squared_error\n",
    "\n",
    "import statsmodels.api as sm\n",
    "from statsmodels.tools.eval_measures import mse\n",
    "\n",
    "import seaborn as sns"
   ]
  },
  {
   "cell_type": "code",
   "execution_count": 7,
   "id": "c2247820-ac31-468c-9dc7-cfe32f1a9922",
   "metadata": {},
   "outputs": [],
   "source": [
    "warnings.filterwarnings(\"ignore\")\n",
    "\n",
    "np.set_printoptions(suppress=True)\n",
    "pd.set_option('display.float_format', '{:.2f}'.format)\n",
    "\n",
    "plt.style.use('seaborn')\n",
    "plt.rcParams['figure.figsize'] = (16, 4)\n",
    "custom_colors = ['#512d6d', '#e6a2b4', '#6b7d96', '#b3cde0']\n",
    "plt.rcParams['axes.prop_cycle'] = plt.cycler(color=custom_colors)"
   ]
  },
  {
   "cell_type": "markdown",
   "id": "e482185a-6517-44e3-95f9-119ed5f91e09",
   "metadata": {},
   "source": [
    "# Download file"
   ]
  },
  {
   "cell_type": "code",
   "execution_count": 3,
   "id": "a6972c01-45ed-4005-95d7-ad3e257dd886",
   "metadata": {},
   "outputs": [],
   "source": [
    "file_id = \"1atOZX3YXmxx-_QebbTfndeC6U_DPTL2e\" # ID of the file on Google Drive\n",
    "file_name = 'Updated_data_2021&2022.csv'\n",
    "\n",
    "%run download.ipynb"
   ]
  },
  {
   "cell_type": "markdown",
   "id": "bd9d1a29-daad-42b7-883e-568fd28bd5b7",
   "metadata": {},
   "source": [
    "# Import data"
   ]
  },
  {
   "cell_type": "code",
   "execution_count": 4,
   "id": "95450574-9006-4ee7-ae21-e998c3b67aea",
   "metadata": {},
   "outputs": [
    {
     "data": {
      "text/html": [
       "<div>\n",
       "<style scoped>\n",
       "    .dataframe tbody tr th:only-of-type {\n",
       "        vertical-align: middle;\n",
       "    }\n",
       "\n",
       "    .dataframe tbody tr th {\n",
       "        vertical-align: top;\n",
       "    }\n",
       "\n",
       "    .dataframe thead th {\n",
       "        text-align: right;\n",
       "    }\n",
       "</style>\n",
       "<table border=\"1\" class=\"dataframe\">\n",
       "  <thead>\n",
       "    <tr style=\"text-align: right;\">\n",
       "      <th></th>\n",
       "      <th>DATE_DIM</th>\n",
       "      <th>DAY_OF_WEEK</th>\n",
       "      <th>BET_ACCOUNT_NUM_HASH</th>\n",
       "      <th>AGE</th>\n",
       "      <th>AGE_BAND</th>\n",
       "      <th>GENDER</th>\n",
       "      <th>TENURE_IN_DAYS</th>\n",
       "      <th>RESIDENTIAL_STATE</th>\n",
       "      <th>FOB_RACING_TURNOVER</th>\n",
       "      <th>FOB_SPORT_TURNOVER</th>\n",
       "      <th>PARI_RACING_TURNOVER</th>\n",
       "      <th>PARI_SPORT_TURNOVER</th>\n",
       "      <th>TOTAL_TURNOVER</th>\n",
       "      <th>DIVIDENDS_PAID</th>\n",
       "      <th>GROSS_MARGIN</th>\n",
       "      <th>TICKETS</th>\n",
       "    </tr>\n",
       "  </thead>\n",
       "  <tbody>\n",
       "    <tr>\n",
       "      <th>0</th>\n",
       "      <td>2021-01-01</td>\n",
       "      <td>Fri</td>\n",
       "      <td>13154</td>\n",
       "      <td>67.0</td>\n",
       "      <td>65+</td>\n",
       "      <td>M</td>\n",
       "      <td>11846</td>\n",
       "      <td>WA</td>\n",
       "      <td>37.0</td>\n",
       "      <td>NaN</td>\n",
       "      <td>1081.0</td>\n",
       "      <td>NaN</td>\n",
       "      <td>1118.0</td>\n",
       "      <td>443.55</td>\n",
       "      <td>271.254275</td>\n",
       "      <td>288</td>\n",
       "    </tr>\n",
       "    <tr>\n",
       "      <th>1</th>\n",
       "      <td>2021-01-01</td>\n",
       "      <td>Fri</td>\n",
       "      <td>18379</td>\n",
       "      <td>54.0</td>\n",
       "      <td>45-54</td>\n",
       "      <td>M</td>\n",
       "      <td>1884</td>\n",
       "      <td>WA</td>\n",
       "      <td>40.0</td>\n",
       "      <td>NaN</td>\n",
       "      <td>NaN</td>\n",
       "      <td>NaN</td>\n",
       "      <td>40.0</td>\n",
       "      <td>0.00</td>\n",
       "      <td>40.000000</td>\n",
       "      <td>1</td>\n",
       "    </tr>\n",
       "    <tr>\n",
       "      <th>2</th>\n",
       "      <td>2021-01-01</td>\n",
       "      <td>Fri</td>\n",
       "      <td>559232</td>\n",
       "      <td>63.0</td>\n",
       "      <td>55-64</td>\n",
       "      <td>M</td>\n",
       "      <td>2866</td>\n",
       "      <td>WA</td>\n",
       "      <td>NaN</td>\n",
       "      <td>NaN</td>\n",
       "      <td>12.0</td>\n",
       "      <td>NaN</td>\n",
       "      <td>12.0</td>\n",
       "      <td>9.50</td>\n",
       "      <td>2.041720</td>\n",
       "      <td>5</td>\n",
       "    </tr>\n",
       "    <tr>\n",
       "      <th>3</th>\n",
       "      <td>2021-01-01</td>\n",
       "      <td>Fri</td>\n",
       "      <td>698904</td>\n",
       "      <td>69.0</td>\n",
       "      <td>65+</td>\n",
       "      <td>M</td>\n",
       "      <td>2100</td>\n",
       "      <td>WA</td>\n",
       "      <td>NaN</td>\n",
       "      <td>NaN</td>\n",
       "      <td>1223.5</td>\n",
       "      <td>NaN</td>\n",
       "      <td>1223.5</td>\n",
       "      <td>267.91</td>\n",
       "      <td>245.117147</td>\n",
       "      <td>40</td>\n",
       "    </tr>\n",
       "    <tr>\n",
       "      <th>4</th>\n",
       "      <td>2021-01-01</td>\n",
       "      <td>Fri</td>\n",
       "      <td>762921</td>\n",
       "      <td>67.0</td>\n",
       "      <td>65+</td>\n",
       "      <td>M</td>\n",
       "      <td>4766</td>\n",
       "      <td>WA</td>\n",
       "      <td>NaN</td>\n",
       "      <td>NaN</td>\n",
       "      <td>17.5</td>\n",
       "      <td>NaN</td>\n",
       "      <td>17.5</td>\n",
       "      <td>0.00</td>\n",
       "      <td>3.504075</td>\n",
       "      <td>5</td>\n",
       "    </tr>\n",
       "  </tbody>\n",
       "</table>\n",
       "</div>"
      ],
      "text/plain": [
       "     DATE_DIM DAY_OF_WEEK  BET_ACCOUNT_NUM_HASH   AGE AGE_BAND GENDER  \\\n",
       "0  2021-01-01         Fri                 13154  67.0      65+      M   \n",
       "1  2021-01-01         Fri                 18379  54.0    45-54      M   \n",
       "2  2021-01-01         Fri                559232  63.0    55-64      M   \n",
       "3  2021-01-01         Fri                698904  69.0      65+      M   \n",
       "4  2021-01-01         Fri                762921  67.0      65+      M   \n",
       "\n",
       "   TENURE_IN_DAYS RESIDENTIAL_STATE  FOB_RACING_TURNOVER  FOB_SPORT_TURNOVER  \\\n",
       "0           11846                WA                 37.0                 NaN   \n",
       "1            1884                WA                 40.0                 NaN   \n",
       "2            2866                WA                  NaN                 NaN   \n",
       "3            2100                WA                  NaN                 NaN   \n",
       "4            4766                WA                  NaN                 NaN   \n",
       "\n",
       "   PARI_RACING_TURNOVER  PARI_SPORT_TURNOVER  TOTAL_TURNOVER  DIVIDENDS_PAID  \\\n",
       "0                1081.0                  NaN          1118.0          443.55   \n",
       "1                   NaN                  NaN            40.0            0.00   \n",
       "2                  12.0                  NaN            12.0            9.50   \n",
       "3                1223.5                  NaN          1223.5          267.91   \n",
       "4                  17.5                  NaN            17.5            0.00   \n",
       "\n",
       "   GROSS_MARGIN  TICKETS  \n",
       "0    271.254275      288  \n",
       "1     40.000000        1  \n",
       "2      2.041720        5  \n",
       "3    245.117147       40  \n",
       "4      3.504075        5  "
      ]
     },
     "execution_count": 4,
     "metadata": {},
     "output_type": "execute_result"
    }
   ],
   "source": [
    "# File path\n",
    "current_dir = os.getcwd()\n",
    "parent_dir = os.path.dirname(current_dir)\n",
    "file_path = os.path.join(parent_dir, 'Data',file_name)\n",
    "\n",
    "df = pd.read_csv(file_path)\n",
    "df.head()"
   ]
  },
  {
   "cell_type": "markdown",
   "id": "534a8aae-d603-4e9e-9618-aa6e09058340",
   "metadata": {},
   "source": [
    "# Clean data and create extra features"
   ]
  },
  {
   "cell_type": "code",
   "execution_count": 5,
   "id": "a580f4ba-2b92-4445-aaa0-9b2ddf3f90ff",
   "metadata": {
    "collapsed": true,
    "jupyter": {
     "outputs_hidden": true
    },
    "tags": []
   },
   "outputs": [
    {
     "name": "stderr",
     "output_type": "stream",
     "text": [
      "C:\\Users\\duc.nguyen\\AppData\\Local\\Temp\\ipykernel_18392\\673612228.py:18: FutureWarning: Series.dt.weekofyear and Series.dt.week have been deprecated. Please use Series.dt.isocalendar().week instead.\n",
      "  df['YEAR_WEEK'] = df['DATE_DIM'].dt.year * 100 + df['DATE_DIM'].dt.week\n",
      "C:\\Users\\duc.nguyen\\AppData\\Local\\Temp\\ipykernel_18392\\673612228.py:18: SettingWithCopyWarning: \n",
      "A value is trying to be set on a copy of a slice from a DataFrame.\n",
      "Try using .loc[row_indexer,col_indexer] = value instead\n",
      "\n",
      "See the caveats in the documentation: https://pandas.pydata.org/pandas-docs/stable/user_guide/indexing.html#returning-a-view-versus-a-copy\n",
      "  df['YEAR_WEEK'] = df['DATE_DIM'].dt.year * 100 + df['DATE_DIM'].dt.week\n",
      "C:\\Users\\duc.nguyen\\AppData\\Local\\Temp\\ipykernel_18392\\673612228.py:21: SettingWithCopyWarning: \n",
      "A value is trying to be set on a copy of a slice from a DataFrame.\n",
      "Try using .loc[row_indexer,col_indexer] = value instead\n",
      "\n",
      "See the caveats in the documentation: https://pandas.pydata.org/pandas-docs/stable/user_guide/indexing.html#returning-a-view-versus-a-copy\n",
      "  df['RACING_TURNOVER'] = df[['FOB_RACING_TURNOVER', 'PARI_RACING_TURNOVER']].sum(axis=1)\n",
      "C:\\Users\\duc.nguyen\\AppData\\Local\\Temp\\ipykernel_18392\\673612228.py:24: SettingWithCopyWarning: \n",
      "A value is trying to be set on a copy of a slice from a DataFrame.\n",
      "Try using .loc[row_indexer,col_indexer] = value instead\n",
      "\n",
      "See the caveats in the documentation: https://pandas.pydata.org/pandas-docs/stable/user_guide/indexing.html#returning-a-view-versus-a-copy\n",
      "  df['WIN_LOSS'] = (df['DIVIDENDS_PAID'] >= df['TOTAL_TURNOVER']).astype('int32')\n"
     ]
    }
   ],
   "source": [
    "def clean_data(df):\n",
    "    # DATE_DIM: datetime\n",
    "    df['DATE_DIM'] = pd.to_datetime(df['DATE_DIM'], format='%Y-%m-%d')\n",
    "\n",
    "    # BET_ACCOUNT_NUM_HASH: string\n",
    "    df['BET_ACCOUNT_NUM_HASH'] = df['BET_ACCOUNT_NUM_HASH'].astype('O')\n",
    "\n",
    "    # Impute AGE column\n",
    "    df['AGE'].fillna(44, inplace=True)\n",
    "\n",
    "    # Drop redundant columns\n",
    "    df.drop(['DAY_OF_WEEK', 'AGE'], axis=1, inplace=True)\n",
    "\n",
    "    # More than zero\n",
    "    df = df[df['TOTAL_TURNOVER'] > 0]\n",
    "\n",
    "    # Create YEAR_WEEK column\n",
    "    df['YEAR_WEEK'] = df['DATE_DIM'].dt.year * 100 + df['DATE_DIM'].dt.week\n",
    "\n",
    "    # Create RACING_TURNOVER column\n",
    "    df['RACING_TURNOVER'] = df[['FOB_RACING_TURNOVER', 'PARI_RACING_TURNOVER']].sum(axis=1)\n",
    "\n",
    "    # Create WIN_LOSS column\n",
    "    df['WIN_LOSS'] = (df['DIVIDENDS_PAID'] >= df['TOTAL_TURNOVER']).astype('int32')\n",
    "    \n",
    "    return df\n",
    "\n",
    "df = clean_data(df)"
   ]
  },
  {
   "cell_type": "markdown",
   "id": "8cee5194-3973-4dfd-a7ea-a034e6bbb474",
   "metadata": {},
   "source": [
    "# Aggregate"
   ]
  },
  {
   "cell_type": "code",
   "execution_count": 19,
   "id": "f4577130-93c4-4b63-a931-1f9b75a71674",
   "metadata": {},
   "outputs": [],
   "source": [
    "def weekly_aggregate(df,year_week=202122, months=4):\n",
    "    agg_df = df[(df['YEAR_WEEK'] > year_week-months ) & (df['YEAR_WEEK'] <= year_week)].groupby('BET_ACCOUNT_NUM_HASH').agg({\n",
    "        'BET_ACCOUNT_NUM_HASH': np.size,\n",
    "        'TENURE_IN_DAYS' : max,\n",
    "        'RACING_TURNOVER' : sum,\n",
    "        'TOTAL_TURNOVER' : sum,\n",
    "        'TICKETS' : sum,\n",
    "        'WIN_LOSS' : sum\n",
    "    })\n",
    "    \n",
    "    agg_df.columns = map( lambda x : x + \"_\" + str(months), agg_df.columns)\n",
    "    \n",
    "    return agg_df"
   ]
  },
  {
   "cell_type": "code",
   "execution_count": 20,
   "id": "e151819a-40a0-4af4-b163-ade7c9638e11",
   "metadata": {},
   "outputs": [],
   "source": [
    "def total_aggregate(df,year_week):\n",
    "    # Prediction (4 weeks after the current week)\n",
    "    pred = df[ (df['YEAR_WEEK'] > year_week ) & (df['YEAR_WEEK'] <= year_week + 4)].groupby('BET_ACCOUNT_NUM_HASH').TOTAL_TURNOVER.sum()\n",
    "    \n",
    "    # 12 weeks bef0re\n",
    "    train_12 = weekly_aggregate(df,year_week=202122, months=12)\n",
    "    train_4 = weekly_aggregate(df,year_week=202122, months=4)\n",
    "    train_1 = weekly_aggregate(df,year_week=202122, months=1)\n",
    "    \n",
    "    # Filter new customers\n",
    "    train_12 = train_12[train_12['TENURE_IN_DAYS_12'] >= 84]\n",
    "    \n",
    "    # Join data\n",
    "    train = pd.merge(train_12, train_4, left_index=True, right_index=True, how='left')\n",
    "    train = pd.merge(train, train_1, left_index=True, right_index=True, how='left')\n",
    "    \n",
    "    train = pd.merge(train, pred, left_index=True, right_index=True, how='left')\n",
    "\n",
    "    # Fill na\n",
    "    train.fillna(0, inplace=True)\n",
    "    \n",
    "    # New columns\n",
    "    train['WIN_LOSS_RATIO_1'] = train['WIN_LOSS_1'] / (train['BET_ACCOUNT_NUM_HASH_1']) \n",
    "    train['WIN_LOSS_RATIO_4'] = train['WIN_LOSS_4'] / (train['BET_ACCOUNT_NUM_HASH_4']) \n",
    "    train['WIN_LOSS_RATIO_12'] = train['WIN_LOSS_12'] / (train['BET_ACCOUNT_NUM_HASH_12']) \n",
    "\n",
    "    train['BET_ACCOUNT_NUM_HASH_1'] = train['BET_ACCOUNT_NUM_HASH_1'] / 7\n",
    "    train['BET_ACCOUNT_NUM_HASH_4'] = train['BET_ACCOUNT_NUM_HASH_4'] /  28\n",
    "    train['BET_ACCOUNT_NUM_HASH_12'] = train['BET_ACCOUNT_NUM_HASH_12'] / 84\n",
    "\n",
    "    train['RACING_RATIO_1'] = train['RACING_TURNOVER_1'] / train['TOTAL_TURNOVER_1']\n",
    "    train['RACING_RATIO_4'] = train['RACING_TURNOVER_4'] / train['TOTAL_TURNOVER_4']\n",
    "    train['RACING_RATIO_12'] = train['RACING_TURNOVER_12'] / train['TOTAL_TURNOVER_12']\n",
    "    \n",
    "    return train"
   ]
  },
  {
   "cell_type": "code",
   "execution_count": 21,
   "id": "53f35e96-8512-4ac6-9d4b-855c0c5d943f",
   "metadata": {},
   "outputs": [],
   "source": [
    "year_week=202122\n",
    "\n",
    "train = total_aggregate(df, year_week)"
   ]
  },
  {
   "cell_type": "code",
   "execution_count": 22,
   "id": "0c87b481-d0bd-48a9-8833-104be68336fa",
   "metadata": {},
   "outputs": [
    {
     "name": "stdout",
     "output_type": "stream",
     "text": [
      "<class 'pandas.core.frame.DataFrame'>\n",
      "Int64Index: 62116 entries, 13154 to 4294891076\n",
      "Data columns (total 25 columns):\n",
      " #   Column                   Non-Null Count  Dtype  \n",
      "---  ------                   --------------  -----  \n",
      " 0   BET_ACCOUNT_NUM_HASH_12  62116 non-null  float64\n",
      " 1   TENURE_IN_DAYS_12        62116 non-null  int64  \n",
      " 2   RACING_TURNOVER_12       62116 non-null  float64\n",
      " 3   TOTAL_TURNOVER_12        62116 non-null  float64\n",
      " 4   TICKETS_12               62116 non-null  int64  \n",
      " 5   WIN_LOSS_12              62116 non-null  int32  \n",
      " 6   BET_ACCOUNT_NUM_HASH_4   62116 non-null  float64\n",
      " 7   TENURE_IN_DAYS_4         62116 non-null  float64\n",
      " 8   RACING_TURNOVER_4        62116 non-null  float64\n",
      " 9   TOTAL_TURNOVER_4         62116 non-null  float64\n",
      " 10  TICKETS_4                62116 non-null  float64\n",
      " 11  WIN_LOSS_4               62116 non-null  float64\n",
      " 12  BET_ACCOUNT_NUM_HASH_1   62116 non-null  float64\n",
      " 13  TENURE_IN_DAYS_1         62116 non-null  float64\n",
      " 14  RACING_TURNOVER_1        62116 non-null  float64\n",
      " 15  TOTAL_TURNOVER_1         62116 non-null  float64\n",
      " 16  TICKETS_1                62116 non-null  float64\n",
      " 17  WIN_LOSS_1               62116 non-null  float64\n",
      " 18  TOTAL_TURNOVER           62116 non-null  float64\n",
      " 19  WIN_LOSS_RATIO_1         35312 non-null  float64\n",
      " 20  WIN_LOSS_RATIO_4         48803 non-null  float64\n",
      " 21  WIN_LOSS_RATIO_12        62116 non-null  float64\n",
      " 22  RACING_RATIO_1           35312 non-null  float64\n",
      " 23  RACING_RATIO_4           48803 non-null  float64\n",
      " 24  RACING_RATIO_12          62116 non-null  float64\n",
      "dtypes: float64(22), int32(1), int64(2)\n",
      "memory usage: 14.1 MB\n"
     ]
    }
   ],
   "source": [
    "train.info()"
   ]
  },
  {
   "cell_type": "markdown",
   "id": "58a032b2-3057-49b9-8ab2-a6cb35449043",
   "metadata": {},
   "source": [
    "# Linear Regression"
   ]
  },
  {
   "cell_type": "code",
   "execution_count": 23,
   "id": "cd85bbdc-96af-44c7-bc5b-5065a26da4fd",
   "metadata": {},
   "outputs": [],
   "source": [
    "train_1 = train.drop(['TENURE_IN_DAYS_1', 'WIN_LOSS_1', 'TENURE_IN_DAYS_4', 'WIN_LOSS_4', 'TENURE_IN_DAYS_12', 'WIN_LOSS_12',\n",
    "                     'WIN_LOSS_RATIO_1','WIN_LOSS_RATIO_4','WIN_LOSS_RATIO_12','RACING_RATIO_1','RACING_RATIO_4','RACING_RATIO_12'],axis=1)"
   ]
  },
  {
   "cell_type": "code",
   "execution_count": 25,
   "id": "d03364eb-a547-4301-8361-e09bc8b3e1f9",
   "metadata": {
    "tags": []
   },
   "outputs": [
    {
     "data": {
      "text/html": [
       "<table class=\"simpletable\">\n",
       "<caption>OLS Regression Results</caption>\n",
       "<tr>\n",
       "  <th>Dep. Variable:</th>            <td>y</td>        <th>  R-squared:         </th>  <td>   0.563</td>  \n",
       "</tr>\n",
       "<tr>\n",
       "  <th>Model:</th>                   <td>OLS</td>       <th>  Adj. R-squared:    </th>  <td>   0.562</td>  \n",
       "</tr>\n",
       "<tr>\n",
       "  <th>Method:</th>             <td>Least Squares</td>  <th>  F-statistic:       </th>  <td>   6655.</td>  \n",
       "</tr>\n",
       "<tr>\n",
       "  <th>Date:</th>             <td>Wed, 05 Jul 2023</td> <th>  Prob (F-statistic):</th>   <td>  0.00</td>   \n",
       "</tr>\n",
       "<tr>\n",
       "  <th>Time:</th>                 <td>13:37:21</td>     <th>  Log-Likelihood:    </th> <td>-5.8543e+05</td>\n",
       "</tr>\n",
       "<tr>\n",
       "  <th>No. Observations:</th>      <td> 62116</td>      <th>  AIC:               </th>  <td>1.171e+06</td> \n",
       "</tr>\n",
       "<tr>\n",
       "  <th>Df Residuals:</th>          <td> 62103</td>      <th>  BIC:               </th>  <td>1.171e+06</td> \n",
       "</tr>\n",
       "<tr>\n",
       "  <th>Df Model:</th>              <td>    12</td>      <th>                     </th>      <td> </td>     \n",
       "</tr>\n",
       "<tr>\n",
       "  <th>Covariance Type:</th>      <td>nonrobust</td>    <th>                     </th>      <td> </td>     \n",
       "</tr>\n",
       "</table>\n",
       "<table class=\"simpletable\">\n",
       "<tr>\n",
       "    <td></td>       <th>coef</th>     <th>std err</th>      <th>t</th>      <th>P>|t|</th>  <th>[0.025</th>    <th>0.975]</th>  \n",
       "</tr>\n",
       "<tr>\n",
       "  <th>const</th> <td>   30.5464</td> <td>   17.219</td> <td>    1.774</td> <td> 0.076</td> <td>   -3.204</td> <td>   64.297</td>\n",
       "</tr>\n",
       "<tr>\n",
       "  <th>x1</th>    <td> -568.4920</td> <td>  143.107</td> <td>   -3.973</td> <td> 0.000</td> <td> -848.982</td> <td> -288.002</td>\n",
       "</tr>\n",
       "<tr>\n",
       "  <th>x2</th>    <td>   -0.1223</td> <td>    0.004</td> <td>  -29.781</td> <td> 0.000</td> <td>   -0.130</td> <td>   -0.114</td>\n",
       "</tr>\n",
       "<tr>\n",
       "  <th>x3</th>    <td>    0.2186</td> <td>    0.003</td> <td>   74.592</td> <td> 0.000</td> <td>    0.213</td> <td>    0.224</td>\n",
       "</tr>\n",
       "<tr>\n",
       "  <th>x4</th>    <td>    0.0870</td> <td>    0.024</td> <td>    3.635</td> <td> 0.000</td> <td>    0.040</td> <td>    0.134</td>\n",
       "</tr>\n",
       "<tr>\n",
       "  <th>x5</th>    <td>  623.4752</td> <td>  168.500</td> <td>    3.700</td> <td> 0.000</td> <td>  293.215</td> <td>  953.736</td>\n",
       "</tr>\n",
       "<tr>\n",
       "  <th>x6</th>    <td>    1.0664</td> <td>    0.014</td> <td>   75.953</td> <td> 0.000</td> <td>    1.039</td> <td>    1.094</td>\n",
       "</tr>\n",
       "<tr>\n",
       "  <th>x7</th>    <td>   -0.6343</td> <td>    0.010</td> <td>  -65.972</td> <td> 0.000</td> <td>   -0.653</td> <td>   -0.615</td>\n",
       "</tr>\n",
       "<tr>\n",
       "  <th>x8</th>    <td>   -0.4307</td> <td>    0.082</td> <td>   -5.237</td> <td> 0.000</td> <td>   -0.592</td> <td>   -0.269</td>\n",
       "</tr>\n",
       "<tr>\n",
       "  <th>x9</th>    <td>  849.1764</td> <td>   94.118</td> <td>    9.022</td> <td> 0.000</td> <td>  664.705</td> <td> 1033.648</td>\n",
       "</tr>\n",
       "<tr>\n",
       "  <th>x10</th>   <td>   -2.3817</td> <td>    0.039</td> <td>  -61.823</td> <td> 0.000</td> <td>   -2.457</td> <td>   -2.306</td>\n",
       "</tr>\n",
       "<tr>\n",
       "  <th>x11</th>   <td>    2.4871</td> <td>    0.034</td> <td>   72.091</td> <td> 0.000</td> <td>    2.419</td> <td>    2.555</td>\n",
       "</tr>\n",
       "<tr>\n",
       "  <th>x12</th>   <td>    1.6000</td> <td>    0.155</td> <td>   10.307</td> <td> 0.000</td> <td>    1.296</td> <td>    1.904</td>\n",
       "</tr>\n",
       "</table>\n",
       "<table class=\"simpletable\">\n",
       "<tr>\n",
       "  <th>Omnibus:</th>       <td>107080.157</td> <th>  Durbin-Watson:     </th>    <td>   2.004</td>   \n",
       "</tr>\n",
       "<tr>\n",
       "  <th>Prob(Omnibus):</th>   <td> 0.000</td>   <th>  Jarque-Bera (JB):  </th> <td>2541072148.197</td>\n",
       "</tr>\n",
       "<tr>\n",
       "  <th>Skew:</th>            <td>10.828</td>   <th>  Prob(JB):          </th>    <td>    0.00</td>   \n",
       "</tr>\n",
       "<tr>\n",
       "  <th>Kurtosis:</th>        <td>993.623</td>  <th>  Cond. No.          </th>    <td>3.10e+05</td>   \n",
       "</tr>\n",
       "</table><br/><br/>Notes:<br/>[1] Standard Errors assume that the covariance matrix of the errors is correctly specified.<br/>[2] The condition number is large, 3.1e+05. This might indicate that there are<br/>strong multicollinearity or other numerical problems."
      ],
      "text/plain": [
       "<class 'statsmodels.iolib.summary.Summary'>\n",
       "\"\"\"\n",
       "                            OLS Regression Results                            \n",
       "==============================================================================\n",
       "Dep. Variable:                      y   R-squared:                       0.563\n",
       "Model:                            OLS   Adj. R-squared:                  0.562\n",
       "Method:                 Least Squares   F-statistic:                     6655.\n",
       "Date:                Wed, 05 Jul 2023   Prob (F-statistic):               0.00\n",
       "Time:                        13:37:21   Log-Likelihood:            -5.8543e+05\n",
       "No. Observations:               62116   AIC:                         1.171e+06\n",
       "Df Residuals:                   62103   BIC:                         1.171e+06\n",
       "Df Model:                          12                                         \n",
       "Covariance Type:            nonrobust                                         \n",
       "==============================================================================\n",
       "                 coef    std err          t      P>|t|      [0.025      0.975]\n",
       "------------------------------------------------------------------------------\n",
       "const         30.5464     17.219      1.774      0.076      -3.204      64.297\n",
       "x1          -568.4920    143.107     -3.973      0.000    -848.982    -288.002\n",
       "x2            -0.1223      0.004    -29.781      0.000      -0.130      -0.114\n",
       "x3             0.2186      0.003     74.592      0.000       0.213       0.224\n",
       "x4             0.0870      0.024      3.635      0.000       0.040       0.134\n",
       "x5           623.4752    168.500      3.700      0.000     293.215     953.736\n",
       "x6             1.0664      0.014     75.953      0.000       1.039       1.094\n",
       "x7            -0.6343      0.010    -65.972      0.000      -0.653      -0.615\n",
       "x8            -0.4307      0.082     -5.237      0.000      -0.592      -0.269\n",
       "x9           849.1764     94.118      9.022      0.000     664.705    1033.648\n",
       "x10           -2.3817      0.039    -61.823      0.000      -2.457      -2.306\n",
       "x11            2.4871      0.034     72.091      0.000       2.419       2.555\n",
       "x12            1.6000      0.155     10.307      0.000       1.296       1.904\n",
       "==============================================================================\n",
       "Omnibus:                   107080.157   Durbin-Watson:                   2.004\n",
       "Prob(Omnibus):                  0.000   Jarque-Bera (JB):       2541072148.197\n",
       "Skew:                          10.828   Prob(JB):                         0.00\n",
       "Kurtosis:                     993.623   Cond. No.                     3.10e+05\n",
       "==============================================================================\n",
       "\n",
       "Notes:\n",
       "[1] Standard Errors assume that the covariance matrix of the errors is correctly specified.\n",
       "[2] The condition number is large, 3.1e+05. This might indicate that there are\n",
       "strong multicollinearity or other numerical problems.\n",
       "\"\"\""
      ]
     },
     "execution_count": 25,
     "metadata": {},
     "output_type": "execute_result"
    }
   ],
   "source": [
    "X = train_1.drop('TOTAL_TURNOVER', axis=1).to_numpy()\n",
    "y = train_1['TOTAL_TURNOVER'].to_numpy().reshape(-1,1)\n",
    "\n",
    "X = sm.add_constant(X)\n",
    "\n",
    "model = sm.OLS(y, X) \n",
    "results = model.fit()\n",
    "\n",
    "results.summary()"
   ]
  },
  {
   "cell_type": "code",
   "execution_count": 27,
   "id": "5503d1e5-5425-4e4d-9216-bae594ee7574",
   "metadata": {},
   "outputs": [
    {
     "data": {
      "text/plain": [
       "[<matplotlib.lines.Line2D at 0x26e83faffd0>]"
      ]
     },
     "execution_count": 27,
     "metadata": {},
     "output_type": "execute_result"
    },
    {
     "data": {
      "image/png": "[encoded data removed]",
      "text/plain": [
       "<Figure size 1600x400 with 1 Axes>"
      ]
     },
     "metadata": {},
     "output_type": "display_data"
    }
   ],
   "source": [
    "y_pred = results.predict(X)\n",
    "\n",
    "e = y.flatten()  - y_pred\n",
    "\n",
    "e.sort()\n",
    "\n",
    "plt.figure(figsize=(16,4))\n",
    "plt.plot(e )"
   ]
  },
  {
   "cell_type": "code",
   "execution_count": 30,
   "id": "f786bbe6-b8de-40e7-9c31-324dea6f137b",
   "metadata": {},
   "outputs": [
    {
     "data": {
      "text/plain": [
       "<matplotlib.collections.PathCollection at 0x26e84777a90>"
      ]
     },
     "execution_count": 30,
     "metadata": {},
     "output_type": "execute_result"
    },
    {
     "data": {
      "image/png": "[encoded data removed]",
      "text/plain": [
       "<Figure size 800x600 with 1 Axes>"
      ]
     },
     "metadata": {},
     "output_type": "display_data"
    }
   ],
   "source": [
    "plt.figure(figsize=(8,6))\n",
    "plt.scatter(y, y_pred)"
   ]
  },
  {
   "cell_type": "code",
   "execution_count": 29,
   "id": "14990622-233c-4868-8ea3-425e0e0ee3e4",
   "metadata": {},
   "outputs": [
    {
     "data": {
      "text/plain": [
       "8802564.951456672"
      ]
     },
     "execution_count": 29,
     "metadata": {},
     "output_type": "execute_result"
    },
    {
     "data": {
      "text/plain": [
       "<Figure size 800x600 with 0 Axes>"
      ]
     },
     "metadata": {},
     "output_type": "display_data"
    }
   ],
   "source": [
    "plt.figure(figsize=(8,6))\n"
   ]
  },
  {
   "cell_type": "code",
   "execution_count": null,
   "id": "83512da5-94d0-44b7-88f4-5538154151ea",
   "metadata": {},
   "outputs": [],
   "source": []
  },
  {
   "cell_type": "code",
   "execution_count": 20,
   "id": "df52f9f6-8329-4f9d-8516-be946b2d655d",
   "metadata": {},
   "outputs": [],
   "source": [
    "train_2 = train.drop(['TENURE_IN_DAYS_1', 'WIN_LOSS_1', 'TENURE_IN_DAYS_4', 'WIN_LOSS_4', 'TENURE_IN_DAYS_12', 'WIN_LOSS_12',\n",
    "                     'WIN_LOSS_RATIO_1','WIN_LOSS_RATIO_4','WIN_LOSS_RATIO_12','RACING_RATIO_1','RACING_RATIO_4','RACING_RATIO_12',\n",
    "                     'BET_ACCOUNT_NUM_HASH_4', 'BET_ACCOUNT_NUM_HASH_12'],axis=1)"
   ]
  },
  {
   "cell_type": "code",
   "execution_count": 21,
   "id": "8ecd13b7-8bf0-4b94-a53a-f9f7fd56ae79",
   "metadata": {},
   "outputs": [
    {
     "data": {
      "text/html": [
       "<table class=\"simpletable\">\n",
       "<caption>OLS Regression Results</caption>\n",
       "<tr>\n",
       "  <th>Dep. Variable:</th>            <td>y</td>        <th>  R-squared:         </th>  <td>   0.562</td>  \n",
       "</tr>\n",
       "<tr>\n",
       "  <th>Model:</th>                   <td>OLS</td>       <th>  Adj. R-squared:    </th>  <td>   0.562</td>  \n",
       "</tr>\n",
       "<tr>\n",
       "  <th>Method:</th>             <td>Least Squares</td>  <th>  F-statistic:       </th>  <td>   7983.</td>  \n",
       "</tr>\n",
       "<tr>\n",
       "  <th>Date:</th>             <td>Sat, 01 Jul 2023</td> <th>  Prob (F-statistic):</th>   <td>  0.00</td>   \n",
       "</tr>\n",
       "<tr>\n",
       "  <th>Time:</th>                 <td>15:41:42</td>     <th>  Log-Likelihood:    </th> <td>-5.8543e+05</td>\n",
       "</tr>\n",
       "<tr>\n",
       "  <th>No. Observations:</th>      <td> 62116</td>      <th>  AIC:               </th>  <td>1.171e+06</td> \n",
       "</tr>\n",
       "<tr>\n",
       "  <th>Df Residuals:</th>          <td> 62105</td>      <th>  BIC:               </th>  <td>1.171e+06</td> \n",
       "</tr>\n",
       "<tr>\n",
       "  <th>Df Model:</th>              <td>    10</td>      <th>                     </th>      <td> </td>     \n",
       "</tr>\n",
       "<tr>\n",
       "  <th>Covariance Type:</th>      <td>nonrobust</td>    <th>                     </th>      <td> </td>     \n",
       "</tr>\n",
       "</table>\n",
       "<table class=\"simpletable\">\n",
       "<tr>\n",
       "    <td></td>       <th>coef</th>     <th>std err</th>      <th>t</th>      <th>P>|t|</th>  <th>[0.025</th>    <th>0.975]</th>  \n",
       "</tr>\n",
       "<tr>\n",
       "  <th>const</th> <td>   14.5439</td> <td>   15.621</td> <td>    0.931</td> <td> 0.352</td> <td>  -16.074</td> <td>   45.162</td>\n",
       "</tr>\n",
       "<tr>\n",
       "  <th>x1</th>    <td>   -0.1240</td> <td>    0.004</td> <td>  -30.317</td> <td> 0.000</td> <td>   -0.132</td> <td>   -0.116</td>\n",
       "</tr>\n",
       "<tr>\n",
       "  <th>x2</th>    <td>    0.2178</td> <td>    0.003</td> <td>   74.536</td> <td> 0.000</td> <td>    0.212</td> <td>    0.224</td>\n",
       "</tr>\n",
       "<tr>\n",
       "  <th>x3</th>    <td>    0.0663</td> <td>    0.023</td> <td>    2.842</td> <td> 0.004</td> <td>    0.021</td> <td>    0.112</td>\n",
       "</tr>\n",
       "<tr>\n",
       "  <th>x4</th>    <td>    1.0724</td> <td>    0.014</td> <td>   76.822</td> <td> 0.000</td> <td>    1.045</td> <td>    1.100</td>\n",
       "</tr>\n",
       "<tr>\n",
       "  <th>x5</th>    <td>   -0.6324</td> <td>    0.010</td> <td>  -65.869</td> <td> 0.000</td> <td>   -0.651</td> <td>   -0.614</td>\n",
       "</tr>\n",
       "<tr>\n",
       "  <th>x6</th>    <td>   -0.3654</td> <td>    0.081</td> <td>   -4.534</td> <td> 0.000</td> <td>   -0.523</td> <td>   -0.207</td>\n",
       "</tr>\n",
       "<tr>\n",
       "  <th>x7</th>    <td>  951.6039</td> <td>   45.362</td> <td>   20.978</td> <td> 0.000</td> <td>  862.695</td> <td> 1040.513</td>\n",
       "</tr>\n",
       "<tr>\n",
       "  <th>x8</th>    <td>   -2.3872</td> <td>    0.039</td> <td>  -62.000</td> <td> 0.000</td> <td>   -2.463</td> <td>   -2.312</td>\n",
       "</tr>\n",
       "<tr>\n",
       "  <th>x9</th>    <td>    2.4871</td> <td>    0.034</td> <td>   72.168</td> <td> 0.000</td> <td>    2.420</td> <td>    2.555</td>\n",
       "</tr>\n",
       "<tr>\n",
       "  <th>x10</th>   <td>    1.5573</td> <td>    0.153</td> <td>   10.158</td> <td> 0.000</td> <td>    1.257</td> <td>    1.858</td>\n",
       "</tr>\n",
       "</table>\n",
       "<table class=\"simpletable\">\n",
       "<tr>\n",
       "  <th>Omnibus:</th>       <td>107070.804</td> <th>  Durbin-Watson:     </th>    <td>   2.004</td>   \n",
       "</tr>\n",
       "<tr>\n",
       "  <th>Prob(Omnibus):</th>   <td> 0.000</td>   <th>  Jarque-Bera (JB):  </th> <td>2532514807.004</td>\n",
       "</tr>\n",
       "<tr>\n",
       "  <th>Skew:</th>            <td>10.827</td>   <th>  Prob(JB):          </th>    <td>    0.00</td>   \n",
       "</tr>\n",
       "<tr>\n",
       "  <th>Kurtosis:</th>        <td>991.953</td>  <th>  Cond. No.          </th>    <td>6.74e+04</td>   \n",
       "</tr>\n",
       "</table><br/><br/>Notes:<br/>[1] Standard Errors assume that the covariance matrix of the errors is correctly specified.<br/>[2] The condition number is large, 6.74e+04. This might indicate that there are<br/>strong multicollinearity or other numerical problems."
      ],
      "text/plain": [
       "<class 'statsmodels.iolib.summary.Summary'>\n",
       "\"\"\"\n",
       "                            OLS Regression Results                            \n",
       "==============================================================================\n",
       "Dep. Variable:                      y   R-squared:                       0.562\n",
       "Model:                            OLS   Adj. R-squared:                  0.562\n",
       "Method:                 Least Squares   F-statistic:                     7983.\n",
       "Date:                Sat, 01 Jul 2023   Prob (F-statistic):               0.00\n",
       "Time:                        15:41:42   Log-Likelihood:            -5.8543e+05\n",
       "No. Observations:               62116   AIC:                         1.171e+06\n",
       "Df Residuals:                   62105   BIC:                         1.171e+06\n",
       "Df Model:                          10                                         \n",
       "Covariance Type:            nonrobust                                         \n",
       "==============================================================================\n",
       "                 coef    std err          t      P>|t|      [0.025      0.975]\n",
       "------------------------------------------------------------------------------\n",
       "const         14.5439     15.621      0.931      0.352     -16.074      45.162\n",
       "x1            -0.1240      0.004    -30.317      0.000      -0.132      -0.116\n",
       "x2             0.2178      0.003     74.536      0.000       0.212       0.224\n",
       "x3             0.0663      0.023      2.842      0.004       0.021       0.112\n",
       "x4             1.0724      0.014     76.822      0.000       1.045       1.100\n",
       "x5            -0.6324      0.010    -65.869      0.000      -0.651      -0.614\n",
       "x6            -0.3654      0.081     -4.534      0.000      -0.523      -0.207\n",
       "x7           951.6039     45.362     20.978      0.000     862.695    1040.513\n",
       "x8            -2.3872      0.039    -62.000      0.000      -2.463      -2.312\n",
       "x9             2.4871      0.034     72.168      0.000       2.420       2.555\n",
       "x10            1.5573      0.153     10.158      0.000       1.257       1.858\n",
       "==============================================================================\n",
       "Omnibus:                   107070.804   Durbin-Watson:                   2.004\n",
       "Prob(Omnibus):                  0.000   Jarque-Bera (JB):       2532514807.004\n",
       "Skew:                          10.827   Prob(JB):                         0.00\n",
       "Kurtosis:                     991.953   Cond. No.                     6.74e+04\n",
       "==============================================================================\n",
       "\n",
       "Notes:\n",
       "[1] Standard Errors assume that the covariance matrix of the errors is correctly specified.\n",
       "[2] The condition number is large, 6.74e+04. This might indicate that there are\n",
       "strong multicollinearity or other numerical problems.\n",
       "\"\"\""
      ]
     },
     "execution_count": 21,
     "metadata": {},
     "output_type": "execute_result"
    }
   ],
   "source": [
    "X = train_2.drop('TOTAL_TURNOVER', axis=1).to_numpy()\n",
    "y = train_2['TOTAL_TURNOVER'].to_numpy().reshape(-1,1)\n",
    "\n",
    "X = sm.add_constant(X)\n",
    "\n",
    "model = sm.OLS(y, X) \n",
    "results = model.fit()\n",
    "\n",
    "results.summary()"
   ]
  },
  {
   "cell_type": "code",
   "execution_count": 22,
   "id": "f8cd8b93-6b11-4491-af06-d9120daacd73",
   "metadata": {},
   "outputs": [
    {
     "data": {
      "text/plain": [
       "array([23178.83333946,   863.12024376,    22.90144559, ...,\n",
       "          19.28424399,  3170.08306865,  2536.50691889])"
      ]
     },
     "execution_count": 22,
     "metadata": {},
     "output_type": "execute_result"
    }
   ],
   "source": [
    "y_pred = results.predict(X)\n",
    "y_pred"
   ]
  },
  {
   "cell_type": "code",
   "execution_count": 23,
   "id": "13103782-ebd0-4e29-8398-f9dc1392e638",
   "metadata": {},
   "outputs": [
    {
     "data": {
      "text/plain": [
       "array([[18536.14],\n",
       "       [  602.  ],\n",
       "       [   17.  ],\n",
       "       ...,\n",
       "       [   20.  ],\n",
       "       [11528.  ],\n",
       "       [ 2582.  ]])"
      ]
     },
     "execution_count": 23,
     "metadata": {},
     "output_type": "execute_result"
    }
   ],
   "source": [
    "y"
   ]
  },
  {
   "cell_type": "code",
   "execution_count": 24,
   "id": "a6420b3e-f032-4500-8097-cd6695fe546e",
   "metadata": {},
   "outputs": [
    {
     "data": {
      "text/plain": [
       "[<matplotlib.lines.Line2D at 0x277ca6ee530>]"
      ]
     },
     "execution_count": 24,
     "metadata": {},
     "output_type": "execute_result"
    },
    {
     "data": {
      "image/png": "[encoded data removed]",
      "text/plain": [
       "<Figure size 1600x400 with 1 Axes>"
      ]
     },
     "metadata": {},
     "output_type": "display_data"
    }
   ],
   "source": [
    "y_pred = results.predict(X)\n",
    "e = y.flatten()  - y_pred\n",
    "\n",
    "e.sort()\n",
    "\n",
    "plt.figure(figsize=(16,4))\n",
    "plt.plot(e )"
   ]
  },
  {
   "cell_type": "code",
   "execution_count": 25,
   "id": "3cb0f53e-4bdb-43c7-9e92-02fbfd1baf21",
   "metadata": {},
   "outputs": [
    {
     "data": {
      "text/plain": [
       "8804934.314752638"
      ]
     },
     "execution_count": 25,
     "metadata": {},
     "output_type": "execute_result"
    }
   ],
   "source": [
    "(sum(e**2)/63433)"
   ]
  },
  {
   "cell_type": "code",
   "execution_count": 26,
   "id": "6ee9885e-69da-4764-b786-b30b866387dd",
   "metadata": {},
   "outputs": [
    {
     "data": {
      "text/plain": [
       "2967.3109568686323"
      ]
     },
     "execution_count": 26,
     "metadata": {},
     "output_type": "execute_result"
    }
   ],
   "source": [
    "(sum(e**2)/63433)**0.5"
   ]
  },
  {
   "cell_type": "code",
   "execution_count": 27,
   "id": "f6c090f9-838a-45cc-89e7-9a6ffaf370df",
   "metadata": {},
   "outputs": [
    {
     "data": {
      "text/plain": [
       "[<matplotlib.lines.Line2D at 0x277cb261690>]"
      ]
     },
     "execution_count": 27,
     "metadata": {},
     "output_type": "execute_result"
    },
    {
     "data": {
      "image/png": "[encoded data removed]",
      "text/plain": [
       "<Figure size 1600x400 with 1 Axes>"
      ]
     },
     "metadata": {},
     "output_type": "display_data"
    }
   ],
   "source": [
    "y_pred = results.predict(X)\n",
    "e = y.flatten()  - y_pred\n",
    "\n",
    "e.sort()\n",
    "\n",
    "plt.figure(figsize=(16,4))\n",
    "plt.plot(e )"
   ]
  },
  {
   "cell_type": "code",
   "execution_count": 28,
   "id": "c7995b0a-7d4e-4f1e-9ae6-3fa2c93bf7ba",
   "metadata": {},
   "outputs": [
    {
     "data": {
      "text/plain": [
       "Index(['BET_ACCOUNT_NUM_HASH_12', 'TENURE_IN_DAYS_12', 'RACING_TURNOVER_12',\n",
       "       'TOTAL_TURNOVER_12', 'TICKETS_12', 'WIN_LOSS_12',\n",
       "       'BET_ACCOUNT_NUM_HASH_4', 'TENURE_IN_DAYS_4', 'RACING_TURNOVER_4',\n",
       "       'TOTAL_TURNOVER_4', 'TICKETS_4', 'WIN_LOSS_4', 'BET_ACCOUNT_NUM_HASH_1',\n",
       "       'TENURE_IN_DAYS_1', 'RACING_TURNOVER_1', 'TOTAL_TURNOVER_1',\n",
       "       'TICKETS_1', 'WIN_LOSS_1', 'TOTAL_TURNOVER', 'WIN_LOSS_RATIO_1',\n",
       "       'WIN_LOSS_RATIO_4', 'WIN_LOSS_RATIO_12', 'RACING_RATIO_1',\n",
       "       'RACING_RATIO_4', 'RACING_RATIO_12'],\n",
       "      dtype='object')"
      ]
     },
     "execution_count": 28,
     "metadata": {},
     "output_type": "execute_result"
    }
   ],
   "source": [
    "train.columns"
   ]
  },
  {
   "cell_type": "code",
   "execution_count": 29,
   "id": "e29df880-a2f9-419c-89a9-d962fa443c8a",
   "metadata": {},
   "outputs": [],
   "source": [
    "train_3 = train[['TOTAL_TURNOVER_12', 'TOTAL_TURNOVER_4', 'TOTAL_TURNOVER_1', 'TOTAL_TURNOVER', 'BET_ACCOUNT_NUM_HASH_12']]"
   ]
  },
  {
   "cell_type": "code",
   "execution_count": 30,
   "id": "869afc5a-949f-49bb-aedc-d62cd8e61154",
   "metadata": {},
   "outputs": [
    {
     "data": {
      "text/html": [
       "<table class=\"simpletable\">\n",
       "<caption>OLS Regression Results</caption>\n",
       "<tr>\n",
       "  <th>Dep. Variable:</th>            <td>y</td>        <th>  R-squared (uncentered):</th>       <td>   0.543</td>  \n",
       "</tr>\n",
       "<tr>\n",
       "  <th>Model:</th>                   <td>OLS</td>       <th>  Adj. R-squared (uncentered):</th>  <td>   0.543</td>  \n",
       "</tr>\n",
       "<tr>\n",
       "  <th>Method:</th>             <td>Least Squares</td>  <th>  F-statistic:       </th>           <td>1.843e+04</td> \n",
       "</tr>\n",
       "<tr>\n",
       "  <th>Date:</th>             <td>Sat, 01 Jul 2023</td> <th>  Prob (F-statistic):</th>            <td>  0.00</td>   \n",
       "</tr>\n",
       "<tr>\n",
       "  <th>Time:</th>                 <td>15:41:43</td>     <th>  Log-Likelihood:    </th>          <td>-5.8879e+05</td>\n",
       "</tr>\n",
       "<tr>\n",
       "  <th>No. Observations:</th>      <td> 62116</td>      <th>  AIC:               </th>           <td>1.178e+06</td> \n",
       "</tr>\n",
       "<tr>\n",
       "  <th>Df Residuals:</th>          <td> 62112</td>      <th>  BIC:               </th>           <td>1.178e+06</td> \n",
       "</tr>\n",
       "<tr>\n",
       "  <th>Df Model:</th>              <td>     4</td>      <th>                     </th>               <td> </td>     \n",
       "</tr>\n",
       "<tr>\n",
       "  <th>Covariance Type:</th>      <td>nonrobust</td>    <th>                     </th>               <td> </td>     \n",
       "</tr>\n",
       "</table>\n",
       "<table class=\"simpletable\">\n",
       "<tr>\n",
       "   <td></td>     <th>coef</th>     <th>std err</th>      <th>t</th>      <th>P>|t|</th>  <th>[0.025</th>    <th>0.975]</th>  \n",
       "</tr>\n",
       "<tr>\n",
       "  <th>x1</th> <td>    0.1823</td> <td>    0.002</td> <td>   95.245</td> <td> 0.000</td> <td>    0.179</td> <td>    0.186</td>\n",
       "</tr>\n",
       "<tr>\n",
       "  <th>x2</th> <td>   -0.0469</td> <td>    0.006</td> <td>   -7.539</td> <td> 0.000</td> <td>   -0.059</td> <td>   -0.035</td>\n",
       "</tr>\n",
       "<tr>\n",
       "  <th>x3</th> <td>    0.7420</td> <td>    0.013</td> <td>   56.315</td> <td> 0.000</td> <td>    0.716</td> <td>    0.768</td>\n",
       "</tr>\n",
       "<tr>\n",
       "  <th>x4</th> <td> 1283.1279</td> <td>   38.457</td> <td>   33.365</td> <td> 0.000</td> <td> 1207.751</td> <td> 1358.505</td>\n",
       "</tr>\n",
       "</table>\n",
       "<table class=\"simpletable\">\n",
       "<tr>\n",
       "  <th>Omnibus:</th>       <td>80355.692</td> <th>  Durbin-Watson:     </th>    <td>   2.004</td>   \n",
       "</tr>\n",
       "<tr>\n",
       "  <th>Prob(Omnibus):</th>  <td> 0.000</td>   <th>  Jarque-Bera (JB):  </th> <td>4048735477.220</td>\n",
       "</tr>\n",
       "<tr>\n",
       "  <th>Skew:</th>           <td> 5.505</td>   <th>  Prob(JB):          </th>    <td>    0.00</td>   \n",
       "</tr>\n",
       "<tr>\n",
       "  <th>Kurtosis:</th>      <td>1253.682</td>  <th>  Cond. No.          </th>    <td>4.39e+04</td>   \n",
       "</tr>\n",
       "</table><br/><br/>Notes:<br/>[1] R² is computed without centering (uncentered) since the model does not contain a constant.<br/>[2] Standard Errors assume that the covariance matrix of the errors is correctly specified.<br/>[3] The condition number is large, 4.39e+04. This might indicate that there are<br/>strong multicollinearity or other numerical problems."
      ],
      "text/plain": [
       "<class 'statsmodels.iolib.summary.Summary'>\n",
       "\"\"\"\n",
       "                                 OLS Regression Results                                \n",
       "=======================================================================================\n",
       "Dep. Variable:                      y   R-squared (uncentered):                   0.543\n",
       "Model:                            OLS   Adj. R-squared (uncentered):              0.543\n",
       "Method:                 Least Squares   F-statistic:                          1.843e+04\n",
       "Date:                Sat, 01 Jul 2023   Prob (F-statistic):                        0.00\n",
       "Time:                        15:41:43   Log-Likelihood:                     -5.8879e+05\n",
       "No. Observations:               62116   AIC:                                  1.178e+06\n",
       "Df Residuals:                   62112   BIC:                                  1.178e+06\n",
       "Df Model:                           4                                                  \n",
       "Covariance Type:            nonrobust                                                  \n",
       "==============================================================================\n",
       "                 coef    std err          t      P>|t|      [0.025      0.975]\n",
       "------------------------------------------------------------------------------\n",
       "x1             0.1823      0.002     95.245      0.000       0.179       0.186\n",
       "x2            -0.0469      0.006     -7.539      0.000      -0.059      -0.035\n",
       "x3             0.7420      0.013     56.315      0.000       0.716       0.768\n",
       "x4          1283.1279     38.457     33.365      0.000    1207.751    1358.505\n",
       "==============================================================================\n",
       "Omnibus:                    80355.692   Durbin-Watson:                   2.004\n",
       "Prob(Omnibus):                  0.000   Jarque-Bera (JB):       4048735477.220\n",
       "Skew:                           5.505   Prob(JB):                         0.00\n",
       "Kurtosis:                    1253.682   Cond. No.                     4.39e+04\n",
       "==============================================================================\n",
       "\n",
       "Notes:\n",
       "[1] R² is computed without centering (uncentered) since the model does not contain a constant.\n",
       "[2] Standard Errors assume that the covariance matrix of the errors is correctly specified.\n",
       "[3] The condition number is large, 4.39e+04. This might indicate that there are\n",
       "strong multicollinearity or other numerical problems.\n",
       "\"\"\""
      ]
     },
     "execution_count": 30,
     "metadata": {},
     "output_type": "execute_result"
    }
   ],
   "source": [
    "X = train_3.drop('TOTAL_TURNOVER', axis=1).to_numpy()\n",
    "y = train_3['TOTAL_TURNOVER'].to_numpy().reshape(-1,1)\n",
    "\n",
    "#X = sm.add_constant(X)\n",
    "\n",
    "model = sm.OLS(y, X) \n",
    "results = model.fit()\n",
    "\n",
    "results.summary()"
   ]
  },
  {
   "cell_type": "code",
   "execution_count": 31,
   "id": "fda2a0fc-5c82-480b-85fd-b54dc83a12b4",
   "metadata": {},
   "outputs": [],
   "source": [
    "y_pred = results.predict(X)"
   ]
  },
  {
   "cell_type": "code",
   "execution_count": 32,
   "id": "f0d6da1c-9177-4639-ae8e-ce8095e2a011",
   "metadata": {},
   "outputs": [
    {
     "data": {
      "text/plain": [
       "array([20065.47155663,   673.94837572,    33.26504799, ...,\n",
       "          16.6299442 ,  3404.37615327,  1967.51188806])"
      ]
     },
     "execution_count": 32,
     "metadata": {},
     "output_type": "execute_result"
    }
   ],
   "source": [
    "y_pred"
   ]
  },
  {
   "cell_type": "code",
   "execution_count": 33,
   "id": "60609ed0-da4c-4696-a936-e7cc23f9fd39",
   "metadata": {},
   "outputs": [
    {
     "data": {
      "text/plain": [
       "array([[18536.14],\n",
       "       [  602.  ],\n",
       "       [   17.  ],\n",
       "       ...,\n",
       "       [   20.  ],\n",
       "       [11528.  ],\n",
       "       [ 2582.  ]])"
      ]
     },
     "execution_count": 33,
     "metadata": {},
     "output_type": "execute_result"
    }
   ],
   "source": [
    "y"
   ]
  },
  {
   "cell_type": "code",
   "execution_count": 34,
   "id": "1d9ea4ad-3fe9-42d5-8f4c-aaeb604bc1c0",
   "metadata": {},
   "outputs": [
    {
     "data": {
      "text/plain": [
       "10019260.495093474"
      ]
     },
     "execution_count": 34,
     "metadata": {},
     "output_type": "execute_result"
    }
   ],
   "source": [
    "sum((y.flatten() - y_pred)**2)/62116"
   ]
  },
  {
   "cell_type": "code",
   "execution_count": 35,
   "id": "6d18b8db-f5ea-4b19-8c4d-94004a7c93b6",
   "metadata": {},
   "outputs": [
    {
     "data": {
      "text/plain": [
       "3165.321546872209"
      ]
     },
     "execution_count": 35,
     "metadata": {},
     "output_type": "execute_result"
    }
   ],
   "source": [
    "(sum((y.flatten() - y_pred)**2)/62116)**0.5"
   ]
  },
  {
   "cell_type": "code",
   "execution_count": 36,
   "id": "fae49f72-80cd-4ac7-a914-191b472295f3",
   "metadata": {},
   "outputs": [
    {
     "data": {
      "text/plain": [
       "Index(['BET_ACCOUNT_NUM_HASH_12', 'TENURE_IN_DAYS_12', 'RACING_TURNOVER_12',\n",
       "       'TOTAL_TURNOVER_12', 'TICKETS_12', 'WIN_LOSS_12',\n",
       "       'BET_ACCOUNT_NUM_HASH_4', 'TENURE_IN_DAYS_4', 'RACING_TURNOVER_4',\n",
       "       'TOTAL_TURNOVER_4', 'TICKETS_4', 'WIN_LOSS_4', 'BET_ACCOUNT_NUM_HASH_1',\n",
       "       'TENURE_IN_DAYS_1', 'RACING_TURNOVER_1', 'TOTAL_TURNOVER_1',\n",
       "       'TICKETS_1', 'WIN_LOSS_1', 'TOTAL_TURNOVER', 'WIN_LOSS_RATIO_1',\n",
       "       'WIN_LOSS_RATIO_4', 'WIN_LOSS_RATIO_12', 'RACING_RATIO_1',\n",
       "       'RACING_RATIO_4', 'RACING_RATIO_12'],\n",
       "      dtype='object')"
      ]
     },
     "execution_count": 36,
     "metadata": {},
     "output_type": "execute_result"
    }
   ],
   "source": [
    "train.columns"
   ]
  },
  {
   "cell_type": "code",
   "execution_count": 37,
   "id": "22acbc93-b5c8-4b42-aeb3-abdb487be96b",
   "metadata": {},
   "outputs": [],
   "source": [
    "train_3 = train[['TOTAL_TURNOVER_12', 'TOTAL_TURNOVER_4', 'TOTAL_TURNOVER_1', 'TOTAL_TURNOVER', 'BET_ACCOUNT_NUM_HASH_12', 'WIN_LOSS_RATIO_12']]"
   ]
  },
  {
   "cell_type": "code",
   "execution_count": 38,
   "id": "9ae4a8a3-bc63-45ae-95a2-dcc3b84124ee",
   "metadata": {},
   "outputs": [
    {
     "data": {
      "text/html": [
       "<table class=\"simpletable\">\n",
       "<caption>OLS Regression Results</caption>\n",
       "<tr>\n",
       "  <th>Dep. Variable:</th>            <td>y</td>        <th>  R-squared (uncentered):</th>       <td>   0.877</td>  \n",
       "</tr>\n",
       "<tr>\n",
       "  <th>Model:</th>                   <td>OLS</td>       <th>  Adj. R-squared (uncentered):</th>  <td>   0.877</td>  \n",
       "</tr>\n",
       "<tr>\n",
       "  <th>Method:</th>             <td>Least Squares</td>  <th>  F-statistic:       </th>           <td>8.886e+04</td> \n",
       "</tr>\n",
       "<tr>\n",
       "  <th>Date:</th>             <td>Sat, 01 Jul 2023</td> <th>  Prob (F-statistic):</th>            <td>  0.00</td>   \n",
       "</tr>\n",
       "<tr>\n",
       "  <th>Time:</th>                 <td>15:41:43</td>     <th>  Log-Likelihood:    </th>          <td>-1.2493e+05</td>\n",
       "</tr>\n",
       "<tr>\n",
       "  <th>No. Observations:</th>      <td> 62116</td>      <th>  AIC:               </th>           <td>2.499e+05</td> \n",
       "</tr>\n",
       "<tr>\n",
       "  <th>Df Residuals:</th>          <td> 62111</td>      <th>  BIC:               </th>           <td>2.499e+05</td> \n",
       "</tr>\n",
       "<tr>\n",
       "  <th>Df Model:</th>              <td>     5</td>      <th>                     </th>               <td> </td>     \n",
       "</tr>\n",
       "<tr>\n",
       "  <th>Covariance Type:</th>      <td>nonrobust</td>    <th>                     </th>               <td> </td>     \n",
       "</tr>\n",
       "</table>\n",
       "<table class=\"simpletable\">\n",
       "<tr>\n",
       "   <td></td>     <th>coef</th>     <th>std err</th>      <th>t</th>      <th>P>|t|</th>  <th>[0.025</th>    <th>0.975]</th>  \n",
       "</tr>\n",
       "<tr>\n",
       "  <th>x1</th> <td>    0.2513</td> <td>    0.003</td> <td>   73.003</td> <td> 0.000</td> <td>    0.245</td> <td>    0.258</td>\n",
       "</tr>\n",
       "<tr>\n",
       "  <th>x2</th> <td>    0.3142</td> <td>    0.005</td> <td>   62.476</td> <td> 0.000</td> <td>    0.304</td> <td>    0.324</td>\n",
       "</tr>\n",
       "<tr>\n",
       "  <th>x3</th> <td>    0.2973</td> <td>    0.005</td> <td>   63.277</td> <td> 0.000</td> <td>    0.288</td> <td>    0.306</td>\n",
       "</tr>\n",
       "<tr>\n",
       "  <th>x4</th> <td>    2.2140</td> <td>    0.060</td> <td>   36.935</td> <td> 0.000</td> <td>    2.096</td> <td>    2.331</td>\n",
       "</tr>\n",
       "<tr>\n",
       "  <th>x5</th> <td>   -0.2800</td> <td>    0.049</td> <td>   -5.739</td> <td> 0.000</td> <td>   -0.376</td> <td>   -0.184</td>\n",
       "</tr>\n",
       "</table>\n",
       "<table class=\"simpletable\">\n",
       "<tr>\n",
       "  <th>Omnibus:</th>       <td>2787.599</td> <th>  Durbin-Watson:     </th> <td>   2.009</td>\n",
       "</tr>\n",
       "<tr>\n",
       "  <th>Prob(Omnibus):</th>  <td> 0.000</td>  <th>  Jarque-Bera (JB):  </th> <td>7534.673</td>\n",
       "</tr>\n",
       "<tr>\n",
       "  <th>Skew:</th>           <td>-0.221</td>  <th>  Prob(JB):          </th> <td>    0.00</td>\n",
       "</tr>\n",
       "<tr>\n",
       "  <th>Kurtosis:</th>       <td> 4.648</td>  <th>  Cond. No.          </th> <td>    74.6</td>\n",
       "</tr>\n",
       "</table><br/><br/>Notes:<br/>[1] R² is computed without centering (uncentered) since the model does not contain a constant.<br/>[2] Standard Errors assume that the covariance matrix of the errors is correctly specified."
      ],
      "text/plain": [
       "<class 'statsmodels.iolib.summary.Summary'>\n",
       "\"\"\"\n",
       "                                 OLS Regression Results                                \n",
       "=======================================================================================\n",
       "Dep. Variable:                      y   R-squared (uncentered):                   0.877\n",
       "Model:                            OLS   Adj. R-squared (uncentered):              0.877\n",
       "Method:                 Least Squares   F-statistic:                          8.886e+04\n",
       "Date:                Sat, 01 Jul 2023   Prob (F-statistic):                        0.00\n",
       "Time:                        15:41:43   Log-Likelihood:                     -1.2493e+05\n",
       "No. Observations:               62116   AIC:                                  2.499e+05\n",
       "Df Residuals:                   62111   BIC:                                  2.499e+05\n",
       "Df Model:                           5                                                  \n",
       "Covariance Type:            nonrobust                                                  \n",
       "==============================================================================\n",
       "                 coef    std err          t      P>|t|      [0.025      0.975]\n",
       "------------------------------------------------------------------------------\n",
       "x1             0.2513      0.003     73.003      0.000       0.245       0.258\n",
       "x2             0.3142      0.005     62.476      0.000       0.304       0.324\n",
       "x3             0.2973      0.005     63.277      0.000       0.288       0.306\n",
       "x4             2.2140      0.060     36.935      0.000       2.096       2.331\n",
       "x5            -0.2800      0.049     -5.739      0.000      -0.376      -0.184\n",
       "==============================================================================\n",
       "Omnibus:                     2787.599   Durbin-Watson:                   2.009\n",
       "Prob(Omnibus):                  0.000   Jarque-Bera (JB):             7534.673\n",
       "Skew:                          -0.221   Prob(JB):                         0.00\n",
       "Kurtosis:                       4.648   Cond. No.                         74.6\n",
       "==============================================================================\n",
       "\n",
       "Notes:\n",
       "[1] R² is computed without centering (uncentered) since the model does not contain a constant.\n",
       "[2] Standard Errors assume that the covariance matrix of the errors is correctly specified.\n",
       "\"\"\""
      ]
     },
     "execution_count": 38,
     "metadata": {},
     "output_type": "execute_result"
    }
   ],
   "source": [
    "X = train_3.drop('TOTAL_TURNOVER', axis=1).to_numpy() \n",
    "y = train_3['TOTAL_TURNOVER'].to_numpy().reshape(-1,1) \n",
    "\n",
    "X_log = np.log(X+1)\n",
    "y_log = np.log(y+1)\n",
    "#X = sm.add_constant(X)\n",
    "\n",
    "model = sm.OLS(y_log, X_log) \n",
    "results = model.fit()\n",
    "\n",
    "results.summary()"
   ]
  },
  {
   "cell_type": "code",
   "execution_count": 39,
   "id": "d833a0c4-bbb8-4822-a093-e5ad19bb951d",
   "metadata": {},
   "outputs": [],
   "source": [
    "y_pred_log = results.predict(X_log)"
   ]
  },
  {
   "cell_type": "code",
   "execution_count": 40,
   "id": "ea25fb0d-344c-4a39-9722-e30604ecb0d5",
   "metadata": {},
   "outputs": [
    {
     "data": {
      "text/plain": [
       "array([20018.92914043,   251.78573016,     4.44720574, ...,\n",
       "           2.28078134,  2405.66018863,  1809.86344686])"
      ]
     },
     "execution_count": 40,
     "metadata": {},
     "output_type": "execute_result"
    }
   ],
   "source": [
    "y_pred = np.exp(y_pred_log)-1\n",
    "y_pred"
   ]
  },
  {
   "cell_type": "code",
   "execution_count": 41,
   "id": "ef6915c9-9e3c-46ed-8007-1de4b302517d",
   "metadata": {},
   "outputs": [
    {
     "data": {
      "text/plain": [
       "array([20018.92914043,   251.78573016,     4.44720574,   430.86344505,\n",
       "          12.76011779,   206.8399784 ,  4860.85700167,   458.39425613,\n",
       "           3.78393145,   900.87605156])"
      ]
     },
     "execution_count": 41,
     "metadata": {},
     "output_type": "execute_result"
    }
   ],
   "source": [
    "y_pred[:10]"
   ]
  },
  {
   "cell_type": "code",
   "execution_count": 42,
   "id": "21602b02-a828-4c64-85c9-9591cbac9ab8",
   "metadata": {},
   "outputs": [
    {
     "data": {
      "text/plain": [
       "array([18536.14,   602.  ,    17.  ,   262.5 ,     0.  ,   854.  ,\n",
       "       11525.5 ,   944.5 ,     9.  ,  1019.16])"
      ]
     },
     "execution_count": 42,
     "metadata": {},
     "output_type": "execute_result"
    }
   ],
   "source": [
    "y.flatten()[:10]"
   ]
  },
  {
   "cell_type": "code",
   "execution_count": 43,
   "id": "75aee3fd-ab30-477c-8b6d-7ccf58e4ec00",
   "metadata": {},
   "outputs": [
    {
     "data": {
      "text/plain": [
       "9766808.986810058"
      ]
     },
     "execution_count": 43,
     "metadata": {},
     "output_type": "execute_result"
    }
   ],
   "source": [
    "sum((y.flatten() - y_pred)**2)/62116"
   ]
  },
  {
   "cell_type": "code",
   "execution_count": 44,
   "id": "1944fc9d-6f4b-4724-9751-b286a78ceaaf",
   "metadata": {},
   "outputs": [
    {
     "data": {
      "text/plain": [
       "3125.189432148083"
      ]
     },
     "execution_count": 44,
     "metadata": {},
     "output_type": "execute_result"
    }
   ],
   "source": [
    "(sum((y.flatten() - y_pred)**2)/62116)**0.5"
   ]
  },
  {
   "cell_type": "code",
   "execution_count": 45,
   "id": "9454646b-0752-42a6-a0be-0121dc9638c8",
   "metadata": {},
   "outputs": [
    {
     "data": {
      "text/plain": [
       "array([-1482.78914043,   350.21426984,    12.55279426, ...,\n",
       "          17.71921866,  9122.33981137,   772.13655314])"
      ]
     },
     "execution_count": 45,
     "metadata": {},
     "output_type": "execute_result"
    }
   ],
   "source": [
    "e = y.flatten() - y_pred\n",
    "e"
   ]
  },
  {
   "cell_type": "code",
   "execution_count": 46,
   "id": "185dd637-6dea-4fb7-ab87-07b75efb1027",
   "metadata": {
    "tags": []
   },
   "outputs": [
    {
     "data": {
      "text/plain": [
       "<matplotlib.collections.PathCollection at 0x277cb2df190>"
      ]
     },
     "execution_count": 46,
     "metadata": {},
     "output_type": "execute_result"
    },
    {
     "data": {
      "image/png": "[encoded data removed]",
      "text/plain": [
       "<Figure size 640x480 with 1 Axes>"
      ]
     },
     "metadata": {},
     "output_type": "display_data"
    }
   ],
   "source": [
    "plt.scatter(train_3['TOTAL_TURNOVER'], e)\n"
   ]
  },
  {
   "cell_type": "markdown",
   "id": "3357d3c6-3ca9-4e26-b204-180cff1c8f37",
   "metadata": {},
   "source": [
    "# Regression tree"
   ]
  },
  {
   "cell_type": "code",
   "execution_count": 47,
   "id": "a29e92a6-77a2-4612-a81f-f4f7e6474e08",
   "metadata": {},
   "outputs": [],
   "source": [
    "X = train.drop(['TOTAL_TURNOVER', 'RACING_RATIO_1', 'RACING_RATIO_4', 'WIN_LOSS_RATIO_1', 'WIN_LOSS_RATIO_4'], axis=1)\n",
    "y = train['TOTAL_TURNOVER']"
   ]
  },
  {
   "cell_type": "code",
   "execution_count": 48,
   "id": "69f80ad3-c23e-467f-a148-0e31ce82dbe1",
   "metadata": {},
   "outputs": [],
   "source": [
    "X_train, X_test, y_train, y_test = train_test_split(X, y, random_state=42)"
   ]
  },
  {
   "cell_type": "code",
   "execution_count": 49,
   "id": "ad5aa534-3bf4-4f28-9cc2-3e08f0754cea",
   "metadata": {},
   "outputs": [
    {
     "name": "stdout",
     "output_type": "stream",
     "text": [
      "3 :  10631608.60124421\n",
      "4 :  10860627.062908558\n",
      "5 :  14062156.722862473\n",
      "6 :  18912941.658019908\n",
      "7 :  17447945.7073563\n",
      "8 :  20436481.174651567\n",
      "9 :  18756633.08189339\n",
      "10 :  17361368.648837235\n",
      "11 :  20264589.809134264\n",
      "12 :  20422819.46913335\n",
      "13 :  19623965.495065518\n",
      "14 :  21973619.828649033\n",
      "15 :  21421143.87504744\n",
      "16 :  23192403.738665737\n",
      "17 :  21609505.412593383\n",
      "18 :  23029959.0566522\n",
      "19 :  22043609.750684425\n",
      "20 :  22835968.27820897\n",
      "21 :  23159233.03858813\n",
      "22 :  21500987.659631122\n",
      "23 :  22072591.759136826\n",
      "24 :  21896874.01448072\n",
      "25 :  19468827.25654443\n"
     ]
    }
   ],
   "source": [
    "for i in range(3,26,1):\n",
    "    tree_clf = DecisionTreeRegressor(max_depth=i\n",
    "#                                     ,min_weight_fraction_leaf=0.05\n",
    "                                    )\n",
    "    tree_clf.fit(X_train,y_train)\n",
    "    \n",
    "    y_pred = tree_clf.predict(X_test)\n",
    "    e = y_test - y_pred\n",
    "    mse = sum(e**2)/15529\n",
    "    \n",
    "    print(str(i) + \" : \", mse)"
   ]
  },
  {
   "cell_type": "code",
   "execution_count": 50,
   "id": "1f2fab2a-9739-4cec-9e41-79f46e9f6735",
   "metadata": {},
   "outputs": [
    {
     "name": "stdout",
     "output_type": "stream",
     "text": [
      "3 :  -14380714.436714029\n",
      "4 :  -14357021.951691251\n",
      "5 :  -14350121.113211695\n",
      "6 :  -14349056.092577005\n",
      "7 :  -14348861.407989627\n",
      "8 :  -14348826.799000368\n",
      "9 :  -14348826.398971368\n",
      "10 :  -14348826.7417658\n",
      "11 :  -14348826.741765797\n",
      "12 :  -14348826.7417658\n",
      "13 :  -14348826.7417658\n",
      "14 :  -14348826.7417658\n",
      "15 :  -14348826.7417658\n",
      "16 :  -14348826.741765797\n",
      "17 :  -14348826.7417658\n",
      "18 :  -14348826.7417658\n",
      "19 :  -14348826.7417658\n",
      "20 :  -14348826.7417658\n",
      "21 :  -14348826.7417658\n",
      "22 :  -14348826.7417658\n",
      "23 :  -14348826.7417658\n",
      "24 :  -14348826.7417658\n",
      "25 :  -14348826.741765797\n"
     ]
    }
   ],
   "source": [
    "for i in range(3,26):\n",
    "    tree_clf = DecisionTreeRegressor(max_depth=i, min_weight_fraction_leaf=0.05)\n",
    "    \n",
    "    kfold = KFold(n_splits=10, shuffle=True, random_state=42)\n",
    "    \n",
    "    scores = cross_val_score(tree_clf, X, y, cv=kfold, scoring = 'neg_mean_squared_error')\n",
    "    \n",
    "    print(str(i) + \" : \", scores.mean())"
   ]
  },
  {
   "cell_type": "code",
   "execution_count": null,
   "id": "9ace9db5-e70b-4310-854d-a502740e591d",
   "metadata": {},
   "outputs": [],
   "source": []
  },
  {
   "cell_type": "code",
   "execution_count": null,
   "id": "45345aee-5c07-48ff-b310-0e2a811f217e",
   "metadata": {},
   "outputs": [],
   "source": []
  },
  {
   "cell_type": "code",
   "execution_count": null,
   "id": "26a5ff62-b0f7-4f64-aad2-05b5e036aec1",
   "metadata": {},
   "outputs": [],
   "source": []
  },
  {
   "cell_type": "code",
   "execution_count": null,
   "id": "9f9df4af-8e8b-439d-9a28-d3ebd5e132dc",
   "metadata": {},
   "outputs": [],
   "source": []
  },
  {
   "cell_type": "code",
   "execution_count": null,
   "id": "ec5293ee-ac78-4ca5-9066-cc2821446879",
   "metadata": {},
   "outputs": [],
   "source": []
  },
  {
   "cell_type": "code",
   "execution_count": null,
   "id": "e0b553fc-599e-4871-8769-d15e167a16f4",
   "metadata": {},
   "outputs": [],
   "source": []
  },
  {
   "cell_type": "code",
   "execution_count": null,
   "id": "e5660cdc-2b5e-4ce5-9385-d932f22639ca",
   "metadata": {},
   "outputs": [],
   "source": []
  },
  {
   "cell_type": "code",
   "execution_count": null,
   "id": "6dfd21d9-7208-4f3d-a179-32a75b605ad2",
   "metadata": {},
   "outputs": [],
   "source": []
  },
  {
   "cell_type": "code",
   "execution_count": null,
   "id": "8fe9ff5e-7735-4bc5-8faa-eb6110b5a865",
   "metadata": {},
   "outputs": [],
   "source": []
  }
 ],
 "metadata": {
  "kernelspec": {
   "display_name": "Python 3 (ipykernel)",
   "language": "python",
   "name": "python3"
  },
  "language_info": {
   "codemirror_mode": {
    "name": "ipython",
    "version": 3
   },
   "file_extension": ".py",
   "mimetype": "text/x-python",
   "name": "python",
   "nbconvert_exporter": "python",
   "pygments_lexer": "ipython3",
   "version": "3.10.9"
  }
 },
 "nbformat": 4,
 "nbformat_minor": 5
}
