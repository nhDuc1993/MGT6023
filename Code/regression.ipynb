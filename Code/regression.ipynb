{
 "cells": [
  {
   "cell_type": "code",
   "execution_count": 263,
   "id": "4868621b-3075-456a-bf50-5eb0365b442d",
   "metadata": {},
   "outputs": [],
   "source": [
    "import pandas as pd\n",
    "import numpy as np\n",
    "import os \n",
    "import matplotlib.pyplot as plt\n",
    "\n",
    "from sklearn.linear_model import LinearRegression\n",
    "from sklearn.model_selection import train_test_split\n",
    "from sklearn.metrics import r2_score, mean_squared_error"
   ]
  },
  {
   "cell_type": "markdown",
   "id": "e482185a-6517-44e3-95f9-119ed5f91e09",
   "metadata": {},
   "source": [
    "# Download file"
   ]
  },
  {
   "cell_type": "code",
   "execution_count": 2,
   "id": "a6972c01-45ed-4005-95d7-ad3e257dd886",
   "metadata": {},
   "outputs": [],
   "source": [
    "file_id = \"1atOZX3YXmxx-_QebbTfndeC6U_DPTL2e\" # ID of the file on Google Drive\n",
    "file_name = 'Updated_data_2021&2022.csv'\n",
    "\n",
    "%run download.ipynb"
   ]
  },
  {
   "cell_type": "markdown",
   "id": "bd9d1a29-daad-42b7-883e-568fd28bd5b7",
   "metadata": {},
   "source": [
    "# Import data"
   ]
  },
  {
   "cell_type": "code",
   "execution_count": 3,
   "id": "95450574-9006-4ee7-ae21-e998c3b67aea",
   "metadata": {},
   "outputs": [
    {
     "data": {
      "text/html": [
       "<div>\n",
       "<style scoped>\n",
       "    .dataframe tbody tr th:only-of-type {\n",
       "        vertical-align: middle;\n",
       "    }\n",
       "\n",
       "    .dataframe tbody tr th {\n",
       "        vertical-align: top;\n",
       "    }\n",
       "\n",
       "    .dataframe thead th {\n",
       "        text-align: right;\n",
       "    }\n",
       "</style>\n",
       "<table border=\"1\" class=\"dataframe\">\n",
       "  <thead>\n",
       "    <tr style=\"text-align: right;\">\n",
       "      <th></th>\n",
       "      <th>DATE_DIM</th>\n",
       "      <th>DAY_OF_WEEK</th>\n",
       "      <th>BET_ACCOUNT_NUM_HASH</th>\n",
       "      <th>AGE</th>\n",
       "      <th>AGE_BAND</th>\n",
       "      <th>GENDER</th>\n",
       "      <th>TENURE_IN_DAYS</th>\n",
       "      <th>RESIDENTIAL_STATE</th>\n",
       "      <th>FOB_RACING_TURNOVER</th>\n",
       "      <th>FOB_SPORT_TURNOVER</th>\n",
       "      <th>PARI_RACING_TURNOVER</th>\n",
       "      <th>PARI_SPORT_TURNOVER</th>\n",
       "      <th>TOTAL_TURNOVER</th>\n",
       "      <th>DIVIDENDS_PAID</th>\n",
       "      <th>GROSS_MARGIN</th>\n",
       "      <th>TICKETS</th>\n",
       "    </tr>\n",
       "  </thead>\n",
       "  <tbody>\n",
       "    <tr>\n",
       "      <th>0</th>\n",
       "      <td>2021-01-01</td>\n",
       "      <td>Fri</td>\n",
       "      <td>13154</td>\n",
       "      <td>67.0</td>\n",
       "      <td>65+</td>\n",
       "      <td>M</td>\n",
       "      <td>11846</td>\n",
       "      <td>WA</td>\n",
       "      <td>37.0</td>\n",
       "      <td>NaN</td>\n",
       "      <td>1081.0</td>\n",
       "      <td>NaN</td>\n",
       "      <td>1118.0</td>\n",
       "      <td>443.55</td>\n",
       "      <td>271.254275</td>\n",
       "      <td>288</td>\n",
       "    </tr>\n",
       "    <tr>\n",
       "      <th>1</th>\n",
       "      <td>2021-01-01</td>\n",
       "      <td>Fri</td>\n",
       "      <td>18379</td>\n",
       "      <td>54.0</td>\n",
       "      <td>45-54</td>\n",
       "      <td>M</td>\n",
       "      <td>1884</td>\n",
       "      <td>WA</td>\n",
       "      <td>40.0</td>\n",
       "      <td>NaN</td>\n",
       "      <td>NaN</td>\n",
       "      <td>NaN</td>\n",
       "      <td>40.0</td>\n",
       "      <td>0.00</td>\n",
       "      <td>40.000000</td>\n",
       "      <td>1</td>\n",
       "    </tr>\n",
       "    <tr>\n",
       "      <th>2</th>\n",
       "      <td>2021-01-01</td>\n",
       "      <td>Fri</td>\n",
       "      <td>559232</td>\n",
       "      <td>63.0</td>\n",
       "      <td>55-64</td>\n",
       "      <td>M</td>\n",
       "      <td>2866</td>\n",
       "      <td>WA</td>\n",
       "      <td>NaN</td>\n",
       "      <td>NaN</td>\n",
       "      <td>12.0</td>\n",
       "      <td>NaN</td>\n",
       "      <td>12.0</td>\n",
       "      <td>9.50</td>\n",
       "      <td>2.041720</td>\n",
       "      <td>5</td>\n",
       "    </tr>\n",
       "    <tr>\n",
       "      <th>3</th>\n",
       "      <td>2021-01-01</td>\n",
       "      <td>Fri</td>\n",
       "      <td>698904</td>\n",
       "      <td>69.0</td>\n",
       "      <td>65+</td>\n",
       "      <td>M</td>\n",
       "      <td>2100</td>\n",
       "      <td>WA</td>\n",
       "      <td>NaN</td>\n",
       "      <td>NaN</td>\n",
       "      <td>1223.5</td>\n",
       "      <td>NaN</td>\n",
       "      <td>1223.5</td>\n",
       "      <td>267.91</td>\n",
       "      <td>245.117147</td>\n",
       "      <td>40</td>\n",
       "    </tr>\n",
       "    <tr>\n",
       "      <th>4</th>\n",
       "      <td>2021-01-01</td>\n",
       "      <td>Fri</td>\n",
       "      <td>762921</td>\n",
       "      <td>67.0</td>\n",
       "      <td>65+</td>\n",
       "      <td>M</td>\n",
       "      <td>4766</td>\n",
       "      <td>WA</td>\n",
       "      <td>NaN</td>\n",
       "      <td>NaN</td>\n",
       "      <td>17.5</td>\n",
       "      <td>NaN</td>\n",
       "      <td>17.5</td>\n",
       "      <td>0.00</td>\n",
       "      <td>3.504075</td>\n",
       "      <td>5</td>\n",
       "    </tr>\n",
       "  </tbody>\n",
       "</table>\n",
       "</div>"
      ],
      "text/plain": [
       "     DATE_DIM DAY_OF_WEEK  BET_ACCOUNT_NUM_HASH   AGE AGE_BAND GENDER  \\\n",
       "0  2021-01-01         Fri                 13154  67.0      65+      M   \n",
       "1  2021-01-01         Fri                 18379  54.0    45-54      M   \n",
       "2  2021-01-01         Fri                559232  63.0    55-64      M   \n",
       "3  2021-01-01         Fri                698904  69.0      65+      M   \n",
       "4  2021-01-01         Fri                762921  67.0      65+      M   \n",
       "\n",
       "   TENURE_IN_DAYS RESIDENTIAL_STATE  FOB_RACING_TURNOVER  FOB_SPORT_TURNOVER  \\\n",
       "0           11846                WA                 37.0                 NaN   \n",
       "1            1884                WA                 40.0                 NaN   \n",
       "2            2866                WA                  NaN                 NaN   \n",
       "3            2100                WA                  NaN                 NaN   \n",
       "4            4766                WA                  NaN                 NaN   \n",
       "\n",
       "   PARI_RACING_TURNOVER  PARI_SPORT_TURNOVER  TOTAL_TURNOVER  DIVIDENDS_PAID  \\\n",
       "0                1081.0                  NaN          1118.0          443.55   \n",
       "1                   NaN                  NaN            40.0            0.00   \n",
       "2                  12.0                  NaN            12.0            9.50   \n",
       "3                1223.5                  NaN          1223.5          267.91   \n",
       "4                  17.5                  NaN            17.5            0.00   \n",
       "\n",
       "   GROSS_MARGIN  TICKETS  \n",
       "0    271.254275      288  \n",
       "1     40.000000        1  \n",
       "2      2.041720        5  \n",
       "3    245.117147       40  \n",
       "4      3.504075        5  "
      ]
     },
     "execution_count": 3,
     "metadata": {},
     "output_type": "execute_result"
    }
   ],
   "source": [
    "# File path\n",
    "current_dir = os.getcwd()\n",
    "parent_dir = os.path.dirname(current_dir)\n",
    "file_path = os.path.join(parent_dir, 'Data',file_name)\n",
    "\n",
    "df = pd.read_csv(file_path)\n",
    "df.head()"
   ]
  },
  {
   "cell_type": "code",
   "execution_count": 4,
   "id": "3b9ee76c-28c9-4595-9a6f-a3fd8cc3525d",
   "metadata": {},
   "outputs": [],
   "source": [
    "# DATE_DIM: datetime\n",
    "df['DATE_DIM'] = pd.to_datetime(df['DATE_DIM'], format='%Y-%m-%d')\n",
    "\n",
    "# BET_ACCOUNT_NUM_HASH: string\n",
    "df['BET_ACCOUNT_NUM_HASH'] = df['BET_ACCOUNT_NUM_HASH'].astype('O')\n",
    "\n",
    "# Fillna\n",
    "df['AGE'].fillna(44, inplace=True)\n",
    "\n",
    "# drop\n",
    "df.drop(['DAY_OF_WEEK', 'AGE'], axis=1, inplace=True)\n",
    "\n",
    "# More than zero\n",
    "df = df[df['TOTAL_TURNOVER'] > 0]"
   ]
  },
  {
   "cell_type": "code",
   "execution_count": 50,
   "id": "ba8832e2-984d-4e58-8b4d-ea918bc8168f",
   "metadata": {},
   "outputs": [],
   "source": [
    "df['YEAR_WEEK'] = df['DATE_DIM'].dt.year * 100 + df['DATE_DIM'].dt.week\n",
    "\n",
    "df['RACING_TURNOVER'] = df[['FOB_RACING_TURNOVER', 'PARI_RACING_TURNOVER']].sum(axis=1)\n",
    "\n",
    "df['WIN_LOSS'] = (df['DIVIDENDS_PAID'] >= df['TOTAL_TURNOVER']).astype('int32')"
   ]
  },
  {
   "cell_type": "code",
   "execution_count": 232,
   "id": "91ee8a35-9a3f-4f72-a07b-7bb2a1e5fb9a",
   "metadata": {},
   "outputs": [],
   "source": [
    "def weekly_aggregate(df, year_week, n_weeks = 4):\n",
    "    pred = df[ (df['YEAR_WEEK'] > year_week ) & (df['YEAR_WEEK'] <= year_week + 4 ) ].groupby('BET_ACCOUNT_NUM_HASH').TOTAL_TURNOVER.sum()\n",
    "    \n",
    "    train = df[(df['YEAR_WEEK'] > year_week-4 ) & (df['YEAR_WEEK'] <= year_week)].groupby('BET_ACCOUNT_NUM_HASH').agg({\n",
    "        'BET_ACCOUNT_NUM_HASH': np.size,\n",
    "        'AGE_BAND' : max,\n",
    "        'GENDER' : max,\n",
    "        'TENURE_IN_DAYS' : max,\n",
    "        'RACING_TURNOVER' : sum,\n",
    "        'TOTAL_TURNOVER' : sum,\n",
    "        'TICKETS' : sum,\n",
    "        'WIN_LOSS' : sum\n",
    "    })\n",
    "    \n",
    "    train = train[train['TENURE_IN_DAYS'] >= n_weeks * 4]\n",
    "                                                 \n",
    "    train = pd.merge(train, pred, left_index=True, right_index=True, how='left')\n",
    "\n",
    "    train.columns = ['FREQ', 'AGE_BAND', 'GENDER', 'TENURE_IN_DAYS', 'RACING_TURNOVER', 'TOTAL_TURNOVER_' + str(n_weeks*7), 'TICKETS', 'WIN_LOSS', 'TOTAL_TURNOVER']\n",
    "                                                   \n",
    "    train['WIN_LOSS_RATIO'] = train['WIN_LOSS'] / (train['FREQ']) \n",
    "    train['FREQ'] = train['FREQ'] / n_weeks * 4\n",
    "    train['RACING_RATIO'] = train['RACING_TURNOVER'] / train['TOTAL_TURNOVER_' + str(n_weeks*7)]\n",
    "    train['TOTAL_TURNOVER'].fillna(0,inplace=True)\n",
    "                                                 \n",
    "    return train"
   ]
  },
  {
   "cell_type": "code",
   "execution_count": null,
   "id": "fcc08747-edf7-4f75-849f-7cf5158d5f78",
   "metadata": {},
   "outputs": [],
   "source": []
  },
  {
   "cell_type": "code",
   "execution_count": null,
   "id": "68f7e661-85e4-4718-983f-8c974e5b4745",
   "metadata": {},
   "outputs": [],
   "source": []
  },
  {
   "cell_type": "code",
   "execution_count": 233,
   "id": "23788f27-92c3-4e31-a499-04d8e1987e31",
   "metadata": {},
   "outputs": [],
   "source": [
    "train = weekly_aggregate(df, year_week= 202111, n_weeks = 4)"
   ]
  },
  {
   "cell_type": "code",
   "execution_count": 235,
   "id": "3ea5bcab-3897-4b94-bcec-ff685b4df349",
   "metadata": {},
   "outputs": [
    {
     "data": {
      "text/html": [
       "<table class=\"simpletable\">\n",
       "<caption>OLS Regression Results</caption>\n",
       "<tr>\n",
       "  <th>Dep. Variable:</th>            <td>y</td>        <th>  R-squared:         </th>  <td>   0.518</td>  \n",
       "</tr>\n",
       "<tr>\n",
       "  <th>Model:</th>                   <td>OLS</td>       <th>  Adj. R-squared:    </th>  <td>   0.518</td>  \n",
       "</tr>\n",
       "<tr>\n",
       "  <th>Method:</th>             <td>Least Squares</td>  <th>  F-statistic:       </th>  <td>1.856e+04</td> \n",
       "</tr>\n",
       "<tr>\n",
       "  <th>Date:</th>             <td>Thu, 22 Jun 2023</td> <th>  Prob (F-statistic):</th>   <td>  0.00</td>   \n",
       "</tr>\n",
       "<tr>\n",
       "  <th>Time:</th>                 <td>17:10:46</td>     <th>  Log-Likelihood:    </th> <td>-4.9717e+05</td>\n",
       "</tr>\n",
       "<tr>\n",
       "  <th>No. Observations:</th>      <td> 51802</td>      <th>  AIC:               </th>  <td>9.943e+05</td> \n",
       "</tr>\n",
       "<tr>\n",
       "  <th>Df Residuals:</th>          <td> 51798</td>      <th>  BIC:               </th>  <td>9.944e+05</td> \n",
       "</tr>\n",
       "<tr>\n",
       "  <th>Df Model:</th>              <td>     3</td>      <th>                     </th>      <td> </td>     \n",
       "</tr>\n",
       "<tr>\n",
       "  <th>Covariance Type:</th>      <td>nonrobust</td>    <th>                     </th>      <td> </td>     \n",
       "</tr>\n",
       "</table>\n",
       "<table class=\"simpletable\">\n",
       "<tr>\n",
       "    <td></td>       <th>coef</th>     <th>std err</th>      <th>t</th>      <th>P>|t|</th>  <th>[0.025</th>    <th>0.975]</th>  \n",
       "</tr>\n",
       "<tr>\n",
       "  <th>const</th> <td>  108.4465</td> <td>   24.321</td> <td>    4.459</td> <td> 0.000</td> <td>   60.778</td> <td>  156.115</td>\n",
       "</tr>\n",
       "<tr>\n",
       "  <th>x1</th>    <td>   36.3427</td> <td>    2.305</td> <td>   15.765</td> <td> 0.000</td> <td>   31.824</td> <td>   40.861</td>\n",
       "</tr>\n",
       "<tr>\n",
       "  <th>x2</th>    <td>    0.6623</td> <td>    0.003</td> <td>  213.847</td> <td> 0.000</td> <td>    0.656</td> <td>    0.668</td>\n",
       "</tr>\n",
       "<tr>\n",
       "  <th>x3</th>    <td>    0.1482</td> <td>    0.030</td> <td>    4.933</td> <td> 0.000</td> <td>    0.089</td> <td>    0.207</td>\n",
       "</tr>\n",
       "</table>\n",
       "<table class=\"simpletable\">\n",
       "<tr>\n",
       "  <th>Omnibus:</th>       <td>87544.417</td> <th>  Durbin-Watson:     </th>    <td>   1.991</td>   \n",
       "</tr>\n",
       "<tr>\n",
       "  <th>Prob(Omnibus):</th>  <td> 0.000</td>   <th>  Jarque-Bera (JB):  </th> <td>2539189589.886</td>\n",
       "</tr>\n",
       "<tr>\n",
       "  <th>Skew:</th>           <td>10.272</td>   <th>  Prob(JB):          </th>    <td>    0.00</td>   \n",
       "</tr>\n",
       "<tr>\n",
       "  <th>Kurtosis:</th>      <td>1087.431</td>  <th>  Cond. No.          </th>    <td>8.75e+03</td>   \n",
       "</tr>\n",
       "</table><br/><br/>Notes:<br/>[1] Standard Errors assume that the covariance matrix of the errors is correctly specified.<br/>[2] The condition number is large, 8.75e+03. This might indicate that there are<br/>strong multicollinearity or other numerical problems."
      ],
      "text/plain": [
       "<class 'statsmodels.iolib.summary.Summary'>\n",
       "\"\"\"\n",
       "                            OLS Regression Results                            \n",
       "==============================================================================\n",
       "Dep. Variable:                      y   R-squared:                       0.518\n",
       "Model:                            OLS   Adj. R-squared:                  0.518\n",
       "Method:                 Least Squares   F-statistic:                 1.856e+04\n",
       "Date:                Thu, 22 Jun 2023   Prob (F-statistic):               0.00\n",
       "Time:                        17:10:46   Log-Likelihood:            -4.9717e+05\n",
       "No. Observations:               51802   AIC:                         9.943e+05\n",
       "Df Residuals:                   51798   BIC:                         9.944e+05\n",
       "Df Model:                           3                                         \n",
       "Covariance Type:            nonrobust                                         \n",
       "==============================================================================\n",
       "                 coef    std err          t      P>|t|      [0.025      0.975]\n",
       "------------------------------------------------------------------------------\n",
       "const        108.4465     24.321      4.459      0.000      60.778     156.115\n",
       "x1            36.3427      2.305     15.765      0.000      31.824      40.861\n",
       "x2             0.6623      0.003    213.847      0.000       0.656       0.668\n",
       "x3             0.1482      0.030      4.933      0.000       0.089       0.207\n",
       "==============================================================================\n",
       "Omnibus:                    87544.417   Durbin-Watson:                   1.991\n",
       "Prob(Omnibus):                  0.000   Jarque-Bera (JB):       2539189589.886\n",
       "Skew:                          10.272   Prob(JB):                         0.00\n",
       "Kurtosis:                    1087.431   Cond. No.                     8.75e+03\n",
       "==============================================================================\n",
       "\n",
       "Notes:\n",
       "[1] Standard Errors assume that the covariance matrix of the errors is correctly specified.\n",
       "[2] The condition number is large, 8.75e+03. This might indicate that there are\n",
       "strong multicollinearity or other numerical problems.\n",
       "\"\"\""
      ]
     },
     "execution_count": 235,
     "metadata": {},
     "output_type": "execute_result"
    }
   ],
   "source": [
    "import statsmodels.api as sm\n",
    "from statsmodels.tools.eval_measures import mse\n",
    "\n",
    "lst = ['AGE_BAND', 'GENDER', 'TENURE_IN_DAYS', 'RACING_TURNOVER', 'WIN_LOSS','WIN_LOSS_RATIO', 'RACING_RATIO', 'TOTAL_TURNOVER']\n",
    "\n",
    "X = train.drop(lst, axis=1).to_numpy()\n",
    "y = train['TOTAL_TURNOVER'].to_numpy().reshape(-1,1)\n",
    "\n",
    "X = sm.add_constant(X)\n",
    "\n",
    "model = sm.OLS(y, X) \n",
    "results = model.fit()\n",
    "\n",
    "results.summary()"
   ]
  },
  {
   "cell_type": "code",
   "execution_count": 236,
   "id": "43df745d-fa91-4206-a90e-1a32f7973d9c",
   "metadata": {},
   "outputs": [
    {
     "data": {
      "text/plain": [
       "[<matplotlib.lines.Line2D at 0x20878e81180>]"
      ]
     },
     "execution_count": 236,
     "metadata": {},
     "output_type": "execute_result"
    },
    {
     "data": {
      "image/png": "[encoded data removed]",
      "text/plain": [
       "<Figure size 1600x400 with 1 Axes>"
      ]
     },
     "metadata": {},
     "output_type": "display_data"
    }
   ],
   "source": [
    "y_pred = results.predict(X)\n",
    "\n",
    "e = y.flatten()  - y_pred\n",
    "\n",
    "e.sort()\n",
    "\n",
    "plt.figure(figsize=(16,4))\n",
    "plt.plot(e )"
   ]
  },
  {
   "cell_type": "code",
   "execution_count": 239,
   "id": "7662111f-2650-464e-accb-e5f56e754877",
   "metadata": {},
   "outputs": [
    {
     "name": "stderr",
     "output_type": "stream",
     "text": [
      "C:\\Users\\duc.nguyen\\AppData\\Local\\Temp\\ipykernel_16900\\848211138.py:3: RuntimeWarning: divide by zero encountered in divide\n",
      "  e_per = abs(e)/y.flatten()\n"
     ]
    },
    {
     "data": {
      "text/plain": [
       "(0.0, 100.0)"
      ]
     },
     "execution_count": 239,
     "metadata": {},
     "output_type": "execute_result"
    },
    {
     "data": {
      "image/png": "[encoded data removed]",
      "text/plain": [
       "<Figure size 1600x400 with 1 Axes>"
      ]
     },
     "metadata": {},
     "output_type": "display_data"
    }
   ],
   "source": [
    "y_pred = results.predict(X)\n",
    "e = y.flatten()  - y_pred\n",
    "e_per = abs(e)/y.flatten()\n",
    "e_per.sort()\n",
    "\n",
    "plt.figure(figsize=(16,4))\n",
    "plt.plot(e_per )\n",
    "plt.ylim(0,100)"
   ]
  },
  {
   "cell_type": "code",
   "execution_count": 240,
   "id": "c00e4e7f-8313-48d8-8d9f-d48d99a18ca4",
   "metadata": {},
   "outputs": [],
   "source": [
    "e = y.flatten()  - y_pred"
   ]
  },
  {
   "cell_type": "code",
   "execution_count": 241,
   "id": "0a2bf2b6-7c57-4cf6-84d6-1c92af291651",
   "metadata": {},
   "outputs": [
    {
     "data": {
      "text/plain": [
       "array([14611.47529138,  -279.14542463,  2198.45779231, ...,\n",
       "        -161.95891451,  2209.53033392, -1325.8404888 ])"
      ]
     },
     "execution_count": 241,
     "metadata": {},
     "output_type": "execute_result"
    }
   ],
   "source": [
    "e"
   ]
  },
  {
   "cell_type": "code",
   "execution_count": 242,
   "id": "abe3c015-6a1d-4ae3-88f7-107819a6eece",
   "metadata": {},
   "outputs": [
    {
     "data": {
      "text/html": [
       "<div>\n",
       "<style scoped>\n",
       "    .dataframe tbody tr th:only-of-type {\n",
       "        vertical-align: middle;\n",
       "    }\n",
       "\n",
       "    .dataframe tbody tr th {\n",
       "        vertical-align: top;\n",
       "    }\n",
       "\n",
       "    .dataframe thead th {\n",
       "        text-align: right;\n",
       "    }\n",
       "</style>\n",
       "<table border=\"1\" class=\"dataframe\">\n",
       "  <thead>\n",
       "    <tr style=\"text-align: right;\">\n",
       "      <th></th>\n",
       "      <th>FREQ</th>\n",
       "      <th>AGE_BAND</th>\n",
       "      <th>GENDER</th>\n",
       "      <th>TENURE_IN_DAYS</th>\n",
       "      <th>RACING_TURNOVER</th>\n",
       "      <th>TOTAL_TURNOVER_28</th>\n",
       "      <th>TICKETS</th>\n",
       "      <th>WIN_LOSS</th>\n",
       "      <th>TOTAL_TURNOVER</th>\n",
       "      <th>WIN_LOSS_RATIO</th>\n",
       "      <th>RACING_RATIO</th>\n",
       "    </tr>\n",
       "    <tr>\n",
       "      <th>BET_ACCOUNT_NUM_HASH</th>\n",
       "      <th></th>\n",
       "      <th></th>\n",
       "      <th></th>\n",
       "      <th></th>\n",
       "      <th></th>\n",
       "      <th></th>\n",
       "      <th></th>\n",
       "      <th></th>\n",
       "      <th></th>\n",
       "      <th></th>\n",
       "      <th></th>\n",
       "    </tr>\n",
       "  </thead>\n",
       "  <tbody>\n",
       "    <tr>\n",
       "      <th>326600861</th>\n",
       "      <td>21.0</td>\n",
       "      <td>45-54</td>\n",
       "      <td>M</td>\n",
       "      <td>2533</td>\n",
       "      <td>0.00</td>\n",
       "      <td>69820.00</td>\n",
       "      <td>81</td>\n",
       "      <td>7</td>\n",
       "      <td>163695.0</td>\n",
       "      <td>0.333333</td>\n",
       "      <td>0.000000</td>\n",
       "    </tr>\n",
       "    <tr>\n",
       "      <th>442011293</th>\n",
       "      <td>16.0</td>\n",
       "      <td>25-34</td>\n",
       "      <td>M</td>\n",
       "      <td>2129</td>\n",
       "      <td>0.00</td>\n",
       "      <td>44331.00</td>\n",
       "      <td>24</td>\n",
       "      <td>3</td>\n",
       "      <td>222150.0</td>\n",
       "      <td>0.187500</td>\n",
       "      <td>0.000000</td>\n",
       "    </tr>\n",
       "    <tr>\n",
       "      <th>525598846</th>\n",
       "      <td>28.0</td>\n",
       "      <td>35-44</td>\n",
       "      <td>U</td>\n",
       "      <td>265</td>\n",
       "      <td>9335.00</td>\n",
       "      <td>146750.00</td>\n",
       "      <td>159</td>\n",
       "      <td>12</td>\n",
       "      <td>299119.0</td>\n",
       "      <td>0.428571</td>\n",
       "      <td>0.063612</td>\n",
       "    </tr>\n",
       "    <tr>\n",
       "      <th>1025496080</th>\n",
       "      <td>28.0</td>\n",
       "      <td>25-34</td>\n",
       "      <td>M</td>\n",
       "      <td>348</td>\n",
       "      <td>1674.00</td>\n",
       "      <td>564150.00</td>\n",
       "      <td>796</td>\n",
       "      <td>14</td>\n",
       "      <td>137763.0</td>\n",
       "      <td>0.500000</td>\n",
       "      <td>0.002967</td>\n",
       "    </tr>\n",
       "    <tr>\n",
       "      <th>2179416580</th>\n",
       "      <td>25.0</td>\n",
       "      <td>35-44</td>\n",
       "      <td>M</td>\n",
       "      <td>3054</td>\n",
       "      <td>16207.02</td>\n",
       "      <td>16337.02</td>\n",
       "      <td>827</td>\n",
       "      <td>3</td>\n",
       "      <td>115314.7</td>\n",
       "      <td>0.120000</td>\n",
       "      <td>0.992043</td>\n",
       "    </tr>\n",
       "    <tr>\n",
       "      <th>3628686418</th>\n",
       "      <td>15.0</td>\n",
       "      <td>55-64</td>\n",
       "      <td>M</td>\n",
       "      <td>298</td>\n",
       "      <td>0.00</td>\n",
       "      <td>83745.00</td>\n",
       "      <td>53</td>\n",
       "      <td>13</td>\n",
       "      <td>242025.0</td>\n",
       "      <td>0.866667</td>\n",
       "      <td>0.000000</td>\n",
       "    </tr>\n",
       "    <tr>\n",
       "      <th>3783399434</th>\n",
       "      <td>15.0</td>\n",
       "      <td>35-44</td>\n",
       "      <td>U</td>\n",
       "      <td>138</td>\n",
       "      <td>0.00</td>\n",
       "      <td>21474.00</td>\n",
       "      <td>154</td>\n",
       "      <td>8</td>\n",
       "      <td>148665.5</td>\n",
       "      <td>0.533333</td>\n",
       "      <td>0.000000</td>\n",
       "    </tr>\n",
       "    <tr>\n",
       "      <th>3962433512</th>\n",
       "      <td>3.0</td>\n",
       "      <td>35-44</td>\n",
       "      <td>M</td>\n",
       "      <td>2528</td>\n",
       "      <td>3220.33</td>\n",
       "      <td>8247.33</td>\n",
       "      <td>26</td>\n",
       "      <td>2</td>\n",
       "      <td>148390.0</td>\n",
       "      <td>0.666667</td>\n",
       "      <td>0.390469</td>\n",
       "    </tr>\n",
       "  </tbody>\n",
       "</table>\n",
       "</div>"
      ],
      "text/plain": [
       "                      FREQ AGE_BAND GENDER  TENURE_IN_DAYS  RACING_TURNOVER  \\\n",
       "BET_ACCOUNT_NUM_HASH                                                          \n",
       "326600861             21.0    45-54      M            2533             0.00   \n",
       "442011293             16.0    25-34      M            2129             0.00   \n",
       "525598846             28.0    35-44      U             265          9335.00   \n",
       "1025496080            28.0    25-34      M             348          1674.00   \n",
       "2179416580            25.0    35-44      M            3054         16207.02   \n",
       "3628686418            15.0    55-64      M             298             0.00   \n",
       "3783399434            15.0    35-44      U             138             0.00   \n",
       "3962433512             3.0    35-44      M            2528          3220.33   \n",
       "\n",
       "                      TOTAL_TURNOVER_28  TICKETS  WIN_LOSS  TOTAL_TURNOVER  \\\n",
       "BET_ACCOUNT_NUM_HASH                                                         \n",
       "326600861                      69820.00       81         7        163695.0   \n",
       "442011293                      44331.00       24         3        222150.0   \n",
       "525598846                     146750.00      159        12        299119.0   \n",
       "1025496080                    564150.00      796        14        137763.0   \n",
       "2179416580                     16337.02      827         3        115314.7   \n",
       "3628686418                     83745.00       53        13        242025.0   \n",
       "3783399434                     21474.00      154         8        148665.5   \n",
       "3962433512                      8247.33       26         2        148390.0   \n",
       "\n",
       "                      WIN_LOSS_RATIO  RACING_RATIO  \n",
       "BET_ACCOUNT_NUM_HASH                                \n",
       "326600861                   0.333333      0.000000  \n",
       "442011293                   0.187500      0.000000  \n",
       "525598846                   0.428571      0.063612  \n",
       "1025496080                  0.500000      0.002967  \n",
       "2179416580                  0.120000      0.992043  \n",
       "3628686418                  0.866667      0.000000  \n",
       "3783399434                  0.533333      0.000000  \n",
       "3962433512                  0.666667      0.390469  "
      ]
     },
     "execution_count": 242,
     "metadata": {},
     "output_type": "execute_result"
    }
   ],
   "source": [
    "train.iloc[abs(e) > 100000, :]"
   ]
  },
  {
   "cell_type": "code",
   "execution_count": 270,
   "id": "c19b795c-57e7-4056-b6ab-7b14504ca954",
   "metadata": {},
   "outputs": [],
   "source": [
    "X = train.drop(lst, axis=1).to_numpy()\n",
    "y = train['TOTAL_TURNOVER'].to_numpy()"
   ]
  },
  {
   "cell_type": "code",
   "execution_count": 276,
   "id": "3d20fdd4-a39e-456c-a20e-ae75fccf4eb6",
   "metadata": {},
   "outputs": [],
   "source": [
    "X_train, X_test, y_train, y_test = train_test_split(X,y, random_state=42)"
   ]
  },
  {
   "cell_type": "code",
   "execution_count": 277,
   "id": "666062f0-9708-45e8-b972-ee28cd7c28bc",
   "metadata": {
    "tags": []
   },
   "outputs": [
    {
     "data": {
      "text/html": [
       "<style>#sk-container-id-3 {color: black;background-color: white;}#sk-container-id-3 pre{padding: 0;}#sk-container-id-3 div.sk-toggleable {background-color: white;}#sk-container-id-3 label.sk-toggleable__label {cursor: pointer;display: block;width: 100%;margin-bottom: 0;padding: 0.3em;box-sizing: border-box;text-align: center;}#sk-container-id-3 label.sk-toggleable__label-arrow:before {content: \"▸\";float: left;margin-right: 0.25em;color: #696969;}#sk-container-id-3 label.sk-toggleable__label-arrow:hover:before {color: black;}#sk-container-id-3 div.sk-estimator:hover label.sk-toggleable__label-arrow:before {color: black;}#sk-container-id-3 div.sk-toggleable__content {max-height: 0;max-width: 0;overflow: hidden;text-align: left;background-color: #f0f8ff;}#sk-container-id-3 div.sk-toggleable__content pre {margin: 0.2em;color: black;border-radius: 0.25em;background-color: #f0f8ff;}#sk-container-id-3 input.sk-toggleable__control:checked~div.sk-toggleable__content {max-height: 200px;max-width: 100%;overflow: auto;}#sk-container-id-3 input.sk-toggleable__control:checked~label.sk-toggleable__label-arrow:before {content: \"▾\";}#sk-container-id-3 div.sk-estimator input.sk-toggleable__control:checked~label.sk-toggleable__label {background-color: #d4ebff;}#sk-container-id-3 div.sk-label input.sk-toggleable__control:checked~label.sk-toggleable__label {background-color: #d4ebff;}#sk-container-id-3 input.sk-hidden--visually {border: 0;clip: rect(1px 1px 1px 1px);clip: rect(1px, 1px, 1px, 1px);height: 1px;margin: -1px;overflow: hidden;padding: 0;position: absolute;width: 1px;}#sk-container-id-3 div.sk-estimator {font-family: monospace;background-color: #f0f8ff;border: 1px dotted black;border-radius: 0.25em;box-sizing: border-box;margin-bottom: 0.5em;}#sk-container-id-3 div.sk-estimator:hover {background-color: #d4ebff;}#sk-container-id-3 div.sk-parallel-item::after {content: \"\";width: 100%;border-bottom: 1px solid gray;flex-grow: 1;}#sk-container-id-3 div.sk-label:hover label.sk-toggleable__label {background-color: #d4ebff;}#sk-container-id-3 div.sk-serial::before {content: \"\";position: absolute;border-left: 1px solid gray;box-sizing: border-box;top: 0;bottom: 0;left: 50%;z-index: 0;}#sk-container-id-3 div.sk-serial {display: flex;flex-direction: column;align-items: center;background-color: white;padding-right: 0.2em;padding-left: 0.2em;position: relative;}#sk-container-id-3 div.sk-item {position: relative;z-index: 1;}#sk-container-id-3 div.sk-parallel {display: flex;align-items: stretch;justify-content: center;background-color: white;position: relative;}#sk-container-id-3 div.sk-item::before, #sk-container-id-3 div.sk-parallel-item::before {content: \"\";position: absolute;border-left: 1px solid gray;box-sizing: border-box;top: 0;bottom: 0;left: 50%;z-index: -1;}#sk-container-id-3 div.sk-parallel-item {display: flex;flex-direction: column;z-index: 1;position: relative;background-color: white;}#sk-container-id-3 div.sk-parallel-item:first-child::after {align-self: flex-end;width: 50%;}#sk-container-id-3 div.sk-parallel-item:last-child::after {align-self: flex-start;width: 50%;}#sk-container-id-3 div.sk-parallel-item:only-child::after {width: 0;}#sk-container-id-3 div.sk-dashed-wrapped {border: 1px dashed gray;margin: 0 0.4em 0.5em 0.4em;box-sizing: border-box;padding-bottom: 0.4em;background-color: white;}#sk-container-id-3 div.sk-label label {font-family: monospace;font-weight: bold;display: inline-block;line-height: 1.2em;}#sk-container-id-3 div.sk-label-container {text-align: center;}#sk-container-id-3 div.sk-container {/* jupyter's `normalize.less` sets `[hidden] { display: none; }` but bootstrap.min.css set `[hidden] { display: none !important; }` so we also need the `!important` here to be able to override the default hidden behavior on the sphinx rendered scikit-learn.org. See: https://github.com/scikit-learn/scikit-learn/issues/21755 */display: inline-block !important;position: relative;}#sk-container-id-3 div.sk-text-repr-fallback {display: none;}</style><div id=\"sk-container-id-3\" class=\"sk-top-container\"><div class=\"sk-text-repr-fallback\"><pre>LinearRegression()</pre><b>In a Jupyter environment, please rerun this cell to show the HTML representation or trust the notebook. <br />On GitHub, the HTML representation is unable to render, please try loading this page with nbviewer.org.</b></div><div class=\"sk-container\" hidden><div class=\"sk-item\"><div class=\"sk-estimator sk-toggleable\"><input class=\"sk-toggleable__control sk-hidden--visually\" id=\"sk-estimator-id-3\" type=\"checkbox\" checked><label for=\"sk-estimator-id-3\" class=\"sk-toggleable__label sk-toggleable__label-arrow\">LinearRegression</label><div class=\"sk-toggleable__content\"><pre>LinearRegression()</pre></div></div></div></div></div>"
      ],
      "text/plain": [
       "LinearRegression()"
      ]
     },
     "execution_count": 277,
     "metadata": {},
     "output_type": "execute_result"
    }
   ],
   "source": [
    "lr_model = LinearRegression(fit_intercept=True)\n",
    "lr_model.fit(X_train,y_train)"
   ]
  },
  {
   "cell_type": "code",
   "execution_count": 280,
   "id": "69aca4a2-a72e-4702-90bf-f8e7b1107485",
   "metadata": {},
   "outputs": [
    {
     "data": {
      "text/plain": [
       "19836754.379007462"
      ]
     },
     "execution_count": 280,
     "metadata": {},
     "output_type": "execute_result"
    }
   ],
   "source": [
    "mean_squared_error(y_test, y_pred)"
   ]
  },
  {
   "cell_type": "code",
   "execution_count": 281,
   "id": "b93d1e3d-1583-4b4e-8782-43a3361f2d57",
   "metadata": {},
   "outputs": [
    {
     "data": {
      "text/plain": [
       "0.4639330872701499"
      ]
     },
     "execution_count": 281,
     "metadata": {},
     "output_type": "execute_result"
    }
   ],
   "source": [
    "r2_score(y_pred, y_test)"
   ]
  },
  {
   "cell_type": "code",
   "execution_count": 283,
   "id": "0cdc8054-4556-4564-b2e2-a601678b2571",
   "metadata": {},
   "outputs": [
    {
     "data": {
      "text/plain": [
       "[<matplotlib.lines.Line2D at 0x2087fb39e10>]"
      ]
     },
     "execution_count": 283,
     "metadata": {},
     "output_type": "execute_result"
    },
    {
     "data": {
      "image/png": "[encoded data removed]",
      "text/plain": [
       "<Figure size 1600x400 with 1 Axes>"
      ]
     },
     "metadata": {},
     "output_type": "display_data"
    }
   ],
   "source": [
    "y_pred = lr_model.predict(X_test)\n",
    "e = y_test.flatten()  - y_pred\n",
    "\n",
    "e.sort()\n",
    "\n",
    "plt.figure(figsize=(16,4))\n",
    "plt.plot(e )"
   ]
  },
  {
   "cell_type": "code",
   "execution_count": 291,
   "id": "b573a0bf-8126-49e9-83f1-c43e9fe1f1d5",
   "metadata": {},
   "outputs": [
    {
     "name": "stderr",
     "output_type": "stream",
     "text": [
      "C:\\Users\\duc.nguyen\\AppData\\Local\\Temp\\ipykernel_16900\\1241634379.py:2: RuntimeWarning: divide by zero encountered in divide\n",
      "  e_per = abs(e)/y_test.flatten()\n"
     ]
    },
    {
     "data": {
      "text/plain": [
       "(0.0, 100.0)"
      ]
     },
     "execution_count": 291,
     "metadata": {},
     "output_type": "execute_result"
    },
    {
     "data": {
      "image/png": "[encoded data removed]",
      "text/plain": [
       "<Figure size 1600x400 with 1 Axes>"
      ]
     },
     "metadata": {},
     "output_type": "display_data"
    }
   ],
   "source": [
    "e = y_test.flatten()  - y_pred\n",
    "e_per = abs(e)/y_test.flatten()\n",
    "e_per.sort()\n",
    "\n",
    "plt.figure(figsize=(16,4))\n",
    "plt.plot(e_per )\n",
    "plt.ylim(0,100)"
   ]
  },
  {
   "cell_type": "code",
   "execution_count": 288,
   "id": "0b2c921b-359e-4f19-b529-5eb95b961ece",
   "metadata": {},
   "outputs": [
    {
     "data": {
      "text/plain": [
       "0.8200911126553934"
      ]
     },
     "execution_count": 288,
     "metadata": {},
     "output_type": "execute_result"
    }
   ],
   "source": [
    "(e_per <=20).sum() / y_test.shape[0]"
   ]
  },
  {
   "cell_type": "code",
   "execution_count": 293,
   "id": "972af53e-32ff-41e7-b174-cac7bdd1290d",
   "metadata": {
    "collapsed": true,
    "jupyter": {
     "outputs_hidden": true
    },
    "tags": []
   },
   "outputs": [
    {
     "ename": "MemoryError",
     "evalue": "Unable to allocate 20.0 GiB for an array with shape (51802, 51802) and data type float64",
     "output_type": "error",
     "traceback": [
      "\u001b[1;31m---------------------------------------------------------------------------\u001b[0m",
      "\u001b[1;31mMemoryError\u001b[0m                               Traceback (most recent call last)",
      "Cell \u001b[1;32mIn[293], line 1\u001b[0m\n\u001b[1;32m----> 1\u001b[0m \u001b[43mnp\u001b[49m\u001b[38;5;241;43m.\u001b[39;49m\u001b[43mcorrcoef\u001b[49m\u001b[43m(\u001b[49m\u001b[43mX\u001b[49m\u001b[43m)\u001b[49m\n",
      "File \u001b[1;32m<__array_function__ internals>:180\u001b[0m, in \u001b[0;36mcorrcoef\u001b[1;34m(*args, **kwargs)\u001b[0m\n",
      "File \u001b[1;32m~\\AppData\\Local\\anaconda3\\lib\\site-packages\\numpy\\lib\\function_base.py:2845\u001b[0m, in \u001b[0;36mcorrcoef\u001b[1;34m(x, y, rowvar, bias, ddof, dtype)\u001b[0m\n\u001b[0;32m   2841\u001b[0m \u001b[38;5;28;01mif\u001b[39;00m bias \u001b[38;5;129;01mis\u001b[39;00m \u001b[38;5;129;01mnot\u001b[39;00m np\u001b[38;5;241m.\u001b[39m_NoValue \u001b[38;5;129;01mor\u001b[39;00m ddof \u001b[38;5;129;01mis\u001b[39;00m \u001b[38;5;129;01mnot\u001b[39;00m np\u001b[38;5;241m.\u001b[39m_NoValue:\n\u001b[0;32m   2842\u001b[0m     \u001b[38;5;66;03m# 2015-03-15, 1.10\u001b[39;00m\n\u001b[0;32m   2843\u001b[0m     warnings\u001b[38;5;241m.\u001b[39mwarn(\u001b[38;5;124m'\u001b[39m\u001b[38;5;124mbias and ddof have no effect and are deprecated\u001b[39m\u001b[38;5;124m'\u001b[39m,\n\u001b[0;32m   2844\u001b[0m                   \u001b[38;5;167;01mDeprecationWarning\u001b[39;00m, stacklevel\u001b[38;5;241m=\u001b[39m\u001b[38;5;241m3\u001b[39m)\n\u001b[1;32m-> 2845\u001b[0m c \u001b[38;5;241m=\u001b[39m \u001b[43mcov\u001b[49m\u001b[43m(\u001b[49m\u001b[43mx\u001b[49m\u001b[43m,\u001b[49m\u001b[43m \u001b[49m\u001b[43my\u001b[49m\u001b[43m,\u001b[49m\u001b[43m \u001b[49m\u001b[43mrowvar\u001b[49m\u001b[43m,\u001b[49m\u001b[43m \u001b[49m\u001b[43mdtype\u001b[49m\u001b[38;5;241;43m=\u001b[39;49m\u001b[43mdtype\u001b[49m\u001b[43m)\u001b[49m\n\u001b[0;32m   2846\u001b[0m \u001b[38;5;28;01mtry\u001b[39;00m:\n\u001b[0;32m   2847\u001b[0m     d \u001b[38;5;241m=\u001b[39m diag(c)\n",
      "File \u001b[1;32m<__array_function__ internals>:180\u001b[0m, in \u001b[0;36mcov\u001b[1;34m(*args, **kwargs)\u001b[0m\n",
      "File \u001b[1;32m~\\AppData\\Local\\anaconda3\\lib\\site-packages\\numpy\\lib\\function_base.py:2703\u001b[0m, in \u001b[0;36mcov\u001b[1;34m(m, y, rowvar, bias, ddof, fweights, aweights, dtype)\u001b[0m\n\u001b[0;32m   2701\u001b[0m \u001b[38;5;28;01melse\u001b[39;00m:\n\u001b[0;32m   2702\u001b[0m     X_T \u001b[38;5;241m=\u001b[39m (X\u001b[38;5;241m*\u001b[39mw)\u001b[38;5;241m.\u001b[39mT\n\u001b[1;32m-> 2703\u001b[0m c \u001b[38;5;241m=\u001b[39m \u001b[43mdot\u001b[49m\u001b[43m(\u001b[49m\u001b[43mX\u001b[49m\u001b[43m,\u001b[49m\u001b[43m \u001b[49m\u001b[43mX_T\u001b[49m\u001b[38;5;241;43m.\u001b[39;49m\u001b[43mconj\u001b[49m\u001b[43m(\u001b[49m\u001b[43m)\u001b[49m\u001b[43m)\u001b[49m\n\u001b[0;32m   2704\u001b[0m c \u001b[38;5;241m*\u001b[39m\u001b[38;5;241m=\u001b[39m np\u001b[38;5;241m.\u001b[39mtrue_divide(\u001b[38;5;241m1\u001b[39m, fact)\n\u001b[0;32m   2705\u001b[0m \u001b[38;5;28;01mreturn\u001b[39;00m c\u001b[38;5;241m.\u001b[39msqueeze()\n",
      "File \u001b[1;32m<__array_function__ internals>:180\u001b[0m, in \u001b[0;36mdot\u001b[1;34m(*args, **kwargs)\u001b[0m\n",
      "\u001b[1;31mMemoryError\u001b[0m: Unable to allocate 20.0 GiB for an array with shape (51802, 51802) and data type float64"
     ]
    }
   ],
   "source": [
    "np.corrcoef(X)"
   ]
  },
  {
   "cell_type": "code",
   "execution_count": 294,
   "id": "2878bed1-ef49-474b-bea9-db3a6c60d286",
   "metadata": {},
   "outputs": [
    {
     "data": {
      "text/plain": [
       "array([[2.000000e+01, 1.509175e+04, 5.218000e+03],\n",
       "       [7.000000e+00, 1.319000e+03, 2.500000e+01],\n",
       "       [5.000000e+00, 6.015000e+02, 9.970000e+02],\n",
       "       ...,\n",
       "       [1.000000e+00, 2.570000e+01, 1.000000e+00],\n",
       "       [1.600000e+01, 4.223000e+03, 9.500000e+01],\n",
       "       [2.000000e+01, 1.234160e+03, 5.340000e+02]])"
      ]
     },
     "execution_count": 294,
     "metadata": {},
     "output_type": "execute_result"
    }
   ],
   "source": [
    "X"
   ]
  },
  {
   "cell_type": "code",
   "execution_count": null,
   "id": "27b9f3ad-b129-43b6-ba2f-f568d1e0ba33",
   "metadata": {},
   "outputs": [],
   "source": []
  },
  {
   "cell_type": "code",
   "execution_count": null,
   "id": "5b7f743d-3265-4162-96a2-4a52c9f21432",
   "metadata": {},
   "outputs": [],
   "source": []
  },
  {
   "cell_type": "code",
   "execution_count": null,
   "id": "74d6d8e0-8ba6-4667-b878-1640668849b3",
   "metadata": {},
   "outputs": [],
   "source": []
  },
  {
   "cell_type": "code",
   "execution_count": null,
   "id": "7246ae77-bf00-4f38-b7ef-852c7a0af71c",
   "metadata": {},
   "outputs": [],
   "source": []
  },
  {
   "cell_type": "code",
   "execution_count": null,
   "id": "df0d873f-14cf-4349-9e67-ea933fe0469f",
   "metadata": {},
   "outputs": [],
   "source": []
  },
  {
   "cell_type": "code",
   "execution_count": null,
   "id": "471d9055-f177-4da0-b7fb-1e68da885f52",
   "metadata": {},
   "outputs": [],
   "source": []
  },
  {
   "cell_type": "code",
   "execution_count": 256,
   "id": "8fcdb0b4-5935-40f3-bfde-5773a7d7f4e8",
   "metadata": {},
   "outputs": [],
   "source": [
    "test = df[(df['BET_ACCOUNT_NUM_HASH'] == 442011293) & (df['YEAR_WEEK'] >= 202107) & (df['YEAR_WEEK'] <= 202115)]"
   ]
  },
  {
   "cell_type": "code",
   "execution_count": 257,
   "id": "318934f4-c457-4415-b0b4-67d0e9feba4a",
   "metadata": {},
   "outputs": [],
   "source": [
    "test.index = test['DATE_DIM']"
   ]
  },
  {
   "cell_type": "code",
   "execution_count": 258,
   "id": "539c1462-fc6d-4182-8b9a-78d31c5ec540",
   "metadata": {},
   "outputs": [
    {
     "data": {
      "text/plain": [
       "<Axes: xlabel='DATE_DIM'>"
      ]
     },
     "execution_count": 258,
     "metadata": {},
     "output_type": "execute_result"
    },
    {
     "data": {
      "image/png": "[encoded data removed]",
      "text/plain": [
       "<Figure size 640x480 with 1 Axes>"
      ]
     },
     "metadata": {},
     "output_type": "display_data"
    }
   ],
   "source": [
    "test['TOTAL_TURNOVER'].plot()"
   ]
  },
  {
   "cell_type": "code",
   "execution_count": null,
   "id": "4fbd7de4-f819-4328-97f8-1a3841c090d8",
   "metadata": {},
   "outputs": [],
   "source": []
  },
  {
   "cell_type": "code",
   "execution_count": null,
   "id": "239446fd-3f0a-4d31-9976-1fb5a381a729",
   "metadata": {},
   "outputs": [],
   "source": []
  },
  {
   "cell_type": "code",
   "execution_count": null,
   "id": "69f51304-7bcc-4209-9de0-f10ab9825582",
   "metadata": {},
   "outputs": [],
   "source": []
  },
  {
   "cell_type": "code",
   "execution_count": null,
   "id": "4c5df247-10c1-426d-8fb2-8dfad7093ccb",
   "metadata": {},
   "outputs": [],
   "source": []
  },
  {
   "cell_type": "code",
   "execution_count": null,
   "id": "4f279ac9-b316-439b-9462-b9e8688e91fc",
   "metadata": {},
   "outputs": [],
   "source": []
  },
  {
   "cell_type": "code",
   "execution_count": null,
   "id": "a520c4cb-3ec4-4151-b7a0-cb7d976063e3",
   "metadata": {},
   "outputs": [],
   "source": []
  },
  {
   "cell_type": "code",
   "execution_count": null,
   "id": "14990622-233c-4868-8ea3-425e0e0ee3e4",
   "metadata": {},
   "outputs": [],
   "source": []
  }
 ],
 "metadata": {
  "kernelspec": {
   "display_name": "Python 3 (ipykernel)",
   "language": "python",
   "name": "python3"
  },
  "language_info": {
   "codemirror_mode": {
    "name": "ipython",
    "version": 3
   },
   "file_extension": ".py",
   "mimetype": "text/x-python",
   "name": "python",
   "nbconvert_exporter": "python",
   "pygments_lexer": "ipython3",
   "version": "3.10.9"
  }
 },
 "nbformat": 4,
 "nbformat_minor": 5
}
