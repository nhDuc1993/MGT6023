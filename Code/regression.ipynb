{
 "cells": [
  {
   "cell_type": "code",
   "execution_count": 66,
   "id": "4868621b-3075-456a-bf50-5eb0365b442d",
   "metadata": {},
   "outputs": [],
   "source": [
    "import pandas as pd\n",
    "import numpy as np\n",
    "import os \n",
    "import matplotlib.pyplot as plt\n",
    "\n",
    "from sklearn.linear_model import LinearRegression"
   ]
  },
  {
   "cell_type": "markdown",
   "id": "e482185a-6517-44e3-95f9-119ed5f91e09",
   "metadata": {},
   "source": [
    "# Download file"
   ]
  },
  {
   "cell_type": "code",
   "execution_count": 2,
   "id": "a6972c01-45ed-4005-95d7-ad3e257dd886",
   "metadata": {},
   "outputs": [],
   "source": [
    "file_id = \"1atOZX3YXmxx-_QebbTfndeC6U_DPTL2e\" # ID of the file on Google Drive\n",
    "file_name = 'Updated_data_2021&2022.csv'\n",
    "\n",
    "%run download.ipynb"
   ]
  },
  {
   "cell_type": "markdown",
   "id": "bd9d1a29-daad-42b7-883e-568fd28bd5b7",
   "metadata": {},
   "source": [
    "# Import data"
   ]
  },
  {
   "cell_type": "code",
   "execution_count": 3,
   "id": "95450574-9006-4ee7-ae21-e998c3b67aea",
   "metadata": {},
   "outputs": [
    {
     "data": {
      "text/html": [
       "<div>\n",
       "<style scoped>\n",
       "    .dataframe tbody tr th:only-of-type {\n",
       "        vertical-align: middle;\n",
       "    }\n",
       "\n",
       "    .dataframe tbody tr th {\n",
       "        vertical-align: top;\n",
       "    }\n",
       "\n",
       "    .dataframe thead th {\n",
       "        text-align: right;\n",
       "    }\n",
       "</style>\n",
       "<table border=\"1\" class=\"dataframe\">\n",
       "  <thead>\n",
       "    <tr style=\"text-align: right;\">\n",
       "      <th></th>\n",
       "      <th>DATE_DIM</th>\n",
       "      <th>DAY_OF_WEEK</th>\n",
       "      <th>BET_ACCOUNT_NUM_HASH</th>\n",
       "      <th>AGE</th>\n",
       "      <th>AGE_BAND</th>\n",
       "      <th>GENDER</th>\n",
       "      <th>TENURE_IN_DAYS</th>\n",
       "      <th>RESIDENTIAL_STATE</th>\n",
       "      <th>FOB_RACING_TURNOVER</th>\n",
       "      <th>FOB_SPORT_TURNOVER</th>\n",
       "      <th>PARI_RACING_TURNOVER</th>\n",
       "      <th>PARI_SPORT_TURNOVER</th>\n",
       "      <th>TOTAL_TURNOVER</th>\n",
       "      <th>DIVIDENDS_PAID</th>\n",
       "      <th>GROSS_MARGIN</th>\n",
       "      <th>TICKETS</th>\n",
       "    </tr>\n",
       "  </thead>\n",
       "  <tbody>\n",
       "    <tr>\n",
       "      <th>0</th>\n",
       "      <td>2021-01-01</td>\n",
       "      <td>Fri</td>\n",
       "      <td>13154</td>\n",
       "      <td>67.0</td>\n",
       "      <td>65+</td>\n",
       "      <td>M</td>\n",
       "      <td>11846</td>\n",
       "      <td>WA</td>\n",
       "      <td>37.0</td>\n",
       "      <td>NaN</td>\n",
       "      <td>1081.0</td>\n",
       "      <td>NaN</td>\n",
       "      <td>1118.0</td>\n",
       "      <td>443.55</td>\n",
       "      <td>271.254275</td>\n",
       "      <td>288</td>\n",
       "    </tr>\n",
       "    <tr>\n",
       "      <th>1</th>\n",
       "      <td>2021-01-01</td>\n",
       "      <td>Fri</td>\n",
       "      <td>18379</td>\n",
       "      <td>54.0</td>\n",
       "      <td>45-54</td>\n",
       "      <td>M</td>\n",
       "      <td>1884</td>\n",
       "      <td>WA</td>\n",
       "      <td>40.0</td>\n",
       "      <td>NaN</td>\n",
       "      <td>NaN</td>\n",
       "      <td>NaN</td>\n",
       "      <td>40.0</td>\n",
       "      <td>0.00</td>\n",
       "      <td>40.000000</td>\n",
       "      <td>1</td>\n",
       "    </tr>\n",
       "    <tr>\n",
       "      <th>2</th>\n",
       "      <td>2021-01-01</td>\n",
       "      <td>Fri</td>\n",
       "      <td>559232</td>\n",
       "      <td>63.0</td>\n",
       "      <td>55-64</td>\n",
       "      <td>M</td>\n",
       "      <td>2866</td>\n",
       "      <td>WA</td>\n",
       "      <td>NaN</td>\n",
       "      <td>NaN</td>\n",
       "      <td>12.0</td>\n",
       "      <td>NaN</td>\n",
       "      <td>12.0</td>\n",
       "      <td>9.50</td>\n",
       "      <td>2.041720</td>\n",
       "      <td>5</td>\n",
       "    </tr>\n",
       "    <tr>\n",
       "      <th>3</th>\n",
       "      <td>2021-01-01</td>\n",
       "      <td>Fri</td>\n",
       "      <td>698904</td>\n",
       "      <td>69.0</td>\n",
       "      <td>65+</td>\n",
       "      <td>M</td>\n",
       "      <td>2100</td>\n",
       "      <td>WA</td>\n",
       "      <td>NaN</td>\n",
       "      <td>NaN</td>\n",
       "      <td>1223.5</td>\n",
       "      <td>NaN</td>\n",
       "      <td>1223.5</td>\n",
       "      <td>267.91</td>\n",
       "      <td>245.117147</td>\n",
       "      <td>40</td>\n",
       "    </tr>\n",
       "    <tr>\n",
       "      <th>4</th>\n",
       "      <td>2021-01-01</td>\n",
       "      <td>Fri</td>\n",
       "      <td>762921</td>\n",
       "      <td>67.0</td>\n",
       "      <td>65+</td>\n",
       "      <td>M</td>\n",
       "      <td>4766</td>\n",
       "      <td>WA</td>\n",
       "      <td>NaN</td>\n",
       "      <td>NaN</td>\n",
       "      <td>17.5</td>\n",
       "      <td>NaN</td>\n",
       "      <td>17.5</td>\n",
       "      <td>0.00</td>\n",
       "      <td>3.504075</td>\n",
       "      <td>5</td>\n",
       "    </tr>\n",
       "  </tbody>\n",
       "</table>\n",
       "</div>"
      ],
      "text/plain": [
       "     DATE_DIM DAY_OF_WEEK  BET_ACCOUNT_NUM_HASH   AGE AGE_BAND GENDER  \\\n",
       "0  2021-01-01         Fri                 13154  67.0      65+      M   \n",
       "1  2021-01-01         Fri                 18379  54.0    45-54      M   \n",
       "2  2021-01-01         Fri                559232  63.0    55-64      M   \n",
       "3  2021-01-01         Fri                698904  69.0      65+      M   \n",
       "4  2021-01-01         Fri                762921  67.0      65+      M   \n",
       "\n",
       "   TENURE_IN_DAYS RESIDENTIAL_STATE  FOB_RACING_TURNOVER  FOB_SPORT_TURNOVER  \\\n",
       "0           11846                WA                 37.0                 NaN   \n",
       "1            1884                WA                 40.0                 NaN   \n",
       "2            2866                WA                  NaN                 NaN   \n",
       "3            2100                WA                  NaN                 NaN   \n",
       "4            4766                WA                  NaN                 NaN   \n",
       "\n",
       "   PARI_RACING_TURNOVER  PARI_SPORT_TURNOVER  TOTAL_TURNOVER  DIVIDENDS_PAID  \\\n",
       "0                1081.0                  NaN          1118.0          443.55   \n",
       "1                   NaN                  NaN            40.0            0.00   \n",
       "2                  12.0                  NaN            12.0            9.50   \n",
       "3                1223.5                  NaN          1223.5          267.91   \n",
       "4                  17.5                  NaN            17.5            0.00   \n",
       "\n",
       "   GROSS_MARGIN  TICKETS  \n",
       "0    271.254275      288  \n",
       "1     40.000000        1  \n",
       "2      2.041720        5  \n",
       "3    245.117147       40  \n",
       "4      3.504075        5  "
      ]
     },
     "execution_count": 3,
     "metadata": {},
     "output_type": "execute_result"
    }
   ],
   "source": [
    "# File path\n",
    "current_dir = os.getcwd()\n",
    "parent_dir = os.path.dirname(current_dir)\n",
    "file_path = os.path.join(parent_dir, 'Data',file_name)\n",
    "\n",
    "df = pd.read_csv(file_path)\n",
    "df.head()"
   ]
  },
  {
   "cell_type": "code",
   "execution_count": 4,
   "id": "3b9ee76c-28c9-4595-9a6f-a3fd8cc3525d",
   "metadata": {},
   "outputs": [],
   "source": [
    "# DATE_DIM: datetime\n",
    "df['DATE_DIM'] = pd.to_datetime(df['DATE_DIM'], format='%Y-%m-%d')\n",
    "\n",
    "# BET_ACCOUNT_NUM_HASH: string\n",
    "df['BET_ACCOUNT_NUM_HASH'] = df['BET_ACCOUNT_NUM_HASH'].astype('O')\n",
    "\n",
    "# Fillna\n",
    "df['AGE'].fillna(44, inplace=True)\n",
    "\n",
    "# drop\n",
    "df.drop(['DAY_OF_WEEK', 'AGE'], axis=1, inplace=True)\n",
    "\n",
    "# More than zero\n",
    "df = df[df['TOTAL_TURNOVER'] > 0]"
   ]
  },
  {
   "cell_type": "code",
   "execution_count": 50,
   "id": "ba8832e2-984d-4e58-8b4d-ea918bc8168f",
   "metadata": {},
   "outputs": [],
   "source": [
    "df['YEAR_WEEK'] = df['DATE_DIM'].dt.year * 100 + df['DATE_DIM'].dt.week\n",
    "\n",
    "df['RACING_TURNOVER'] = df[['FOB_RACING_TURNOVER', 'PARI_RACING_TURNOVER']].sum(axis=1)\n",
    "\n",
    "df['WIN_LOSS'] = (df['DIVIDENDS_PAID'] >= df['TOTAL_TURNOVER']).astype('int32')"
   ]
  },
  {
   "cell_type": "code",
   "execution_count": 132,
   "id": "fb34b852-b752-4d5b-b90a-6279e35f95f6",
   "metadata": {},
   "outputs": [],
   "source": [
    "y_202102 = df[df['YEAR_WEEK'] == 202102].groupby('BET_ACCOUNT_NUM_HASH').TOTAL_TURNOVER.sum()\n",
    "\n",
    "X_202101 = df[df['YEAR_WEEK'] == 202101].groupby('BET_ACCOUNT_NUM_HASH').agg({\n",
    "    'BET_ACCOUNT_NUM_HASH': np.size,\n",
    "    'AGE_BAND' : max,\n",
    "    'GENDER' : max,\n",
    "    'TENURE_IN_DAYS' : max,\n",
    "    'RACING_TURNOVER' : sum,\n",
    "    'TOTAL_TURNOVER' : sum,\n",
    "    'TICKETS' : sum,\n",
    "    'WIN_LOSS' : sum\n",
    "})\n",
    "\n",
    "X = pd.merge(X_202101, y_202102, left_index=True, right_index=True, how='left')\n",
    "\n",
    "X.columns = ['FREQ', 'AGE_BAND', 'GENDER', 'TENURE_IN_DAYS', 'RACING_TURNOVER', 'TOTAL_TURNOVER_7', 'TICKETS', 'WIN_LOSS', 'TOTAL_TURNOVER']\n",
    "\n",
    "X['FREQ'] = X['FREQ'] / 7\n",
    "X['WIN_LOSS_RATIO'] = X['WIN_LOSS'] / (X['FREQ'] * 7) \n",
    "X['RACING_RATIO'] = X['RACING_TURNOVER'] / X['TOTAL_TURNOVER_7']\n",
    "X['TOTAL_TURNOVER'].fillna(0,inplace=True)"
   ]
  },
  {
   "cell_type": "code",
   "execution_count": 133,
   "id": "59e06c22-604c-4240-a08b-c17a10712a15",
   "metadata": {},
   "outputs": [
    {
     "data": {
      "text/html": [
       "<div>\n",
       "<style scoped>\n",
       "    .dataframe tbody tr th:only-of-type {\n",
       "        vertical-align: middle;\n",
       "    }\n",
       "\n",
       "    .dataframe tbody tr th {\n",
       "        vertical-align: top;\n",
       "    }\n",
       "\n",
       "    .dataframe thead th {\n",
       "        text-align: right;\n",
       "    }\n",
       "</style>\n",
       "<table border=\"1\" class=\"dataframe\">\n",
       "  <thead>\n",
       "    <tr style=\"text-align: right;\">\n",
       "      <th></th>\n",
       "      <th>FREQ</th>\n",
       "      <th>TOTAL_TURNOVER_7</th>\n",
       "      <th>TICKETS</th>\n",
       "      <th>TOTAL_TURNOVER</th>\n",
       "      <th>WIN_LOSS_RATIO</th>\n",
       "    </tr>\n",
       "    <tr>\n",
       "      <th>BET_ACCOUNT_NUM_HASH</th>\n",
       "      <th></th>\n",
       "      <th></th>\n",
       "      <th></th>\n",
       "      <th></th>\n",
       "      <th></th>\n",
       "    </tr>\n",
       "  </thead>\n",
       "  <tbody>\n",
       "    <tr>\n",
       "      <th>13154</th>\n",
       "      <td>1.000000</td>\n",
       "      <td>3393.02</td>\n",
       "      <td>943</td>\n",
       "      <td>1917.5</td>\n",
       "      <td>0.000000</td>\n",
       "    </tr>\n",
       "    <tr>\n",
       "      <th>18379</th>\n",
       "      <td>0.142857</td>\n",
       "      <td>1000.00</td>\n",
       "      <td>1</td>\n",
       "      <td>50.0</td>\n",
       "      <td>0.000000</td>\n",
       "    </tr>\n",
       "    <tr>\n",
       "      <th>433164</th>\n",
       "      <td>0.285714</td>\n",
       "      <td>244.50</td>\n",
       "      <td>482</td>\n",
       "      <td>93.5</td>\n",
       "      <td>0.000000</td>\n",
       "    </tr>\n",
       "    <tr>\n",
       "      <th>559232</th>\n",
       "      <td>0.857143</td>\n",
       "      <td>135.50</td>\n",
       "      <td>51</td>\n",
       "      <td>102.0</td>\n",
       "      <td>0.500000</td>\n",
       "    </tr>\n",
       "    <tr>\n",
       "      <th>698904</th>\n",
       "      <td>1.000000</td>\n",
       "      <td>1597.00</td>\n",
       "      <td>112</td>\n",
       "      <td>1255.0</td>\n",
       "      <td>0.285714</td>\n",
       "    </tr>\n",
       "    <tr>\n",
       "      <th>...</th>\n",
       "      <td>...</td>\n",
       "      <td>...</td>\n",
       "      <td>...</td>\n",
       "      <td>...</td>\n",
       "      <td>...</td>\n",
       "    </tr>\n",
       "    <tr>\n",
       "      <th>4293715592</th>\n",
       "      <td>1.000000</td>\n",
       "      <td>337.12</td>\n",
       "      <td>124</td>\n",
       "      <td>289.0</td>\n",
       "      <td>0.142857</td>\n",
       "    </tr>\n",
       "    <tr>\n",
       "      <th>4293727606</th>\n",
       "      <td>0.142857</td>\n",
       "      <td>412.00</td>\n",
       "      <td>1</td>\n",
       "      <td>0.0</td>\n",
       "      <td>0.000000</td>\n",
       "    </tr>\n",
       "    <tr>\n",
       "      <th>4294378139</th>\n",
       "      <td>0.142857</td>\n",
       "      <td>0.50</td>\n",
       "      <td>1</td>\n",
       "      <td>65.0</td>\n",
       "      <td>0.000000</td>\n",
       "    </tr>\n",
       "    <tr>\n",
       "      <th>4294834703</th>\n",
       "      <td>0.571429</td>\n",
       "      <td>1170.00</td>\n",
       "      <td>13</td>\n",
       "      <td>625.0</td>\n",
       "      <td>0.500000</td>\n",
       "    </tr>\n",
       "    <tr>\n",
       "      <th>4294891076</th>\n",
       "      <td>0.285714</td>\n",
       "      <td>8.00</td>\n",
       "      <td>6</td>\n",
       "      <td>85.0</td>\n",
       "      <td>0.000000</td>\n",
       "    </tr>\n",
       "  </tbody>\n",
       "</table>\n",
       "<p>35984 rows × 5 columns</p>\n",
       "</div>"
      ],
      "text/plain": [
       "                          FREQ  TOTAL_TURNOVER_7  TICKETS  TOTAL_TURNOVER  \\\n",
       "BET_ACCOUNT_NUM_HASH                                                        \n",
       "13154                 1.000000           3393.02      943          1917.5   \n",
       "18379                 0.142857           1000.00        1            50.0   \n",
       "433164                0.285714            244.50      482            93.5   \n",
       "559232                0.857143            135.50       51           102.0   \n",
       "698904                1.000000           1597.00      112          1255.0   \n",
       "...                        ...               ...      ...             ...   \n",
       "4293715592            1.000000            337.12      124           289.0   \n",
       "4293727606            0.142857            412.00        1             0.0   \n",
       "4294378139            0.142857              0.50        1            65.0   \n",
       "4294834703            0.571429           1170.00       13           625.0   \n",
       "4294891076            0.285714              8.00        6            85.0   \n",
       "\n",
       "                      WIN_LOSS_RATIO  \n",
       "BET_ACCOUNT_NUM_HASH                  \n",
       "13154                       0.000000  \n",
       "18379                       0.000000  \n",
       "433164                      0.000000  \n",
       "559232                      0.500000  \n",
       "698904                      0.285714  \n",
       "...                              ...  \n",
       "4293715592                  0.142857  \n",
       "4293727606                  0.000000  \n",
       "4294378139                  0.000000  \n",
       "4294834703                  0.500000  \n",
       "4294891076                  0.000000  \n",
       "\n",
       "[35984 rows x 5 columns]"
      ]
     },
     "execution_count": 133,
     "metadata": {},
     "output_type": "execute_result"
    }
   ],
   "source": [
    "X_train = X.drop(['AGE_BAND', 'GENDER', 'TENURE_IN_DAYS', 'RACING_TURNOVER', 'WIN_LOSS', 'RACING_RATIO'], axis=1)\n",
    "X_train"
   ]
  },
  {
   "cell_type": "code",
   "execution_count": 161,
   "id": "6f7cf75e-625a-4f52-a26e-d0b0c9c89463",
   "metadata": {},
   "outputs": [
    {
     "data": {
      "text/plain": [
       "FREQ\n",
       "0.142857     141.038129\n",
       "0.285714     282.107794\n",
       "0.428571     453.491540\n",
       "0.571429     635.839325\n",
       "0.714286     787.683497\n",
       "0.857143    1009.247581\n",
       "1.000000    1433.528390\n",
       "Name: TOTAL_TURNOVER, dtype: float64"
      ]
     },
     "execution_count": 161,
     "metadata": {},
     "output_type": "execute_result"
    }
   ],
   "source": [
    "X_train.groupby('FREQ').TOTAL_TURNOVER.mean()"
   ]
  },
  {
   "cell_type": "code",
   "execution_count": 158,
   "id": "b81e7216-8e9e-4b37-b7f0-44a3f9fbe80e",
   "metadata": {},
   "outputs": [
    {
     "data": {
      "text/plain": [
       "<matplotlib.collections.PathCollection at 0x20879563d60>"
      ]
     },
     "execution_count": 158,
     "metadata": {},
     "output_type": "execute_result"
    },
    {
     "data": {
      "image/png": "[encoded data removed]",
      "text/plain": [
       "<Figure size 640x480 with 1 Axes>"
      ]
     },
     "metadata": {},
     "output_type": "display_data"
    }
   ],
   "source": [
    "plt.scatter(X_train['FREQ'], X_train['TOTAL_TURNOVER'])"
   ]
  },
  {
   "cell_type": "code",
   "execution_count": 134,
   "id": "dc191bb3-ee15-4832-b6fc-69564bea14ae",
   "metadata": {},
   "outputs": [],
   "source": [
    "import statsmodels.api as sm\n",
    "from statsmodels.tools.eval_measures import mse"
   ]
  },
  {
   "cell_type": "code",
   "execution_count": 135,
   "id": "cd4cd2b5-e879-491e-af25-38916c586de6",
   "metadata": {
    "tags": []
   },
   "outputs": [],
   "source": [
    "X = X_train.drop('TOTAL_TURNOVER', axis=1).to_numpy()\n",
    "y = X_train['TOTAL_TURNOVER'].to_numpy().reshape(-1,1)"
   ]
  },
  {
   "cell_type": "code",
   "execution_count": 136,
   "id": "d13d00b4-8145-463e-8be7-73c3da2f21a5",
   "metadata": {},
   "outputs": [
    {
     "data": {
      "text/html": [
       "<table class=\"simpletable\">\n",
       "<caption>OLS Regression Results</caption>\n",
       "<tr>\n",
       "  <th>Dep. Variable:</th>            <td>y</td>        <th>  R-squared:         </th>  <td>   0.435</td>  \n",
       "</tr>\n",
       "<tr>\n",
       "  <th>Model:</th>                   <td>OLS</td>       <th>  Adj. R-squared:    </th>  <td>   0.435</td>  \n",
       "</tr>\n",
       "<tr>\n",
       "  <th>Method:</th>             <td>Least Squares</td>  <th>  F-statistic:       </th>  <td>   6928.</td>  \n",
       "</tr>\n",
       "<tr>\n",
       "  <th>Date:</th>             <td>Thu, 22 Jun 2023</td> <th>  Prob (F-statistic):</th>   <td>  0.00</td>   \n",
       "</tr>\n",
       "<tr>\n",
       "  <th>Time:</th>                 <td>15:57:28</td>     <th>  Log-Likelihood:    </th> <td>-3.0732e+05</td>\n",
       "</tr>\n",
       "<tr>\n",
       "  <th>No. Observations:</th>      <td> 35984</td>      <th>  AIC:               </th>  <td>6.146e+05</td> \n",
       "</tr>\n",
       "<tr>\n",
       "  <th>Df Residuals:</th>          <td> 35979</td>      <th>  BIC:               </th>  <td>6.147e+05</td> \n",
       "</tr>\n",
       "<tr>\n",
       "  <th>Df Model:</th>              <td>     4</td>      <th>                     </th>      <td> </td>     \n",
       "</tr>\n",
       "<tr>\n",
       "  <th>Covariance Type:</th>      <td>nonrobust</td>    <th>                     </th>      <td> </td>     \n",
       "</tr>\n",
       "</table>\n",
       "<table class=\"simpletable\">\n",
       "<tr>\n",
       "    <td></td>       <th>coef</th>     <th>std err</th>      <th>t</th>      <th>P>|t|</th>  <th>[0.025</th>    <th>0.975]</th>  \n",
       "</tr>\n",
       "<tr>\n",
       "  <th>const</th> <td>   66.0040</td> <td>   12.518</td> <td>    5.273</td> <td> 0.000</td> <td>   41.468</td> <td>   90.540</td>\n",
       "</tr>\n",
       "<tr>\n",
       "  <th>x1</th>    <td>  213.5951</td> <td>   26.193</td> <td>    8.155</td> <td> 0.000</td> <td>  162.257</td> <td>  264.934</td>\n",
       "</tr>\n",
       "<tr>\n",
       "  <th>x2</th>    <td>    0.6847</td> <td>    0.004</td> <td>  153.687</td> <td> 0.000</td> <td>    0.676</td> <td>    0.693</td>\n",
       "</tr>\n",
       "<tr>\n",
       "  <th>x3</th>    <td>   -0.1209</td> <td>    0.040</td> <td>   -3.012</td> <td> 0.003</td> <td>   -0.200</td> <td>   -0.042</td>\n",
       "</tr>\n",
       "<tr>\n",
       "  <th>x4</th>    <td>  -71.5153</td> <td>   23.400</td> <td>   -3.056</td> <td> 0.002</td> <td> -117.381</td> <td>  -25.650</td>\n",
       "</tr>\n",
       "</table>\n",
       "<table class=\"simpletable\">\n",
       "<tr>\n",
       "  <th>Omnibus:</th>       <td>75375.730</td> <th>  Durbin-Watson:     </th>    <td>   2.001</td>   \n",
       "</tr>\n",
       "<tr>\n",
       "  <th>Prob(Omnibus):</th>  <td> 0.000</td>   <th>  Jarque-Bera (JB):  </th> <td>1412161971.474</td>\n",
       "</tr>\n",
       "<tr>\n",
       "  <th>Skew:</th>           <td>17.411</td>   <th>  Prob(JB):          </th>    <td>    0.00</td>   \n",
       "</tr>\n",
       "<tr>\n",
       "  <th>Kurtosis:</th>       <td>972.870</td>  <th>  Cond. No.          </th>    <td>7.11e+03</td>   \n",
       "</tr>\n",
       "</table><br/><br/>Notes:<br/>[1] Standard Errors assume that the covariance matrix of the errors is correctly specified.<br/>[2] The condition number is large, 7.11e+03. This might indicate that there are<br/>strong multicollinearity or other numerical problems."
      ],
      "text/plain": [
       "<class 'statsmodels.iolib.summary.Summary'>\n",
       "\"\"\"\n",
       "                            OLS Regression Results                            \n",
       "==============================================================================\n",
       "Dep. Variable:                      y   R-squared:                       0.435\n",
       "Model:                            OLS   Adj. R-squared:                  0.435\n",
       "Method:                 Least Squares   F-statistic:                     6928.\n",
       "Date:                Thu, 22 Jun 2023   Prob (F-statistic):               0.00\n",
       "Time:                        15:57:28   Log-Likelihood:            -3.0732e+05\n",
       "No. Observations:               35984   AIC:                         6.146e+05\n",
       "Df Residuals:                   35979   BIC:                         6.147e+05\n",
       "Df Model:                           4                                         \n",
       "Covariance Type:            nonrobust                                         \n",
       "==============================================================================\n",
       "                 coef    std err          t      P>|t|      [0.025      0.975]\n",
       "------------------------------------------------------------------------------\n",
       "const         66.0040     12.518      5.273      0.000      41.468      90.540\n",
       "x1           213.5951     26.193      8.155      0.000     162.257     264.934\n",
       "x2             0.6847      0.004    153.687      0.000       0.676       0.693\n",
       "x3            -0.1209      0.040     -3.012      0.003      -0.200      -0.042\n",
       "x4           -71.5153     23.400     -3.056      0.002    -117.381     -25.650\n",
       "==============================================================================\n",
       "Omnibus:                    75375.730   Durbin-Watson:                   2.001\n",
       "Prob(Omnibus):                  0.000   Jarque-Bera (JB):       1412161971.474\n",
       "Skew:                          17.411   Prob(JB):                         0.00\n",
       "Kurtosis:                     972.870   Cond. No.                     7.11e+03\n",
       "==============================================================================\n",
       "\n",
       "Notes:\n",
       "[1] Standard Errors assume that the covariance matrix of the errors is correctly specified.\n",
       "[2] The condition number is large, 7.11e+03. This might indicate that there are\n",
       "strong multicollinearity or other numerical problems.\n",
       "\"\"\""
      ]
     },
     "execution_count": 136,
     "metadata": {},
     "output_type": "execute_result"
    }
   ],
   "source": [
    "X = sm.add_constant(X)\n",
    "\n",
    "model = sm.OLS(y, X) \n",
    "results = model.fit()\n",
    "\n",
    "results.summary()"
   ]
  },
  {
   "cell_type": "code",
   "execution_count": 137,
   "id": "b485d6d6-4890-4915-89ea-7417ddd17bdf",
   "metadata": {},
   "outputs": [],
   "source": [
    "y_pred = results.predict(X)"
   ]
  },
  {
   "cell_type": "code",
   "execution_count": 143,
   "id": "8618da19-e054-43c5-a19a-e57445226c1b",
   "metadata": {},
   "outputs": [
    {
     "data": {
      "text/plain": [
       "array([1917.5,   50. ,   93.5, ...,   65. ,  625. ,   85. ])"
      ]
     },
     "execution_count": 143,
     "metadata": {},
     "output_type": "execute_result"
    }
   ],
   "source": [
    "y.flatten() "
   ]
  },
  {
   "cell_type": "code",
   "execution_count": 144,
   "id": "d6c91488-9c95-4237-9902-eb1c367a4e17",
   "metadata": {},
   "outputs": [
    {
     "data": {
      "text/plain": [
       "array([2488.73498587,  781.09323092,  236.14287492, ...,   96.73899534,\n",
       "        951.82341256,  131.78307357])"
      ]
     },
     "execution_count": 144,
     "metadata": {},
     "output_type": "execute_result"
    }
   ],
   "source": [
    "y_pred"
   ]
  },
  {
   "cell_type": "code",
   "execution_count": 146,
   "id": "1ed89323-3570-4a37-a392-d496fd2b6a2e",
   "metadata": {},
   "outputs": [
    {
     "data": {
      "text/plain": [
       "[<matplotlib.lines.Line2D at 0x208762e60e0>]"
      ]
     },
     "execution_count": 146,
     "metadata": {},
     "output_type": "execute_result"
    },
    {
     "data": {
      "image/png": "[encoded data removed]",
      "text/plain": [
       "<Figure size 640x480 with 1 Axes>"
      ]
     },
     "metadata": {},
     "output_type": "display_data"
    }
   ],
   "source": [
    "plt.plot(y.flatten()  - y_pred)"
   ]
  },
  {
   "cell_type": "code",
   "execution_count": 155,
   "id": "80e1c072-9c6f-4fc8-8693-ef0b82b672aa",
   "metadata": {},
   "outputs": [
    {
     "data": {
      "text/plain": [
       "1238.3239869417434"
      ]
     },
     "execution_count": 155,
     "metadata": {},
     "output_type": "execute_result"
    }
   ],
   "source": [
    "sum((y.flatten()  - y_pred)**2/35984)**0.5"
   ]
  },
  {
   "cell_type": "code",
   "execution_count": 156,
   "id": "0dcbc779-9ca1-438b-a8d1-25b36e99d914",
   "metadata": {},
   "outputs": [
    {
     "data": {
      "text/plain": [
       "1533446.2966352953"
      ]
     },
     "execution_count": 156,
     "metadata": {},
     "output_type": "execute_result"
    }
   ],
   "source": [
    "sum((y.flatten()  - y_pred)**2/35984)"
   ]
  },
  {
   "cell_type": "code",
   "execution_count": 148,
   "id": "4a5f7435-99fd-4da4-903c-860c6dce625b",
   "metadata": {},
   "outputs": [
    {
     "data": {
      "text/plain": [
       "511.874452812361"
      ]
     },
     "execution_count": 148,
     "metadata": {},
     "output_type": "execute_result"
    }
   ],
   "source": [
    "X_train['TOTAL_TURNOVER_7'].mean()"
   ]
  },
  {
   "cell_type": "code",
   "execution_count": 150,
   "id": "548c4e9b-7f29-46a2-bbb4-17762fd3844c",
   "metadata": {},
   "outputs": [
    {
     "data": {
      "text/plain": [
       "1569.9263492093514"
      ]
     },
     "execution_count": 150,
     "metadata": {},
     "output_type": "execute_result"
    }
   ],
   "source": [
    "var = X_train['TOTAL_TURNOVER_7'].var()\n",
    "var**0.5"
   ]
  },
  {
   "cell_type": "code",
   "execution_count": null,
   "id": "fb52b50f-e4e5-44b2-bc74-ee10a1c59e96",
   "metadata": {},
   "outputs": [],
   "source": []
  },
  {
   "cell_type": "code",
   "execution_count": null,
   "id": "a09562da-0660-4f65-b90a-e20b5696537c",
   "metadata": {},
   "outputs": [],
   "source": []
  },
  {
   "cell_type": "code",
   "execution_count": null,
   "id": "313f3440-e104-4ba1-97aa-c428302c0f97",
   "metadata": {},
   "outputs": [],
   "source": []
  },
  {
   "cell_type": "code",
   "execution_count": null,
   "id": "4811d9ad-a858-40b6-b062-b7ca309fdf39",
   "metadata": {},
   "outputs": [],
   "source": []
  },
  {
   "cell_type": "code",
   "execution_count": null,
   "id": "c6065dd0-ef97-46d8-a243-e3f920b8dae5",
   "metadata": {},
   "outputs": [],
   "source": []
  },
  {
   "cell_type": "code",
   "execution_count": null,
   "id": "8a88e401-75a3-46c0-8ba1-d899b96bfa57",
   "metadata": {},
   "outputs": [],
   "source": []
  },
  {
   "cell_type": "code",
   "execution_count": null,
   "id": "68f7e661-85e4-4718-983f-8c974e5b4745",
   "metadata": {},
   "outputs": [],
   "source": []
  },
  {
   "cell_type": "code",
   "execution_count": null,
   "id": "23788f27-92c3-4e31-a499-04d8e1987e31",
   "metadata": {},
   "outputs": [],
   "source": []
  },
  {
   "cell_type": "code",
   "execution_count": 79,
   "id": "bac23b4b-b423-4d0e-a162-fba85136b235",
   "metadata": {
    "tags": []
   },
   "outputs": [
    {
     "data": {
      "text/plain": [
       "<matplotlib.collections.PathCollection at 0x208638324a0>"
      ]
     },
     "execution_count": 79,
     "metadata": {},
     "output_type": "execute_result"
    },
    {
     "data": {
      "image/png": "[encoded data removed]",
      "text/plain": [
       "<Figure size 1600x500 with 2 Axes>"
      ]
     },
     "metadata": {},
     "output_type": "display_data"
    }
   ],
   "source": [
    "fig, ax = plt.subplots(1,2, figsize=(16,5))\n",
    "ax[0].scatter(X['TOTAL_TURNOVER_REAL'], X['TOTAL_TURNOVER_PRED'])\n",
    "ax[1].scatter(np.log(X['TOTAL_TURNOVER_REAL']), np.log(X['TOTAL_TURNOVER_PRED']))"
   ]
  },
  {
   "cell_type": "code",
   "execution_count": null,
   "id": "239446fd-3f0a-4d31-9976-1fb5a381a729",
   "metadata": {},
   "outputs": [],
   "source": []
  },
  {
   "cell_type": "code",
   "execution_count": null,
   "id": "69f51304-7bcc-4209-9de0-f10ab9825582",
   "metadata": {},
   "outputs": [],
   "source": []
  },
  {
   "cell_type": "code",
   "execution_count": null,
   "id": "4c5df247-10c1-426d-8fb2-8dfad7093ccb",
   "metadata": {},
   "outputs": [],
   "source": []
  },
  {
   "cell_type": "code",
   "execution_count": null,
   "id": "4f279ac9-b316-439b-9462-b9e8688e91fc",
   "metadata": {},
   "outputs": [],
   "source": []
  },
  {
   "cell_type": "code",
   "execution_count": null,
   "id": "a520c4cb-3ec4-4151-b7a0-cb7d976063e3",
   "metadata": {},
   "outputs": [],
   "source": []
  },
  {
   "cell_type": "code",
   "execution_count": null,
   "id": "14990622-233c-4868-8ea3-425e0e0ee3e4",
   "metadata": {},
   "outputs": [],
   "source": []
  }
 ],
 "metadata": {
  "kernelspec": {
   "display_name": "Python 3 (ipykernel)",
   "language": "python",
   "name": "python3"
  },
  "language_info": {
   "codemirror_mode": {
    "name": "ipython",
    "version": 3
   },
   "file_extension": ".py",
   "mimetype": "text/x-python",
   "name": "python",
   "nbconvert_exporter": "python",
   "pygments_lexer": "ipython3",
   "version": "3.10.9"
  }
 },
 "nbformat": 4,
 "nbformat_minor": 5
}
